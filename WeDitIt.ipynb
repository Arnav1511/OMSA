{
  "nbformat": 4,
  "nbformat_minor": 0,
  "metadata": {
    "colab": {
      "name": "WeDitIt.ipynb",
      "provenance": [],
      "include_colab_link": true
    },
    "kernelspec": {
      "name": "python3",
      "display_name": "Python 3"
    },
    "language_info": {
      "name": "python"
    }
  },
  "cells": [
    {
      "cell_type": "markdown",
      "metadata": {
        "id": "view-in-github",
        "colab_type": "text"
      },
      "source": [
        "<a href=\"https://colab.research.google.com/github/Arnav1511/OMSA/blob/main/WeDitIt.ipynb\" target=\"_parent\"><img src=\"https://colab.research.google.com/assets/colab-badge.svg\" alt=\"Open In Colab\"/></a>"
      ]
    },
    {
      "cell_type": "code",
      "metadata": {
        "colab": {
          "base_uri": "https://localhost:8080/"
        },
        "id": "xxAYlYss0n6I",
        "outputId": "319a2ea0-8ada-4eff-ddbc-2cb218bdca0a"
      },
      "source": [
        "from google.colab import drive\n",
        "drive.mount(\"/content/gdrive\")\n"
      ],
      "execution_count": 2,
      "outputs": [
        {
          "output_type": "stream",
          "name": "stdout",
          "text": [
            "Mounted at /content/gdrive\n"
          ]
        }
      ]
    },
    {
      "cell_type": "code",
      "metadata": {
        "id": "7ZVTauN47Wd3"
      },
      "source": [
        "import os\n",
        "os.environ['KAGGLE_CONFIG_DIR']='/content/gdrive/MyDrive/kaggle_dataset'"
      ],
      "execution_count": 3,
      "outputs": []
    },
    {
      "cell_type": "code",
      "metadata": {
        "colab": {
          "base_uri": "https://localhost:8080/"
        },
        "id": "x1PAWYlj7ZW_",
        "outputId": "1ee70756-14d9-469e-da7e-6b01462379f1"
      },
      "source": [
        "%cd /content/gdrive/MyDrive/kaggle_dataset"
      ],
      "execution_count": 4,
      "outputs": [
        {
          "output_type": "stream",
          "name": "stdout",
          "text": [
            "/content/gdrive/MyDrive/kaggle_dataset\n"
          ]
        }
      ]
    },
    {
      "cell_type": "code",
      "metadata": {
        "colab": {
          "base_uri": "https://localhost:8080/"
        },
        "id": "HGPE9peo7dkP",
        "outputId": "24bcdf89-eeb6-4091-ea7f-16ec4534945a"
      },
      "source": [
        "!ls\n"
      ],
      "execution_count": 5,
      "outputs": [
        {
          "output_type": "stream",
          "name": "stdout",
          "text": [
            "'Bigtech - 12-07-2020 till 19-09-2020'\n",
            "'Bigtech - 20-09-2020 till 13-10-2020.csv'\n",
            " big-tech-companies-tweet-sentiment.zip\n",
            " kaggle.json\n"
          ]
        }
      ]
    },
    {
      "cell_type": "code",
      "metadata": {
        "colab": {
          "base_uri": "https://localhost:8080/"
        },
        "id": "EpmV8x567oaG",
        "outputId": "a1bc975b-b2a9-473e-db31-552e33fbda21"
      },
      "source": [
        "!pwd\n"
      ],
      "execution_count": 6,
      "outputs": [
        {
          "output_type": "stream",
          "name": "stdout",
          "text": [
            "/content/gdrive/MyDrive/kaggle_dataset\n"
          ]
        }
      ]
    },
    {
      "cell_type": "code",
      "metadata": {
        "colab": {
          "base_uri": "https://localhost:8080/"
        },
        "id": "b5UgOpgY7q2C",
        "outputId": "64c4b377-cbc0-44ad-cc92-70af71859947"
      },
      "source": [
        "!kaggle datasets download -d wjia26/big-tech-companies-tweet-sentiment"
      ],
      "execution_count": 7,
      "outputs": [
        {
          "output_type": "stream",
          "name": "stdout",
          "text": [
            "big-tech-companies-tweet-sentiment.zip: Skipping, found more recently modified local copy (use --force to force download)\n"
          ]
        }
      ]
    },
    {
      "cell_type": "code",
      "metadata": {
        "colab": {
          "base_uri": "https://localhost:8080/"
        },
        "id": "LVABHJk479xO",
        "outputId": "7604b965-d29c-4574-ebaa-ae9cbfa36dba"
      },
      "source": [
        "!ls"
      ],
      "execution_count": 8,
      "outputs": [
        {
          "output_type": "stream",
          "name": "stdout",
          "text": [
            "'Bigtech - 12-07-2020 till 19-09-2020'\n",
            "'Bigtech - 20-09-2020 till 13-10-2020.csv'\n",
            " big-tech-companies-tweet-sentiment.zip\n",
            " kaggle.json\n"
          ]
        }
      ]
    },
    {
      "cell_type": "code",
      "metadata": {
        "colab": {
          "base_uri": "https://localhost:8080/"
        },
        "id": "F1fMmxjw8DK7",
        "outputId": "2ebf0304-f642-414d-9adf-d43f09dc4582"
      },
      "source": [
        "!unzip /content/gdrive/MyDrive/kaggle_dataset/big-tech-companies-tweet-sentiment.zip"
      ],
      "execution_count": 9,
      "outputs": [
        {
          "output_type": "stream",
          "name": "stdout",
          "text": [
            "Archive:  /content/gdrive/MyDrive/kaggle_dataset/big-tech-companies-tweet-sentiment.zip\n",
            "replace Bigtech - 12-07-2020 till 19-09-2020/Bigtech - 12-07-2020 till 19-09-2020.csv? [y]es, [n]o, [A]ll, [N]one, [r]ename: "
          ]
        }
      ]
    },
    {
      "cell_type": "code",
      "metadata": {
        "colab": {
          "base_uri": "https://localhost:8080/"
        },
        "id": "jUkxbv_Z8Ggg",
        "outputId": "908067a7-514a-4946-c56d-9b6538a487f4"
      },
      "source": [
        "!ls\n"
      ],
      "execution_count": 10,
      "outputs": [
        {
          "output_type": "stream",
          "name": "stdout",
          "text": [
            "'Bigtech - 12-07-2020 till 19-09-2020'\n",
            "'Bigtech - 20-09-2020 till 13-10-2020.csv'\n",
            " big-tech-companies-tweet-sentiment.zip\n",
            " kaggle.json\n"
          ]
        }
      ]
    },
    {
      "cell_type": "code",
      "metadata": {
        "colab": {
          "base_uri": "https://localhost:8080/"
        },
        "id": "RLdqager8JGk",
        "outputId": "84bb6363-23dd-4549-9bad-57a198784856"
      },
      "source": [
        "%cd Bigtech - 12-07-2020 till 19-09-2020"
      ],
      "execution_count": 37,
      "outputs": [
        {
          "output_type": "stream",
          "name": "stdout",
          "text": [
            "[Errno 2] No such file or directory: 'Bigtech - 12-07-2020 till 19-09-2020'\n",
            "/content/gdrive/My Drive/kaggle_dataset/Bigtech - 12-07-2020 till 19-09-2020\n"
          ]
        }
      ]
    },
    {
      "cell_type": "code",
      "metadata": {
        "colab": {
          "base_uri": "https://localhost:8080/"
        },
        "id": "Z8-Mk1pEyRCM",
        "outputId": "79c90030-c6fe-40f2-ac96-a7f11bc3673d"
      },
      "source": [
        "%cd .."
      ],
      "execution_count": 38,
      "outputs": [
        {
          "output_type": "stream",
          "name": "stdout",
          "text": [
            "/content/gdrive/My Drive/kaggle_dataset\n"
          ]
        }
      ]
    },
    {
      "cell_type": "code",
      "metadata": {
        "colab": {
          "base_uri": "https://localhost:8080/"
        },
        "id": "Kw43uRDP8R8m",
        "outputId": "8fbdb2a6-ecfe-4d54-8216-5353617fe9f1"
      },
      "source": [
        "!ls"
      ],
      "execution_count": 39,
      "outputs": [
        {
          "output_type": "stream",
          "name": "stdout",
          "text": [
            "'Bigtech - 12-07-2020 till 19-09-2020'\n",
            "'Bigtech - 20-09-2020 till 13-10-2020.csv'\n",
            " big-tech-companies-tweet-sentiment.zip\n",
            " kaggle.json\n"
          ]
        }
      ]
    },
    {
      "cell_type": "code",
      "metadata": {
        "id": "k6suY8f98UGu"
      },
      "source": [
        "import pandas as pd\n",
        "df=pd.read_csv(\"Bigtech - 20-09-2020 till 13-10-2020.csv\")\n"
      ],
      "execution_count": 40,
      "outputs": []
    },
    {
      "cell_type": "code",
      "metadata": {
        "colab": {
          "base_uri": "https://localhost:8080/"
        },
        "id": "v0XFHAQL8dGb",
        "outputId": "259b65f5-1b18-4d8e-805d-0cc0968a3bc4"
      },
      "source": [
        "df.shape"
      ],
      "execution_count": 41,
      "outputs": [
        {
          "output_type": "execute_result",
          "data": {
            "text/plain": [
              "(266095, 15)"
            ]
          },
          "metadata": {},
          "execution_count": 41
        }
      ]
    },
    {
      "cell_type": "code",
      "metadata": {
        "colab": {
          "base_uri": "https://localhost:8080/"
        },
        "id": "mJndR-2P8hHX",
        "outputId": "5339ecd9-499e-43db-f31b-0a2eefbbbbac"
      },
      "source": [
        "df.columns"
      ],
      "execution_count": 42,
      "outputs": [
        {
          "output_type": "execute_result",
          "data": {
            "text/plain": [
              "Index(['created_at', 'file_name', 'followers', 'friends', 'group_name',\n",
              "       'location', 'retweet_count', 'screenname', 'search_query', 'text',\n",
              "       'twitter_id', 'username', 'polarity', 'partition_0', 'partition_1'],\n",
              "      dtype='object')"
            ]
          },
          "metadata": {},
          "execution_count": 42
        }
      ]
    },
    {
      "cell_type": "code",
      "metadata": {
        "id": "H0dpfhlo9S7g",
        "colab": {
          "base_uri": "https://localhost:8080/",
          "height": 947
        },
        "outputId": "3e11c8de-2fd8-4450-d1b1-f6cf5df3470f"
      },
      "source": [
        "df.head(150)"
      ],
      "execution_count": 44,
      "outputs": [
        {
          "output_type": "execute_result",
          "data": {
            "text/html": [
              "<div>\n",
              "<style scoped>\n",
              "    .dataframe tbody tr th:only-of-type {\n",
              "        vertical-align: middle;\n",
              "    }\n",
              "\n",
              "    .dataframe tbody tr th {\n",
              "        vertical-align: top;\n",
              "    }\n",
              "\n",
              "    .dataframe thead th {\n",
              "        text-align: right;\n",
              "    }\n",
              "</style>\n",
              "<table border=\"1\" class=\"dataframe\">\n",
              "  <thead>\n",
              "    <tr style=\"text-align: right;\">\n",
              "      <th></th>\n",
              "      <th>created_at</th>\n",
              "      <th>file_name</th>\n",
              "      <th>followers</th>\n",
              "      <th>friends</th>\n",
              "      <th>group_name</th>\n",
              "      <th>location</th>\n",
              "      <th>retweet_count</th>\n",
              "      <th>screenname</th>\n",
              "      <th>search_query</th>\n",
              "      <th>text</th>\n",
              "      <th>twitter_id</th>\n",
              "      <th>username</th>\n",
              "      <th>polarity</th>\n",
              "      <th>partition_0</th>\n",
              "      <th>partition_1</th>\n",
              "    </tr>\n",
              "  </thead>\n",
              "  <tbody>\n",
              "    <tr>\n",
              "      <th>0</th>\n",
              "      <td>2020-10-05 08:44:25</td>\n",
              "      <td>Nvidia</td>\n",
              "      <td>41</td>\n",
              "      <td>410</td>\n",
              "      <td>Nvidia</td>\n",
              "      <td>sydney</td>\n",
              "      <td>0</td>\n",
              "      <td>jyolyu</td>\n",
              "      <td>#Nvidia</td>\n",
              "      <td>#NVIDIA #GauGAN is actually a good tool to pra...</td>\n",
              "      <td>1313037313635565568</td>\n",
              "      <td>N0%Ice</td>\n",
              "      <td>0.4404</td>\n",
              "      <td>Technology</td>\n",
              "      <td>Nvidia</td>\n",
              "    </tr>\n",
              "    <tr>\n",
              "      <th>1</th>\n",
              "      <td>2020-10-05 08:44:03</td>\n",
              "      <td>Nvidia</td>\n",
              "      <td>367</td>\n",
              "      <td>267</td>\n",
              "      <td>Nvidia</td>\n",
              "      <td>PARIS</td>\n",
              "      <td>0</td>\n",
              "      <td>MiClaverie</td>\n",
              "      <td>#Nvidia</td>\n",
              "      <td>#BullSequana X2415, the first #supercomputer b...</td>\n",
              "      <td>1313037222422118400</td>\n",
              "      <td>Michèle Claverie</td>\n",
              "      <td>0.0000</td>\n",
              "      <td>Technology</td>\n",
              "      <td>Nvidia</td>\n",
              "    </tr>\n",
              "    <tr>\n",
              "      <th>2</th>\n",
              "      <td>2020-10-05 08:41:35</td>\n",
              "      <td>Nvidia</td>\n",
              "      <td>14</td>\n",
              "      <td>104</td>\n",
              "      <td>Nvidia</td>\n",
              "      <td>Japan</td>\n",
              "      <td>0</td>\n",
              "      <td>_stingraze</td>\n",
              "      <td>#Nvidia</td>\n",
              "      <td>I'm going to attend GTC 2020 tonight! Excited....</td>\n",
              "      <td>1313036602675916802</td>\n",
              "      <td>Tsubasa Kato</td>\n",
              "      <td>0.4003</td>\n",
              "      <td>Technology</td>\n",
              "      <td>Nvidia</td>\n",
              "    </tr>\n",
              "    <tr>\n",
              "      <th>3</th>\n",
              "      <td>2020-10-05 08:28:11</td>\n",
              "      <td>Nvidia</td>\n",
              "      <td>18286</td>\n",
              "      <td>941</td>\n",
              "      <td>Nvidia</td>\n",
              "      <td>NaN</td>\n",
              "      <td>0</td>\n",
              "      <td>gamingonlinux</td>\n",
              "      <td>#Nvidia</td>\n",
              "      <td>#NVIDIA delays launch of #GeForce RTX 3070 unt...</td>\n",
              "      <td>1313033229201477634</td>\n",
              "      <td>GamingOnLinux 🐧</td>\n",
              "      <td>0.0000</td>\n",
              "      <td>Technology</td>\n",
              "      <td>Nvidia</td>\n",
              "    </tr>\n",
              "    <tr>\n",
              "      <th>4</th>\n",
              "      <td>2020-10-05 08:18:05</td>\n",
              "      <td>Nvidia</td>\n",
              "      <td>42</td>\n",
              "      <td>84</td>\n",
              "      <td>Nvidia</td>\n",
              "      <td>Paris, France</td>\n",
              "      <td>0</td>\n",
              "      <td>anupdshetty</td>\n",
              "      <td>#Nvidia</td>\n",
              "      <td>#BullSequana X2415, the first #supercomputer b...</td>\n",
              "      <td>1313030688338317312</td>\n",
              "      <td>Anup Shetty</td>\n",
              "      <td>0.0000</td>\n",
              "      <td>Technology</td>\n",
              "      <td>Nvidia</td>\n",
              "    </tr>\n",
              "    <tr>\n",
              "      <th>...</th>\n",
              "      <td>...</td>\n",
              "      <td>...</td>\n",
              "      <td>...</td>\n",
              "      <td>...</td>\n",
              "      <td>...</td>\n",
              "      <td>...</td>\n",
              "      <td>...</td>\n",
              "      <td>...</td>\n",
              "      <td>...</td>\n",
              "      <td>...</td>\n",
              "      <td>...</td>\n",
              "      <td>...</td>\n",
              "      <td>...</td>\n",
              "      <td>...</td>\n",
              "      <td>...</td>\n",
              "    </tr>\n",
              "    <tr>\n",
              "      <th>145</th>\n",
              "      <td>2020-09-22 10:19:48</td>\n",
              "      <td>Nvidia</td>\n",
              "      <td>6348</td>\n",
              "      <td>781</td>\n",
              "      <td>Nvidia</td>\n",
              "      <td>Sunnyvale, CA</td>\n",
              "      <td>1</td>\n",
              "      <td>Tickeron</td>\n",
              "      <td>#Nvidia</td>\n",
              "      <td>$NVDA's in Downtrend: Moving Average Convergen...</td>\n",
              "      <td>1308350274906386433</td>\n",
              "      <td>Tickeron</td>\n",
              "      <td>-0.5719</td>\n",
              "      <td>Technology</td>\n",
              "      <td>Nvidia</td>\n",
              "    </tr>\n",
              "    <tr>\n",
              "      <th>146</th>\n",
              "      <td>2020-09-22 10:19:06</td>\n",
              "      <td>Nvidia</td>\n",
              "      <td>345</td>\n",
              "      <td>902</td>\n",
              "      <td>Nvidia</td>\n",
              "      <td>San Jose, CA</td>\n",
              "      <td>4</td>\n",
              "      <td>CRATUSTECH</td>\n",
              "      <td>#Nvidia</td>\n",
              "      <td>This article sums up what @CRATUSTECH does... ...</td>\n",
              "      <td>1308350100930920455</td>\n",
              "      <td>CRATUS Technology, Inc.</td>\n",
              "      <td>0.4939</td>\n",
              "      <td>Technology</td>\n",
              "      <td>Nvidia</td>\n",
              "    </tr>\n",
              "    <tr>\n",
              "      <th>147</th>\n",
              "      <td>2020-09-22 10:11:58</td>\n",
              "      <td>Nvidia</td>\n",
              "      <td>12</td>\n",
              "      <td>207</td>\n",
              "      <td>Nvidia</td>\n",
              "      <td>Maharashtra, India</td>\n",
              "      <td>0</td>\n",
              "      <td>DivyanshuWagh</td>\n",
              "      <td>#Nvidia</td>\n",
              "      <td>I hope you enjoy the video please do support m...</td>\n",
              "      <td>1308348303499698176</td>\n",
              "      <td>divyanshu wagh</td>\n",
              "      <td>0.9457</td>\n",
              "      <td>Technology</td>\n",
              "      <td>Nvidia</td>\n",
              "    </tr>\n",
              "    <tr>\n",
              "      <th>148</th>\n",
              "      <td>2020-09-22 09:51:14</td>\n",
              "      <td>Nvidia</td>\n",
              "      <td>19</td>\n",
              "      <td>38</td>\n",
              "      <td>Nvidia</td>\n",
              "      <td>NaN</td>\n",
              "      <td>0</td>\n",
              "      <td>TheAvgPlays</td>\n",
              "      <td>#Nvidia</td>\n",
              "      <td>RTX 2080Ti owners when RTX 3070 was announced....</td>\n",
              "      <td>1308343088012812288</td>\n",
              "      <td>Vidhu Sharma</td>\n",
              "      <td>0.0000</td>\n",
              "      <td>Technology</td>\n",
              "      <td>Nvidia</td>\n",
              "    </tr>\n",
              "    <tr>\n",
              "      <th>149</th>\n",
              "      <td>2020-09-22 09:22:08</td>\n",
              "      <td>Nvidia</td>\n",
              "      <td>64</td>\n",
              "      <td>30</td>\n",
              "      <td>Nvidia</td>\n",
              "      <td>Chandler, AZ</td>\n",
              "      <td>0</td>\n",
              "      <td>LucianoZoso</td>\n",
              "      <td>#Nvidia</td>\n",
              "      <td>Li Auto adopts #Nvidia ‘s autonomous driving s...</td>\n",
              "      <td>1308335764896243714</td>\n",
              "      <td>Luciano Zoso</td>\n",
              "      <td>0.5267</td>\n",
              "      <td>Technology</td>\n",
              "      <td>Nvidia</td>\n",
              "    </tr>\n",
              "  </tbody>\n",
              "</table>\n",
              "<p>150 rows × 15 columns</p>\n",
              "</div>"
            ],
            "text/plain": [
              "              created_at file_name  followers  ...  polarity partition_0 partition_1\n",
              "0    2020-10-05 08:44:25    Nvidia         41  ...    0.4404  Technology      Nvidia\n",
              "1    2020-10-05 08:44:03    Nvidia        367  ...    0.0000  Technology      Nvidia\n",
              "2    2020-10-05 08:41:35    Nvidia         14  ...    0.4003  Technology      Nvidia\n",
              "3    2020-10-05 08:28:11    Nvidia      18286  ...    0.0000  Technology      Nvidia\n",
              "4    2020-10-05 08:18:05    Nvidia         42  ...    0.0000  Technology      Nvidia\n",
              "..                   ...       ...        ...  ...       ...         ...         ...\n",
              "145  2020-09-22 10:19:48    Nvidia       6348  ...   -0.5719  Technology      Nvidia\n",
              "146  2020-09-22 10:19:06    Nvidia        345  ...    0.4939  Technology      Nvidia\n",
              "147  2020-09-22 10:11:58    Nvidia         12  ...    0.9457  Technology      Nvidia\n",
              "148  2020-09-22 09:51:14    Nvidia         19  ...    0.0000  Technology      Nvidia\n",
              "149  2020-09-22 09:22:08    Nvidia         64  ...    0.5267  Technology      Nvidia\n",
              "\n",
              "[150 rows x 15 columns]"
            ]
          },
          "metadata": {},
          "execution_count": 44
        }
      ]
    },
    {
      "cell_type": "code",
      "metadata": {
        "colab": {
          "base_uri": "https://localhost:8080/"
        },
        "id": "bo6XUObNsN9o",
        "outputId": "50703f97-f71f-4ef5-fcd8-dbca58af96c0"
      },
      "source": [
        "tweet=df.text.values\n",
        "print(tweet)"
      ],
      "execution_count": 46,
      "outputs": [
        {
          "output_type": "stream",
          "name": "stdout",
          "text": [
            "['#NVIDIA #GauGAN is actually a good tool to practice composition/framing? https://t.co/CJyec1kNU1'\n",
            " '#BullSequana X2415, the first #supercomputer blade server in Europe to integrate #NVIDIA’s Ampere next-generation graphics processing unit architecture, the NVIDIA A100 Tensor Core #GPU s.  Read more ▶ https://t.co/5HXnY4IoJ5 Atos is sponsor at #Nvidia #GTC20 Digital https://t.co/KSd2CmfsUH'\n",
            " \"I'm going to attend GTC 2020 tonight! Excited. #Nvidia #GTC20\" ...\n",
            " 'NEW VIDEO!!   FRIEND v FRIEND CHALLENGE!!   https://t.co/dOrH0MRRNi   #friendvfriend #friends #challenge #challenger #youtube #YouTuber #twitch #TwitchStreamers'\n",
            " '‼️NEW VIDEO‼️ Films inspired by Jodorowskys Dune  REACTION 💥  YouTube: Those 2! REACTION  * HERE’S OUR VIDEO: https://t.co/f0wKQQ2Wpe * #youtube #those2 #those2reacts #reaction #subscribe #supportblackcreators #contentcreators #share #couple #dune #filmsinspiredbydune https://t.co/ismHqfBjtr'\n",
            " '‼️NEW VIDEO‼️ Films inspired by Jodorowskys Dune  REACTION 💥  YouTube: Those 2! REACTION  * HERE’S OUR VIDEO: https://t.co/f0wKQQ2Wpe * #youtube #those2 #those2reacts #reaction #subscribe #supportblackcreators #contentcreators #share #couple #dune #filmsinspiredbydune https://t.co/6uEP2KmGrz']\n"
          ]
        }
      ]
    },
    {
      "cell_type": "code",
      "metadata": {
        "colab": {
          "base_uri": "https://localhost:8080/"
        },
        "id": "iUyj3lPTwH6A",
        "outputId": "20ed5c37-4faf-41f4-a6ba-4104783e3a3c"
      },
      "source": [
        "import nltk \n",
        "from nltk.tokenize import RegexpTokenizer #to remove punctuations and tokenize the text\n",
        "from nltk.corpus import stopwords # to remove the stop words after tokenization\n",
        "nltk.download('stopwords')\n",
        "nltk.download('punkt')"
      ],
      "execution_count": 53,
      "outputs": [
        {
          "output_type": "stream",
          "name": "stdout",
          "text": [
            "[nltk_data] Downloading package stopwords to /root/nltk_data...\n",
            "[nltk_data]   Unzipping corpora/stopwords.zip.\n",
            "[nltk_data] Downloading package punkt to /root/nltk_data...\n",
            "[nltk_data]   Package punkt is already up-to-date!\n"
          ]
        },
        {
          "output_type": "execute_result",
          "data": {
            "text/plain": [
              "True"
            ]
          },
          "metadata": {},
          "execution_count": 53
        }
      ]
    },
    {
      "cell_type": "code",
      "metadata": {
        "colab": {
          "base_uri": "https://localhost:8080/"
        },
        "id": "YAmyK6RuwNQH",
        "outputId": "495388ba-2d1b-4902-892b-ce5096e59ec9"
      },
      "source": [
        "import re\n",
        "\n",
        "text=tweet[200]\n",
        "print(text)\n",
        "\n",
        "#pattern for URL remove\n",
        "pattern=r'(?i)\\b((?:[a-z][\\w-]+:(?:/{1,3}|[a-z0-9%])|www\\d{0,3}[.]|[a-z0-9.\\-]+[.][a-z]{2,4}/)(?:[^\\s()<>]+|\\(([^\\s()<>]+|(\\([^\\s()<>]+\\)))*\\))+(?:\\(([^\\s()<>]+|(\\([^\\s()<>]+\\)))*\\)|[^\\s`!()\\[\\]{};:\\'\".,<>?«»“”‘’]))'; \n",
        "\n",
        "#getting all the URLs from string\n",
        "match=re.findall(pattern,text)\n",
        "print(match)\n",
        "\n",
        "#removing all the URLs\n",
        "for m in match:\n",
        "    url = m[0]\n",
        "    text = text.replace(url, '')\n",
        "\n",
        "print(text)"
      ],
      "execution_count": 60,
      "outputs": [
        {
          "output_type": "stream",
          "name": "stdout",
          "text": [
            "#NVIDIAGeForce #NVIDIA crashed after updating the last driver. BSOD and driver failure. 2070 super\n",
            "[]\n",
            "#NVIDIAGeForce #NVIDIA crashed after updating the last driver. BSOD and driver failure. 2070 super\n"
          ]
        }
      ]
    },
    {
      "cell_type": "code",
      "metadata": {
        "colab": {
          "base_uri": "https://localhost:8080/"
        },
        "id": "3fFVClx33iMD",
        "outputId": "9177d878-13ee-4d1e-abe2-0f4a11f75251"
      },
      "source": [
        "stop_words=set(stopwords.words('english')) #get all stop words\n",
        "\n",
        "tokenizer = RegexpTokenizer(r\"\\w+\")\n",
        "lst=tokenizer.tokenize(text)\n",
        "\n",
        "filtered=[w for w in lst if not w.lower() in stop_words] #if word is in stopwords\n",
        "print(filtered)"
      ],
      "execution_count": 61,
      "outputs": [
        {
          "output_type": "stream",
          "name": "stdout",
          "text": [
            "['NVIDIAGeForce', 'NVIDIA', 'crashed', 'updating', 'last', 'driver', 'BSOD', 'driver', 'failure', '2070', 'super']\n"
          ]
        }
      ]
    },
    {
      "cell_type": "code",
      "metadata": {
        "colab": {
          "base_uri": "https://localhost:8080/"
        },
        "id": "gkAivEIz2P8U",
        "outputId": "76b5f376-089f-4490-b00a-3a6a10b240d5"
      },
      "source": [
        "def cleanText(text):\n",
        "    text=re.sub(r'@[A-Za-z0-9]+','',text) #remove mentions\n",
        "    text=re.sub(r'#','',text) #remove hashtags\n",
        "    return text\n",
        "\n",
        "print(cleanText(text))\n",
        "\n"
      ],
      "execution_count": 63,
      "outputs": [
        {
          "output_type": "stream",
          "name": "stdout",
          "text": [
            "NVIDIAGeForce NVIDIA crashed after updating the last driver. BSOD and driver failure. 2070 super\n"
          ]
        }
      ]
    },
    {
      "cell_type": "code",
      "metadata": {
        "id": "i1gRkXbXy4hZ"
      },
      "source": [
        "from textblob import TextBlob\n",
        "\n",
        "def getSubjectivity(text):\n",
        "    return TextBlob(text).sentiment.subjectivity\n",
        "\n",
        "def getPolarity(text):\n",
        "    return TextBlob(text).sentiment.polarity\n",
        "\n",
        "\n",
        "df['Subjectivity']=df['text'].apply(getSubjectivity)\n",
        "df['NewPolarity']=df['text'].apply(getPolarity)\n"
      ],
      "execution_count": 73,
      "outputs": []
    },
    {
      "cell_type": "code",
      "metadata": {
        "colab": {
          "base_uri": "https://localhost:8080/",
          "height": 1000
        },
        "id": "HT0p36UPBZNR",
        "outputId": "ebf26d4d-66a0-4686-a4b3-f9031f27d17d"
      },
      "source": [
        "df[['file_name', 'text', 'Subjectivity', 'NewPolarity']].head(50)\n"
      ],
      "execution_count": 81,
      "outputs": [
        {
          "output_type": "execute_result",
          "data": {
            "text/html": [
              "<div>\n",
              "<style scoped>\n",
              "    .dataframe tbody tr th:only-of-type {\n",
              "        vertical-align: middle;\n",
              "    }\n",
              "\n",
              "    .dataframe tbody tr th {\n",
              "        vertical-align: top;\n",
              "    }\n",
              "\n",
              "    .dataframe thead th {\n",
              "        text-align: right;\n",
              "    }\n",
              "</style>\n",
              "<table border=\"1\" class=\"dataframe\">\n",
              "  <thead>\n",
              "    <tr style=\"text-align: right;\">\n",
              "      <th></th>\n",
              "      <th>file_name</th>\n",
              "      <th>text</th>\n",
              "      <th>Subjectivity</th>\n",
              "      <th>NewPolarity</th>\n",
              "    </tr>\n",
              "  </thead>\n",
              "  <tbody>\n",
              "    <tr>\n",
              "      <th>0</th>\n",
              "      <td>Nvidia</td>\n",
              "      <td>#NVIDIA #GauGAN is actually a good tool to pra...</td>\n",
              "      <td>0.600000</td>\n",
              "      <td>0.700000</td>\n",
              "    </tr>\n",
              "    <tr>\n",
              "      <th>1</th>\n",
              "      <td>Nvidia</td>\n",
              "      <td>#BullSequana X2415, the first #supercomputer b...</td>\n",
              "      <td>0.277778</td>\n",
              "      <td>0.250000</td>\n",
              "    </tr>\n",
              "    <tr>\n",
              "      <th>2</th>\n",
              "      <td>Nvidia</td>\n",
              "      <td>I'm going to attend GTC 2020 tonight! Excited....</td>\n",
              "      <td>0.750000</td>\n",
              "      <td>0.375000</td>\n",
              "    </tr>\n",
              "    <tr>\n",
              "      <th>3</th>\n",
              "      <td>Nvidia</td>\n",
              "      <td>#NVIDIA delays launch of #GeForce RTX 3070 unt...</td>\n",
              "      <td>0.000000</td>\n",
              "      <td>0.000000</td>\n",
              "    </tr>\n",
              "    <tr>\n",
              "      <th>4</th>\n",
              "      <td>Nvidia</td>\n",
              "      <td>#BullSequana X2415, the first #supercomputer b...</td>\n",
              "      <td>0.277778</td>\n",
              "      <td>0.250000</td>\n",
              "    </tr>\n",
              "    <tr>\n",
              "      <th>5</th>\n",
              "      <td>Nvidia</td>\n",
              "      <td>#BullSequana X2415, the first #supercomputer b...</td>\n",
              "      <td>0.277778</td>\n",
              "      <td>0.250000</td>\n",
              "    </tr>\n",
              "    <tr>\n",
              "      <th>6</th>\n",
              "      <td>Nvidia</td>\n",
              "      <td>Today, don’t miss the World’s largest #AI conf...</td>\n",
              "      <td>0.000000</td>\n",
              "      <td>0.000000</td>\n",
              "    </tr>\n",
              "    <tr>\n",
              "      <th>7</th>\n",
              "      <td>Nvidia</td>\n",
              "      <td>#BullSequana X2415, the first #supercomputer b...</td>\n",
              "      <td>0.277778</td>\n",
              "      <td>0.250000</td>\n",
              "    </tr>\n",
              "    <tr>\n",
              "      <th>8</th>\n",
              "      <td>Nvidia</td>\n",
              "      <td>#BullSequana X2415, the first #supercomputer b...</td>\n",
              "      <td>0.277778</td>\n",
              "      <td>0.250000</td>\n",
              "    </tr>\n",
              "    <tr>\n",
              "      <th>9</th>\n",
              "      <td>Nvidia</td>\n",
              "      <td>NVIDIA GeForce RTX 30 Series – Top Facts &amp;amp;...</td>\n",
              "      <td>0.633333</td>\n",
              "      <td>0.033333</td>\n",
              "    </tr>\n",
              "    <tr>\n",
              "      <th>10</th>\n",
              "      <td>Nvidia</td>\n",
              "      <td>@WhySoGamerChris @HarryRedknapp In a bizarre t...</td>\n",
              "      <td>0.550649</td>\n",
              "      <td>0.090909</td>\n",
              "    </tr>\n",
              "    <tr>\n",
              "      <th>11</th>\n",
              "      <td>Nvidia</td>\n",
              "      <td>📸 #PhotoModeMonday  MAN'S ROAD ☁️  🎵 https://t...</td>\n",
              "      <td>0.000000</td>\n",
              "      <td>0.000000</td>\n",
              "    </tr>\n",
              "    <tr>\n",
              "      <th>12</th>\n",
              "      <td>Nvidia</td>\n",
              "      <td>Hardware Utilization of VividSparks Products. ...</td>\n",
              "      <td>0.000000</td>\n",
              "      <td>0.000000</td>\n",
              "    </tr>\n",
              "    <tr>\n",
              "      <th>13</th>\n",
              "      <td>Nvidia</td>\n",
              "      <td>Some news: The #nvidia RTX 3070 has been delay...</td>\n",
              "      <td>0.625000</td>\n",
              "      <td>0.437500</td>\n",
              "    </tr>\n",
              "    <tr>\n",
              "      <th>14</th>\n",
              "      <td>Nvidia</td>\n",
              "      <td>Hello everyone! I am excited to announce that ...</td>\n",
              "      <td>0.750000</td>\n",
              "      <td>0.375000</td>\n",
              "    </tr>\n",
              "    <tr>\n",
              "      <th>15</th>\n",
              "      <td>Nvidia</td>\n",
              "      <td>#BullSequana X2415, the first #supercomputer b...</td>\n",
              "      <td>0.277778</td>\n",
              "      <td>0.250000</td>\n",
              "    </tr>\n",
              "    <tr>\n",
              "      <th>16</th>\n",
              "      <td>Nvidia</td>\n",
              "      <td>#BullSequana X2415, the first #supercomputer b...</td>\n",
              "      <td>0.277778</td>\n",
              "      <td>0.250000</td>\n",
              "    </tr>\n",
              "    <tr>\n",
              "      <th>17</th>\n",
              "      <td>Nvidia</td>\n",
              "      <td>Analytics Drift will be covering the NVIDIA GT...</td>\n",
              "      <td>0.300000</td>\n",
              "      <td>1.000000</td>\n",
              "    </tr>\n",
              "    <tr>\n",
              "      <th>18</th>\n",
              "      <td>Nvidia</td>\n",
              "      <td>#BullSequana X2415, the first #supercomputer b...</td>\n",
              "      <td>0.277778</td>\n",
              "      <td>0.250000</td>\n",
              "    </tr>\n",
              "    <tr>\n",
              "      <th>19</th>\n",
              "      <td>Nvidia</td>\n",
              "      <td>So #nvidia broadcast is like, the raddest thin...</td>\n",
              "      <td>0.850000</td>\n",
              "      <td>-0.500000</td>\n",
              "    </tr>\n",
              "    <tr>\n",
              "      <th>20</th>\n",
              "      <td>Nvidia</td>\n",
              "      <td>#StradVision has been selected as the top AI s...</td>\n",
              "      <td>0.633333</td>\n",
              "      <td>0.541667</td>\n",
              "    </tr>\n",
              "    <tr>\n",
              "      <th>21</th>\n",
              "      <td>Nvidia</td>\n",
              "      <td>@AMD @AMDGaming @AMDFX ff @AMD kick @nvidia @N...</td>\n",
              "      <td>0.333333</td>\n",
              "      <td>-0.333333</td>\n",
              "    </tr>\n",
              "    <tr>\n",
              "      <th>22</th>\n",
              "      <td>Nvidia</td>\n",
              "      <td>Ryzen 9 3900X/ RX 5700 XT/ 32 GB OF RAM. Start...</td>\n",
              "      <td>0.533333</td>\n",
              "      <td>0.275000</td>\n",
              "    </tr>\n",
              "    <tr>\n",
              "      <th>23</th>\n",
              "      <td>Nvidia</td>\n",
              "      <td>Fight With NVIDIA! AMD’s New Flagship Card Cor...</td>\n",
              "      <td>0.393939</td>\n",
              "      <td>0.193182</td>\n",
              "    </tr>\n",
              "    <tr>\n",
              "      <th>24</th>\n",
              "      <td>Nvidia</td>\n",
              "      <td>Hi All, Please find Security Chronicle's Weekl...</td>\n",
              "      <td>0.000000</td>\n",
              "      <td>0.000000</td>\n",
              "    </tr>\n",
              "    <tr>\n",
              "      <th>25</th>\n",
              "      <td>Nvidia</td>\n",
              "      <td>Imaginaire comprises of optimized implementati...</td>\n",
              "      <td>0.000000</td>\n",
              "      <td>0.000000</td>\n",
              "    </tr>\n",
              "    <tr>\n",
              "      <th>26</th>\n",
              "      <td>Nvidia</td>\n",
              "      <td>Really bummed the @NVIDIACreators broadcast lo...</td>\n",
              "      <td>0.320000</td>\n",
              "      <td>0.145000</td>\n",
              "    </tr>\n",
              "    <tr>\n",
              "      <th>27</th>\n",
              "      <td>Nvidia</td>\n",
              "      <td>At #VMworld 2020, @PGelsinger, CEO, @VMware pr...</td>\n",
              "      <td>0.477273</td>\n",
              "      <td>0.318182</td>\n",
              "    </tr>\n",
              "    <tr>\n",
              "      <th>28</th>\n",
              "      <td>Nvidia</td>\n",
              "      <td>PLANT THE SPIKE! I’m live on #twitch playing #...</td>\n",
              "      <td>0.500000</td>\n",
              "      <td>0.136364</td>\n",
              "    </tr>\n",
              "    <tr>\n",
              "      <th>29</th>\n",
              "      <td>Nvidia</td>\n",
              "      <td>Can you answer this? How to solve 'ERROR: An N...</td>\n",
              "      <td>0.000000</td>\n",
              "      <td>0.000000</td>\n",
              "    </tr>\n",
              "    <tr>\n",
              "      <th>30</th>\n",
              "      <td>Nvidia</td>\n",
              "      <td>Installing and always keeping your #PC 🖥️ or #...</td>\n",
              "      <td>0.300000</td>\n",
              "      <td>1.000000</td>\n",
              "    </tr>\n",
              "    <tr>\n",
              "      <th>31</th>\n",
              "      <td>Nvidia</td>\n",
              "      <td>Its cold outside, now its time to game!!!! htt...</td>\n",
              "      <td>0.483333</td>\n",
              "      <td>-0.525521</td>\n",
              "    </tr>\n",
              "    <tr>\n",
              "      <th>32</th>\n",
              "      <td>Nvidia</td>\n",
              "      <td>So what's the odds on if I can actually get an...</td>\n",
              "      <td>0.450000</td>\n",
              "      <td>0.200000</td>\n",
              "    </tr>\n",
              "    <tr>\n",
              "      <th>33</th>\n",
              "      <td>Nvidia</td>\n",
              "      <td>#Nvidia , Domino’s, #Cisco, Levi’s, and other ...</td>\n",
              "      <td>0.375000</td>\n",
              "      <td>-0.125000</td>\n",
              "    </tr>\n",
              "    <tr>\n",
              "      <th>34</th>\n",
              "      <td>Nvidia</td>\n",
              "      <td>Another huge shout out to @rs4vant for the mas...</td>\n",
              "      <td>0.900000</td>\n",
              "      <td>0.400000</td>\n",
              "    </tr>\n",
              "    <tr>\n",
              "      <th>35</th>\n",
              "      <td>Nvidia</td>\n",
              "      <td>Actual photo of me admiring everyone's talent ...</td>\n",
              "      <td>0.100000</td>\n",
              "      <td>0.000000</td>\n",
              "    </tr>\n",
              "    <tr>\n",
              "      <th>36</th>\n",
              "      <td>Nvidia</td>\n",
              "      <td>All I want to do is buy a rtx 3080 but can't. ...</td>\n",
              "      <td>0.666667</td>\n",
              "      <td>-0.383333</td>\n",
              "    </tr>\n",
              "    <tr>\n",
              "      <th>37</th>\n",
              "      <td>Nvidia</td>\n",
              "      <td>Gleaming in the Dark. @RockstarGames #reddeadr...</td>\n",
              "      <td>0.400000</td>\n",
              "      <td>-0.150000</td>\n",
              "    </tr>\n",
              "    <tr>\n",
              "      <th>38</th>\n",
              "      <td>Nvidia</td>\n",
              "      <td>Join me now for my end of month livestream dis...</td>\n",
              "      <td>0.400000</td>\n",
              "      <td>0.000000</td>\n",
              "    </tr>\n",
              "    <tr>\n",
              "      <th>39</th>\n",
              "      <td>Nvidia</td>\n",
              "      <td>Very minor complaint, but why call the Canadia...</td>\n",
              "      <td>0.153333</td>\n",
              "      <td>-0.121667</td>\n",
              "    </tr>\n",
              "    <tr>\n",
              "      <th>40</th>\n",
              "      <td>Nvidia</td>\n",
              "      <td>Tourney starts at 4pm PST. Come support a smal...</td>\n",
              "      <td>0.400000</td>\n",
              "      <td>-0.250000</td>\n",
              "    </tr>\n",
              "    <tr>\n",
              "      <th>41</th>\n",
              "      <td>Nvidia</td>\n",
              "      <td>My new farm 2600$  1660 super #nvidia #mining ...</td>\n",
              "      <td>0.560606</td>\n",
              "      <td>0.234848</td>\n",
              "    </tr>\n",
              "    <tr>\n",
              "      <th>42</th>\n",
              "      <td>Nvidia</td>\n",
              "      <td>@chandragray08 @ReignOfApril Well there's some...</td>\n",
              "      <td>0.000000</td>\n",
              "      <td>0.000000</td>\n",
              "    </tr>\n",
              "    <tr>\n",
              "      <th>43</th>\n",
              "      <td>Nvidia</td>\n",
              "      <td>Oct 5-9: NVIDIA $NVDA (UP +122% YTD) GPU Techn...</td>\n",
              "      <td>0.000000</td>\n",
              "      <td>0.000000</td>\n",
              "    </tr>\n",
              "    <tr>\n",
              "      <th>44</th>\n",
              "      <td>Nvidia</td>\n",
              "      <td>#nVidia if console games cater to an API co-de...</td>\n",
              "      <td>0.000000</td>\n",
              "      <td>0.000000</td>\n",
              "    </tr>\n",
              "    <tr>\n",
              "      <th>45</th>\n",
              "      <td>Nvidia</td>\n",
              "      <td>was able to stream and play #warzone around 16...</td>\n",
              "      <td>0.512500</td>\n",
              "      <td>0.175000</td>\n",
              "    </tr>\n",
              "    <tr>\n",
              "      <th>46</th>\n",
              "      <td>Nvidia</td>\n",
              "      <td>MAKE sure to enter my giveaway 1x Rainbow Six ...</td>\n",
              "      <td>0.694444</td>\n",
              "      <td>0.000000</td>\n",
              "    </tr>\n",
              "    <tr>\n",
              "      <th>47</th>\n",
              "      <td>Nvidia</td>\n",
              "      <td>life is 🟩   [ Follow Me👤] [Like❤] [Comment💬]  ...</td>\n",
              "      <td>0.000000</td>\n",
              "      <td>0.000000</td>\n",
              "    </tr>\n",
              "    <tr>\n",
              "      <th>48</th>\n",
              "      <td>Nvidia</td>\n",
              "      <td>&amp;gt;@BoozAllen is sponsoring @NVIDIA’s #GPU Te...</td>\n",
              "      <td>0.416667</td>\n",
              "      <td>0.183333</td>\n",
              "    </tr>\n",
              "    <tr>\n",
              "      <th>49</th>\n",
              "      <td>Nvidia</td>\n",
              "      <td>This is deep 😂😂😂😂😂😂😂😂😂😂😂😂😂😂  #Nvidia https://t...</td>\n",
              "      <td>0.400000</td>\n",
              "      <td>0.000000</td>\n",
              "    </tr>\n",
              "  </tbody>\n",
              "</table>\n",
              "</div>"
            ],
            "text/plain": [
              "   file_name  ... NewPolarity\n",
              "0     Nvidia  ...    0.700000\n",
              "1     Nvidia  ...    0.250000\n",
              "2     Nvidia  ...    0.375000\n",
              "3     Nvidia  ...    0.000000\n",
              "4     Nvidia  ...    0.250000\n",
              "5     Nvidia  ...    0.250000\n",
              "6     Nvidia  ...    0.000000\n",
              "7     Nvidia  ...    0.250000\n",
              "8     Nvidia  ...    0.250000\n",
              "9     Nvidia  ...    0.033333\n",
              "10    Nvidia  ...    0.090909\n",
              "11    Nvidia  ...    0.000000\n",
              "12    Nvidia  ...    0.000000\n",
              "13    Nvidia  ...    0.437500\n",
              "14    Nvidia  ...    0.375000\n",
              "15    Nvidia  ...    0.250000\n",
              "16    Nvidia  ...    0.250000\n",
              "17    Nvidia  ...    1.000000\n",
              "18    Nvidia  ...    0.250000\n",
              "19    Nvidia  ...   -0.500000\n",
              "20    Nvidia  ...    0.541667\n",
              "21    Nvidia  ...   -0.333333\n",
              "22    Nvidia  ...    0.275000\n",
              "23    Nvidia  ...    0.193182\n",
              "24    Nvidia  ...    0.000000\n",
              "25    Nvidia  ...    0.000000\n",
              "26    Nvidia  ...    0.145000\n",
              "27    Nvidia  ...    0.318182\n",
              "28    Nvidia  ...    0.136364\n",
              "29    Nvidia  ...    0.000000\n",
              "30    Nvidia  ...    1.000000\n",
              "31    Nvidia  ...   -0.525521\n",
              "32    Nvidia  ...    0.200000\n",
              "33    Nvidia  ...   -0.125000\n",
              "34    Nvidia  ...    0.400000\n",
              "35    Nvidia  ...    0.000000\n",
              "36    Nvidia  ...   -0.383333\n",
              "37    Nvidia  ...   -0.150000\n",
              "38    Nvidia  ...    0.000000\n",
              "39    Nvidia  ...   -0.121667\n",
              "40    Nvidia  ...   -0.250000\n",
              "41    Nvidia  ...    0.234848\n",
              "42    Nvidia  ...    0.000000\n",
              "43    Nvidia  ...    0.000000\n",
              "44    Nvidia  ...    0.000000\n",
              "45    Nvidia  ...    0.175000\n",
              "46    Nvidia  ...    0.000000\n",
              "47    Nvidia  ...    0.000000\n",
              "48    Nvidia  ...    0.183333\n",
              "49    Nvidia  ...    0.000000\n",
              "\n",
              "[50 rows x 4 columns]"
            ]
          },
          "metadata": {},
          "execution_count": 81
        }
      ]
    }
  ]
}