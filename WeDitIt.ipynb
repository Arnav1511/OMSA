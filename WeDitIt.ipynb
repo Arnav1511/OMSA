{
  "nbformat": 4,
  "nbformat_minor": 0,
  "metadata": {
    "colab": {
      "name": "WeDitIt.ipynb",
      "provenance": [],
      "include_colab_link": true
    },
    "kernelspec": {
      "name": "python3",
      "display_name": "Python 3"
    },
    "language_info": {
      "name": "python"
    }
  },
  "cells": [
    {
      "cell_type": "markdown",
      "metadata": {
        "id": "view-in-github",
        "colab_type": "text"
      },
      "source": [
        "<a href=\"https://colab.research.google.com/github/Arnav1511/OMSA/blob/main/WeDitIt.ipynb\" target=\"_parent\"><img src=\"https://colab.research.google.com/assets/colab-badge.svg\" alt=\"Open In Colab\"/></a>"
      ]
    },
    {
      "cell_type": "code",
      "metadata": {
        "colab": {
          "base_uri": "https://localhost:8080/"
        },
        "id": "xxAYlYss0n6I",
        "outputId": "44c3d3e7-93e8-4679-9cfe-163160d4b062"
      },
      "source": [
        "from google.colab import drive\n",
        "drive.mount(\"/content/gdrive\")\n"
      ],
      "execution_count": null,
      "outputs": [
        {
          "output_type": "stream",
          "name": "stdout",
          "text": [
            "Mounted at /content/gdrive\n"
          ]
        }
      ]
    },
    {
      "cell_type": "code",
      "metadata": {
        "id": "7ZVTauN47Wd3"
      },
      "source": [
        "import os\n",
        "os.environ['KAGGLE_CONFIG_DIR']='/content/gdrive/MyDrive/kaggle_dataset'"
      ],
      "execution_count": null,
      "outputs": []
    },
    {
      "cell_type": "code",
      "metadata": {
        "colab": {
          "base_uri": "https://localhost:8080/"
        },
        "id": "x1PAWYlj7ZW_",
        "outputId": "698beac2-0126-4297-f16b-497fe1bbe934"
      },
      "source": [
        "%cd /content/gdrive/MyDrive/kaggle_dataset"
      ],
      "execution_count": null,
      "outputs": [
        {
          "output_type": "stream",
          "name": "stdout",
          "text": [
            "/content/gdrive/MyDrive/kaggle_dataset\n"
          ]
        }
      ]
    },
    {
      "cell_type": "code",
      "metadata": {
        "colab": {
          "base_uri": "https://localhost:8080/"
        },
        "id": "HGPE9peo7dkP",
        "outputId": "afadc0d6-5260-47e7-aebf-b4182d70a9d8"
      },
      "source": [
        "!ls\n"
      ],
      "execution_count": null,
      "outputs": [
        {
          "output_type": "stream",
          "name": "stdout",
          "text": [
            "kaggle.json\n"
          ]
        }
      ]
    },
    {
      "cell_type": "code",
      "metadata": {
        "colab": {
          "base_uri": "https://localhost:8080/"
        },
        "id": "EpmV8x567oaG",
        "outputId": "27eb46af-22ec-421e-8e7e-055f87fc4d31"
      },
      "source": [
        "!pwd\n"
      ],
      "execution_count": null,
      "outputs": [
        {
          "output_type": "stream",
          "name": "stdout",
          "text": [
            "/content/gdrive/My Drive/kaggle_dataset\n"
          ]
        }
      ]
    },
    {
      "cell_type": "code",
      "metadata": {
        "colab": {
          "base_uri": "https://localhost:8080/"
        },
        "id": "b5UgOpgY7q2C",
        "outputId": "16bd7ca6-0e85-4fc4-c0b7-de7ecb9c3f28"
      },
      "source": [
        "!kaggle datasets download -d wjia26/big-tech-companies-tweet-sentiment"
      ],
      "execution_count": null,
      "outputs": [
        {
          "output_type": "stream",
          "name": "stdout",
          "text": [
            "Downloading big-tech-companies-tweet-sentiment.zip to /content/gdrive/MyDrive/kaggle_dataset\n",
            " 99% 129M/130M [00:01<00:00, 82.8MB/s]\n",
            "100% 130M/130M [00:01<00:00, 89.0MB/s]\n"
          ]
        }
      ]
    },
    {
      "cell_type": "code",
      "metadata": {
        "colab": {
          "base_uri": "https://localhost:8080/"
        },
        "id": "LVABHJk479xO",
        "outputId": "8cdca43b-c7e5-46fd-bc27-cc426ba9d30b"
      },
      "source": [
        "!ls"
      ],
      "execution_count": null,
      "outputs": [
        {
          "output_type": "stream",
          "name": "stdout",
          "text": [
            "big-tech-companies-tweet-sentiment.zip\tkaggle.json\n"
          ]
        }
      ]
    },
    {
      "cell_type": "code",
      "metadata": {
        "colab": {
          "base_uri": "https://localhost:8080/"
        },
        "id": "F1fMmxjw8DK7",
        "outputId": "1b0767d3-7516-4655-d19f-2c74c4a43aae"
      },
      "source": [
        "!unzip /content/gdrive/MyDrive/kaggle_dataset/big-tech-companies-tweet-sentiment.zip"
      ],
      "execution_count": null,
      "outputs": [
        {
          "output_type": "stream",
          "name": "stdout",
          "text": [
            "Archive:  /content/gdrive/MyDrive/kaggle_dataset/big-tech-companies-tweet-sentiment.zip\n",
            "  inflating: Bigtech - 12-07-2020 till 19-09-2020/Bigtech - 12-07-2020 till 19-09-2020.csv  \n",
            "  inflating: Bigtech - 20-09-2020 till 13-10-2020.csv  \n"
          ]
        }
      ]
    },
    {
      "cell_type": "code",
      "metadata": {
        "colab": {
          "base_uri": "https://localhost:8080/"
        },
        "id": "jUkxbv_Z8Ggg",
        "outputId": "1f60178a-6937-4ad7-ab46-00627ed3a1b7"
      },
      "source": [
        "!ls\n"
      ],
      "execution_count": null,
      "outputs": [
        {
          "output_type": "stream",
          "name": "stdout",
          "text": [
            "'Bigtech - 12-07-2020 till 19-09-2020'\n",
            "'Bigtech - 20-09-2020 till 13-10-2020.csv'\n",
            " big-tech-companies-tweet-sentiment.zip\n",
            " kaggle.json\n"
          ]
        }
      ]
    },
    {
      "cell_type": "code",
      "metadata": {
        "colab": {
          "base_uri": "https://localhost:8080/"
        },
        "id": "RLdqager8JGk",
        "outputId": "e4e20d3f-4d66-48e0-af59-fde5792929fa"
      },
      "source": [
        "%cd Bigtech - 12-07-2020 till 19-09-2020"
      ],
      "execution_count": null,
      "outputs": [
        {
          "output_type": "stream",
          "name": "stdout",
          "text": [
            "/content/gdrive/My Drive/kaggle_dataset/Bigtech - 12-07-2020 till 19-09-2020\n"
          ]
        }
      ]
    },
    {
      "cell_type": "code",
      "metadata": {
        "colab": {
          "base_uri": "https://localhost:8080/"
        },
        "id": "Kw43uRDP8R8m",
        "outputId": "1c5e59c6-e755-4540-83e1-a8161e9386ea"
      },
      "source": [
        "!ls"
      ],
      "execution_count": null,
      "outputs": [
        {
          "output_type": "stream",
          "name": "stdout",
          "text": [
            "'Bigtech - 12-07-2020 till 19-09-2020.csv'\n"
          ]
        }
      ]
    },
    {
      "cell_type": "code",
      "metadata": {
        "id": "k6suY8f98UGu"
      },
      "source": [
        "import pandas as pd\n",
        "df=pd.read_csv(\"Bigtech - 12-07-2020 till 19-09-2020.csv\")"
      ],
      "execution_count": null,
      "outputs": []
    },
    {
      "cell_type": "code",
      "metadata": {
        "colab": {
          "base_uri": "https://localhost:8080/"
        },
        "id": "v0XFHAQL8dGb",
        "outputId": "560f28db-594c-43b7-9060-fea23de4f562"
      },
      "source": [
        "df.shape"
      ],
      "execution_count": null,
      "outputs": [
        {
          "output_type": "execute_result",
          "data": {
            "text/plain": [
              "(866909, 15)"
            ]
          },
          "metadata": {},
          "execution_count": 15
        }
      ]
    },
    {
      "cell_type": "code",
      "metadata": {
        "colab": {
          "base_uri": "https://localhost:8080/"
        },
        "id": "mJndR-2P8hHX",
        "outputId": "beb40cda-06df-49f4-f448-21f4e782ee92"
      },
      "source": [
        "df.columns"
      ],
      "execution_count": null,
      "outputs": [
        {
          "output_type": "execute_result",
          "data": {
            "text/plain": [
              "Index(['created_at', 'file_name', 'followers', 'friends', 'group_name',\n",
              "       'location', 'retweet_count', 'screenname', 'search_query', 'text',\n",
              "       'twitter_id', 'username', 'polarity', 'partition_0', 'partition_1'],\n",
              "      dtype='object')"
            ]
          },
          "metadata": {},
          "execution_count": 16
        }
      ]
    },
    {
      "cell_type": "code",
      "metadata": {
        "id": "H0dpfhlo9S7g"
      },
      "source": [
        ""
      ],
      "execution_count": null,
      "outputs": []
    }
  ]
}