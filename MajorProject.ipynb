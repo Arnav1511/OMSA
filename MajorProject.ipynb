{
  "nbformat": 4,
  "nbformat_minor": 0,
  "metadata": {
    "colab": {
      "name": "MajorProject.ipynb",
      "provenance": [],
      "collapsed_sections": [],
      "include_colab_link": true
    },
    "kernelspec": {
      "name": "python3",
      "display_name": "Python 3"
    },
    "language_info": {
      "name": "python"
    },
    "accelerator": "GPU"
  },
  "cells": [
    {
      "cell_type": "markdown",
      "metadata": {
        "id": "view-in-github",
        "colab_type": "text"
      },
      "source": [
        "<a href=\"https://colab.research.google.com/github/Arnav1511/OMSA/blob/main/MajorProject.ipynb\" target=\"_parent\"><img src=\"https://colab.research.google.com/assets/colab-badge.svg\" alt=\"Open In Colab\"/></a>"
      ]
    },
    {
      "cell_type": "markdown",
      "metadata": {
        "id": "G9SjC0raZiLK"
      },
      "source": [
        "Importing drive library and mounting gdrive"
      ]
    },
    {
      "cell_type": "code",
      "metadata": {
        "id": "xxAYlYss0n6I",
        "colab": {
          "base_uri": "https://localhost:8080/"
        },
        "outputId": "84327c8f-f224-4bac-d60b-215cf102b66b"
      },
      "source": [
        "from google.colab import drive\n",
        "drive.mount(\"/content/gdrive\")\n"
      ],
      "execution_count": 2,
      "outputs": [
        {
          "output_type": "stream",
          "name": "stdout",
          "text": [
            "Drive already mounted at /content/gdrive; to attempt to forcibly remount, call drive.mount(\"/content/gdrive\", force_remount=True).\n"
          ]
        }
      ]
    },
    {
      "cell_type": "markdown",
      "metadata": {
        "id": "cvU-GnGcZt93"
      },
      "source": [
        "Mounting the dataset"
      ]
    },
    {
      "cell_type": "code",
      "metadata": {
        "id": "7ZVTauN47Wd3"
      },
      "source": [
        "import os\n",
        "os.environ['KAGGLE_CONFIG_DIR']='/content/gdrive/MyDrive/kaggle_dataset'"
      ],
      "execution_count": 3,
      "outputs": []
    },
    {
      "cell_type": "code",
      "metadata": {
        "colab": {
          "base_uri": "https://localhost:8080/"
        },
        "id": "x1PAWYlj7ZW_",
        "outputId": "d0dff113-dc5a-458d-d0b5-661cd60adbce"
      },
      "source": [
        "%cd /content/gdrive/MyDrive/kaggle_dataset"
      ],
      "execution_count": 4,
      "outputs": [
        {
          "output_type": "stream",
          "name": "stdout",
          "text": [
            "/content/gdrive/MyDrive/kaggle_dataset\n"
          ]
        }
      ]
    },
    {
      "cell_type": "markdown",
      "metadata": {
        "id": "TbPKeqEtZ1cM"
      },
      "source": [
        "Listing all the contents"
      ]
    },
    {
      "cell_type": "code",
      "metadata": {
        "colab": {
          "base_uri": "https://localhost:8080/"
        },
        "id": "HGPE9peo7dkP",
        "outputId": "315be18d-edfb-4494-ec01-7054f7ce363e"
      },
      "source": [
        "!ls\n"
      ],
      "execution_count": null,
      "outputs": [
        {
          "output_type": "stream",
          "name": "stdout",
          "text": [
            "'Bigtech - 12-07-2020 till 19-09-2020'\n",
            "'Bigtech - 20-09-2020 till 13-10-2020.csv'\n",
            " big-tech-companies-tweet-sentiment.zip\n",
            " kaggle.json\n"
          ]
        }
      ]
    },
    {
      "cell_type": "code",
      "metadata": {
        "colab": {
          "base_uri": "https://localhost:8080/"
        },
        "id": "EpmV8x567oaG",
        "outputId": "3ce7af72-1a16-4c61-ae47-1acc74a95f6f"
      },
      "source": [
        "!pwd\n"
      ],
      "execution_count": null,
      "outputs": [
        {
          "output_type": "stream",
          "name": "stdout",
          "text": [
            "/content/gdrive/MyDrive/kaggle_dataset\n"
          ]
        }
      ]
    },
    {
      "cell_type": "markdown",
      "metadata": {
        "id": "Ew6s6IlYZ6rF"
      },
      "source": [
        "Downloading dataset from Kaggle"
      ]
    },
    {
      "cell_type": "code",
      "metadata": {
        "colab": {
          "base_uri": "https://localhost:8080/"
        },
        "id": "b5UgOpgY7q2C",
        "outputId": "e59fb64a-ae05-4ae0-a181-ca33596c2e42"
      },
      "source": [
        "!kaggle datasets download -d wjia26/big-tech-companies-tweet-sentiment"
      ],
      "execution_count": null,
      "outputs": [
        {
          "output_type": "stream",
          "name": "stdout",
          "text": [
            "big-tech-companies-tweet-sentiment.zip: Skipping, found more recently modified local copy (use --force to force download)\n"
          ]
        }
      ]
    },
    {
      "cell_type": "code",
      "metadata": {
        "colab": {
          "base_uri": "https://localhost:8080/"
        },
        "id": "LVABHJk479xO",
        "outputId": "0d24a564-634d-4bc6-f9bb-c9f7bf3a269d"
      },
      "source": [
        "!ls"
      ],
      "execution_count": null,
      "outputs": [
        {
          "output_type": "stream",
          "name": "stdout",
          "text": [
            "'Bigtech - 12-07-2020 till 19-09-2020'\n",
            "'Bigtech - 20-09-2020 till 13-10-2020.csv'\n",
            " big-tech-companies-tweet-sentiment.zip\n",
            " kaggle.json\n"
          ]
        }
      ]
    },
    {
      "cell_type": "markdown",
      "metadata": {
        "id": "vyfxqyLhaADb"
      },
      "source": [
        "Unzipping the dataset"
      ]
    },
    {
      "cell_type": "code",
      "metadata": {
        "colab": {
          "base_uri": "https://localhost:8080/"
        },
        "id": "F1fMmxjw8DK7",
        "outputId": "4d7896f0-4342-42fb-9b17-d192161d281a"
      },
      "source": [
        "!unzip /content/gdrive/MyDrive/kaggle_dataset/big-tech-companies-tweet-sentiment.zip"
      ],
      "execution_count": null,
      "outputs": [
        {
          "output_type": "stream",
          "name": "stdout",
          "text": [
            "Archive:  /content/gdrive/MyDrive/kaggle_dataset/big-tech-companies-tweet-sentiment.zip\n",
            "  inflating: Bigtech - 12-07-2020 till 19-09-2020/Bigtech - 12-07-2020 till 19-09-2020.csv  \n",
            "  inflating: Bigtech - 20-09-2020 till 13-10-2020.csv  \n"
          ]
        }
      ]
    },
    {
      "cell_type": "code",
      "metadata": {
        "colab": {
          "base_uri": "https://localhost:8080/"
        },
        "id": "jUkxbv_Z8Ggg",
        "outputId": "4272f8db-2851-41c1-b60a-f3f530730936"
      },
      "source": [
        "!ls\n"
      ],
      "execution_count": null,
      "outputs": [
        {
          "output_type": "stream",
          "name": "stdout",
          "text": [
            "'Bigtech - 12-07-2020 till 19-09-2020'\n",
            "'Bigtech - 20-09-2020 till 13-10-2020.csv'\n",
            " big-tech-companies-tweet-sentiment.zip\n",
            " kaggle.json\n"
          ]
        }
      ]
    },
    {
      "cell_type": "markdown",
      "metadata": {
        "id": "evntXTLhaGbw"
      },
      "source": [
        "Creating dataframe from the dataset"
      ]
    },
    {
      "cell_type": "code",
      "metadata": {
        "id": "k6suY8f98UGu"
      },
      "source": [
        "import pandas as pd\n",
        "df=pd.read_csv(\"Bigtech - 20-09-2020 till 13-10-2020.csv\")\n"
      ],
      "execution_count": 5,
      "outputs": []
    },
    {
      "cell_type": "code",
      "metadata": {
        "colab": {
          "base_uri": "https://localhost:8080/"
        },
        "id": "v0XFHAQL8dGb",
        "outputId": "32d06966-75bb-47dc-d57c-10f6fc0fcac5"
      },
      "source": [
        "df.shape"
      ],
      "execution_count": 6,
      "outputs": [
        {
          "output_type": "execute_result",
          "data": {
            "text/plain": [
              "(266095, 15)"
            ]
          },
          "metadata": {},
          "execution_count": 6
        }
      ]
    },
    {
      "cell_type": "code",
      "metadata": {
        "colab": {
          "base_uri": "https://localhost:8080/"
        },
        "id": "mJndR-2P8hHX",
        "outputId": "58d762ef-27e1-47c9-b805-1378f4e5aafd"
      },
      "source": [
        "df.columns"
      ],
      "execution_count": 7,
      "outputs": [
        {
          "output_type": "execute_result",
          "data": {
            "text/plain": [
              "Index(['created_at', 'file_name', 'followers', 'friends', 'group_name',\n",
              "       'location', 'retweet_count', 'screenname', 'search_query', 'text',\n",
              "       'twitter_id', 'username', 'polarity', 'partition_0', 'partition_1'],\n",
              "      dtype='object')"
            ]
          },
          "metadata": {},
          "execution_count": 7
        }
      ]
    },
    {
      "cell_type": "markdown",
      "metadata": {
        "id": "ibBHOdnhaOx1"
      },
      "source": [
        "Extract the reviews"
      ]
    },
    {
      "cell_type": "code",
      "metadata": {
        "colab": {
          "base_uri": "https://localhost:8080/"
        },
        "id": "bo6XUObNsN9o",
        "outputId": "6d0c268a-30bb-4259-9fd3-ab0eb59473a5"
      },
      "source": [
        "tweet=df.text.values\n",
        "print(tweet)"
      ],
      "execution_count": 8,
      "outputs": [
        {
          "output_type": "stream",
          "name": "stdout",
          "text": [
            "['#NVIDIA #GauGAN is actually a good tool to practice composition/framing? https://t.co/CJyec1kNU1'\n",
            " '#BullSequana X2415, the first #supercomputer blade server in Europe to integrate #NVIDIA’s Ampere next-generation graphics processing unit architecture, the NVIDIA A100 Tensor Core #GPU s.  Read more ▶ https://t.co/5HXnY4IoJ5 Atos is sponsor at #Nvidia #GTC20 Digital https://t.co/KSd2CmfsUH'\n",
            " \"I'm going to attend GTC 2020 tonight! Excited. #Nvidia #GTC20\" ...\n",
            " 'NEW VIDEO!!   FRIEND v FRIEND CHALLENGE!!   https://t.co/dOrH0MRRNi   #friendvfriend #friends #challenge #challenger #youtube #YouTuber #twitch #TwitchStreamers'\n",
            " '‼️NEW VIDEO‼️ Films inspired by Jodorowskys Dune  REACTION 💥  YouTube: Those 2! REACTION  * HERE’S OUR VIDEO: https://t.co/f0wKQQ2Wpe * #youtube #those2 #those2reacts #reaction #subscribe #supportblackcreators #contentcreators #share #couple #dune #filmsinspiredbydune https://t.co/ismHqfBjtr'\n",
            " '‼️NEW VIDEO‼️ Films inspired by Jodorowskys Dune  REACTION 💥  YouTube: Those 2! REACTION  * HERE’S OUR VIDEO: https://t.co/f0wKQQ2Wpe * #youtube #those2 #those2reacts #reaction #subscribe #supportblackcreators #contentcreators #share #couple #dune #filmsinspiredbydune https://t.co/6uEP2KmGrz']\n"
          ]
        }
      ]
    },
    {
      "cell_type": "markdown",
      "metadata": {
        "id": "w8NYSAoEaYhY"
      },
      "source": [
        "Tokenizing and removing stopwords"
      ]
    },
    {
      "cell_type": "code",
      "metadata": {
        "colab": {
          "base_uri": "https://localhost:8080/"
        },
        "id": "iUyj3lPTwH6A",
        "outputId": "252cc4c5-45b6-4ba4-ee80-bc6eb1790c56"
      },
      "source": [
        "import nltk \n",
        "from nltk.tokenize import RegexpTokenizer #to remove punctuations and tokenize the text\n",
        "from nltk.corpus import stopwords # to remove the stop words after tokenization\n",
        "nltk.download('stopwords')\n",
        "nltk.download('punkt')\n",
        "\n",
        "#tokens_without_sw = [word for word in tweet if not word in stopwords.words()]"
      ],
      "execution_count": 9,
      "outputs": [
        {
          "output_type": "stream",
          "name": "stdout",
          "text": [
            "[nltk_data] Downloading package stopwords to /root/nltk_data...\n",
            "[nltk_data]   Package stopwords is already up-to-date!\n",
            "[nltk_data] Downloading package punkt to /root/nltk_data...\n",
            "[nltk_data]   Package punkt is already up-to-date!\n"
          ]
        },
        {
          "output_type": "execute_result",
          "data": {
            "text/plain": [
              "True"
            ]
          },
          "metadata": {},
          "execution_count": 9
        }
      ]
    },
    {
      "cell_type": "markdown",
      "metadata": {
        "id": "1-khqFOOfEyV"
      },
      "source": [
        "Cleaning the Text (emojis, mentions, hashtags, hyperlinks)"
      ]
    },
    {
      "cell_type": "code",
      "metadata": {
        "colab": {
          "base_uri": "https://localhost:8080/",
          "height": 1000
        },
        "id": "xjgsNK-VgreA",
        "outputId": "c2e1043d-83da-42a2-bf86-60023aa9d633"
      },
      "source": [
        "import re\n",
        "\n",
        "emojis = re.compile(\"[\"\n",
        "    u\"\\U0001F600-\\U0001F64F\"  # emoticons\n",
        "    u\"\\U0001F300-\\U0001F5FF\"  # symbols & pictographs\n",
        "    u\"\\U0001F680-\\U0001F6FF\"  # transport & map symbols\n",
        "    u\"\\U0001F1E0-\\U0001F1FF\"  # flags (iOS)\n",
        "                        \"]+\", flags=re.UNICODE)\n",
        "\n",
        "def cleanTxt(text):\n",
        "  text = re.sub(r'@[A-Za-z0-9]+','',text) #Removed @mentions\n",
        "  text = re.sub(r'#','',text) #Removing the #symbol\n",
        "  text = re.sub(r'RT[\\s]+','',text)  #Removing the RT\n",
        "  text = re.sub(r'https?:\\/\\/\\S+','',text) #Removing the hyperlinks\n",
        "  text = emojis.sub(r'',text) #remove emojis\n",
        "\n",
        "  return text\n",
        "\n",
        "\n",
        "#Cleaning the text\n",
        "df['text']=df['text'].apply(cleanTxt)\n",
        "\n",
        "#Show the cleaned text\n",
        "df.tail(12)\n"
      ],
      "execution_count": 10,
      "outputs": [
        {
          "output_type": "execute_result",
          "data": {
            "text/html": [
              "<div>\n",
              "<style scoped>\n",
              "    .dataframe tbody tr th:only-of-type {\n",
              "        vertical-align: middle;\n",
              "    }\n",
              "\n",
              "    .dataframe tbody tr th {\n",
              "        vertical-align: top;\n",
              "    }\n",
              "\n",
              "    .dataframe thead th {\n",
              "        text-align: right;\n",
              "    }\n",
              "</style>\n",
              "<table border=\"1\" class=\"dataframe\">\n",
              "  <thead>\n",
              "    <tr style=\"text-align: right;\">\n",
              "      <th></th>\n",
              "      <th>created_at</th>\n",
              "      <th>file_name</th>\n",
              "      <th>followers</th>\n",
              "      <th>friends</th>\n",
              "      <th>group_name</th>\n",
              "      <th>location</th>\n",
              "      <th>retweet_count</th>\n",
              "      <th>screenname</th>\n",
              "      <th>search_query</th>\n",
              "      <th>text</th>\n",
              "      <th>twitter_id</th>\n",
              "      <th>username</th>\n",
              "      <th>polarity</th>\n",
              "      <th>partition_0</th>\n",
              "      <th>partition_1</th>\n",
              "    </tr>\n",
              "  </thead>\n",
              "  <tbody>\n",
              "    <tr>\n",
              "      <th>266083</th>\n",
              "      <td>2020-10-03 23:56:34</td>\n",
              "      <td>Youtube</td>\n",
              "      <td>4336</td>\n",
              "      <td>66</td>\n",
              "      <td>Youtube</td>\n",
              "      <td>🌎 Worldwide</td>\n",
              "      <td>0</td>\n",
              "      <td>musicnews360</td>\n",
              "      <td>#Youtube</td>\n",
              "      <td>$AAPL $TSLA $MSFT $SPY $AMZN $FB $GOOG music ...</td>\n",
              "      <td>1312542087892664320</td>\n",
              "      <td>Music News 360</td>\n",
              "      <td>0.6792</td>\n",
              "      <td>Technology</td>\n",
              "      <td>Youtube</td>\n",
              "    </tr>\n",
              "    <tr>\n",
              "      <th>266084</th>\n",
              "      <td>2020-10-03 23:55:51</td>\n",
              "      <td>Youtube</td>\n",
              "      <td>103</td>\n",
              "      <td>21</td>\n",
              "      <td>Youtube</td>\n",
              "      <td>NaN</td>\n",
              "      <td>0</td>\n",
              "      <td>DeasyLoverss</td>\n",
              "      <td>#Youtube</td>\n",
              "      <td>youtube channel : Deasy Natalina Video Officia...</td>\n",
              "      <td>1312541906568507392</td>\n",
              "      <td>Deasy natalina FC</td>\n",
              "      <td>0.0000</td>\n",
              "      <td>Technology</td>\n",
              "      <td>Youtube</td>\n",
              "    </tr>\n",
              "    <tr>\n",
              "      <th>266085</th>\n",
              "      <td>2020-10-03 23:55:39</td>\n",
              "      <td>Youtube</td>\n",
              "      <td>1820</td>\n",
              "      <td>942</td>\n",
              "      <td>Youtube</td>\n",
              "      <td>Florida, USA</td>\n",
              "      <td>1</td>\n",
              "      <td>jakejameslugo</td>\n",
              "      <td>#Youtube</td>\n",
              "      <td>So I got my next video for the channel DONE to...</td>\n",
              "      <td>1312541857562402816</td>\n",
              "      <td>Jakejames Lugo</td>\n",
              "      <td>0.9200</td>\n",
              "      <td>Technology</td>\n",
              "      <td>Youtube</td>\n",
              "    </tr>\n",
              "    <tr>\n",
              "      <th>266086</th>\n",
              "      <td>2020-10-03 23:55:24</td>\n",
              "      <td>Youtube</td>\n",
              "      <td>561</td>\n",
              "      <td>881</td>\n",
              "      <td>Youtube</td>\n",
              "      <td>NaN</td>\n",
              "      <td>0</td>\n",
              "      <td>crystalmonay21</td>\n",
              "      <td>#Youtube</td>\n",
              "      <td>‼️NEW VIDEO‼️ Films inspired by Jodorowskys Du...</td>\n",
              "      <td>1312541794404573186</td>\n",
              "      <td>Those 2! REACTS On YT 💕😁</td>\n",
              "      <td>0.5411</td>\n",
              "      <td>Technology</td>\n",
              "      <td>Youtube</td>\n",
              "    </tr>\n",
              "    <tr>\n",
              "      <th>266087</th>\n",
              "      <td>2020-10-03 23:55:20</td>\n",
              "      <td>Youtube</td>\n",
              "      <td>89564</td>\n",
              "      <td>63907</td>\n",
              "      <td>Youtube</td>\n",
              "      <td>England</td>\n",
              "      <td>1</td>\n",
              "      <td>Susanjmccann</td>\n",
              "      <td>#Youtube</td>\n",
              "      <td>This prayer is for you if you're unwell, or if...</td>\n",
              "      <td>1312541779347079169</td>\n",
              "      <td>Susan McCann</td>\n",
              "      <td>0.3612</td>\n",
              "      <td>Technology</td>\n",
              "      <td>Youtube</td>\n",
              "    </tr>\n",
              "    <tr>\n",
              "      <th>266088</th>\n",
              "      <td>2020-10-03 23:55:16</td>\n",
              "      <td>Youtube</td>\n",
              "      <td>42410</td>\n",
              "      <td>33958</td>\n",
              "      <td>Youtube</td>\n",
              "      <td>England.</td>\n",
              "      <td>1</td>\n",
              "      <td>themerry_monk</td>\n",
              "      <td>#Youtube</td>\n",
              "      <td>You already know that you help many people, da...</td>\n",
              "      <td>1312541762662084608</td>\n",
              "      <td>Gerry McCann</td>\n",
              "      <td>0.9062</td>\n",
              "      <td>Technology</td>\n",
              "      <td>Youtube</td>\n",
              "    </tr>\n",
              "    <tr>\n",
              "      <th>266089</th>\n",
              "      <td>2020-10-03 23:55:04</td>\n",
              "      <td>Youtube</td>\n",
              "      <td>561</td>\n",
              "      <td>881</td>\n",
              "      <td>Youtube</td>\n",
              "      <td>NaN</td>\n",
              "      <td>0</td>\n",
              "      <td>crystalmonay21</td>\n",
              "      <td>#Youtube</td>\n",
              "      <td>‼️NEW VIDEO‼️ Films inspired by Jodorowskys Du...</td>\n",
              "      <td>1312541709650350080</td>\n",
              "      <td>Those 2! REACTS On YT 💕😁</td>\n",
              "      <td>0.5411</td>\n",
              "      <td>Technology</td>\n",
              "      <td>Youtube</td>\n",
              "    </tr>\n",
              "    <tr>\n",
              "      <th>266090</th>\n",
              "      <td>2020-10-03 23:54:59</td>\n",
              "      <td>Youtube</td>\n",
              "      <td>176</td>\n",
              "      <td>9</td>\n",
              "      <td>Youtube</td>\n",
              "      <td>NaN</td>\n",
              "      <td>0</td>\n",
              "      <td>asian_view</td>\n",
              "      <td>#Youtube</td>\n",
              "      <td>New vlog arrivals! Discover a lovely culture t...</td>\n",
              "      <td>1312541692046667777</td>\n",
              "      <td>Asian View</td>\n",
              "      <td>0.9167</td>\n",
              "      <td>Technology</td>\n",
              "      <td>Youtube</td>\n",
              "    </tr>\n",
              "    <tr>\n",
              "      <th>266091</th>\n",
              "      <td>2020-10-03 23:54:54</td>\n",
              "      <td>Youtube</td>\n",
              "      <td>308</td>\n",
              "      <td>567</td>\n",
              "      <td>Youtube</td>\n",
              "      <td>London UK</td>\n",
              "      <td>1</td>\n",
              "      <td>Kaiu24</td>\n",
              "      <td>#Youtube</td>\n",
              "      <td>New Video is up. Finally showing my new Stream...</td>\n",
              "      <td>1312541667703033858</td>\n",
              "      <td>Kaiu24</td>\n",
              "      <td>0.3182</td>\n",
              "      <td>Technology</td>\n",
              "      <td>Youtube</td>\n",
              "    </tr>\n",
              "    <tr>\n",
              "      <th>266092</th>\n",
              "      <td>2020-10-03 23:54:53</td>\n",
              "      <td>Youtube</td>\n",
              "      <td>27</td>\n",
              "      <td>101</td>\n",
              "      <td>Youtube</td>\n",
              "      <td>England, United Kingdom</td>\n",
              "      <td>0</td>\n",
              "      <td>RyanDeebo</td>\n",
              "      <td>#Youtube</td>\n",
              "      <td>NEW VIDEO!!   FRIEND v FRIEND CHALLENGE!!     ...</td>\n",
              "      <td>1312541664494444544</td>\n",
              "      <td>RyanDeebo</td>\n",
              "      <td>0.9015</td>\n",
              "      <td>Technology</td>\n",
              "      <td>Youtube</td>\n",
              "    </tr>\n",
              "    <tr>\n",
              "      <th>266093</th>\n",
              "      <td>2020-10-03 23:54:45</td>\n",
              "      <td>Youtube</td>\n",
              "      <td>110</td>\n",
              "      <td>171</td>\n",
              "      <td>Youtube</td>\n",
              "      <td>NaN</td>\n",
              "      <td>0</td>\n",
              "      <td>monay_crystal</td>\n",
              "      <td>#Youtube</td>\n",
              "      <td>‼️NEW VIDEO‼️ Films inspired by Jodorowskys Du...</td>\n",
              "      <td>1312541633603395584</td>\n",
              "      <td>Those 2! REACTS On YouTube💕😘</td>\n",
              "      <td>0.5411</td>\n",
              "      <td>Technology</td>\n",
              "      <td>Youtube</td>\n",
              "    </tr>\n",
              "    <tr>\n",
              "      <th>266094</th>\n",
              "      <td>2020-10-03 23:54:30</td>\n",
              "      <td>Youtube</td>\n",
              "      <td>110</td>\n",
              "      <td>171</td>\n",
              "      <td>Youtube</td>\n",
              "      <td>NaN</td>\n",
              "      <td>0</td>\n",
              "      <td>monay_crystal</td>\n",
              "      <td>#Youtube</td>\n",
              "      <td>‼️NEW VIDEO‼️ Films inspired by Jodorowskys Du...</td>\n",
              "      <td>1312541567626993666</td>\n",
              "      <td>Those 2! REACTS On YouTube💕😘</td>\n",
              "      <td>0.5411</td>\n",
              "      <td>Technology</td>\n",
              "      <td>Youtube</td>\n",
              "    </tr>\n",
              "  </tbody>\n",
              "</table>\n",
              "</div>"
            ],
            "text/plain": [
              "                 created_at file_name  ...  partition_0  partition_1\n",
              "266083  2020-10-03 23:56:34   Youtube  ...   Technology      Youtube\n",
              "266084  2020-10-03 23:55:51   Youtube  ...   Technology      Youtube\n",
              "266085  2020-10-03 23:55:39   Youtube  ...   Technology      Youtube\n",
              "266086  2020-10-03 23:55:24   Youtube  ...   Technology      Youtube\n",
              "266087  2020-10-03 23:55:20   Youtube  ...   Technology      Youtube\n",
              "266088  2020-10-03 23:55:16   Youtube  ...   Technology      Youtube\n",
              "266089  2020-10-03 23:55:04   Youtube  ...   Technology      Youtube\n",
              "266090  2020-10-03 23:54:59   Youtube  ...   Technology      Youtube\n",
              "266091  2020-10-03 23:54:54   Youtube  ...   Technology      Youtube\n",
              "266092  2020-10-03 23:54:53   Youtube  ...   Technology      Youtube\n",
              "266093  2020-10-03 23:54:45   Youtube  ...   Technology      Youtube\n",
              "266094  2020-10-03 23:54:30   Youtube  ...   Technology      Youtube\n",
              "\n",
              "[12 rows x 15 columns]"
            ]
          },
          "metadata": {},
          "execution_count": 10
        }
      ]
    },
    {
      "cell_type": "code",
      "metadata": {
        "id": "B2aqfOUL12uZ"
      },
      "source": [
        "df=df.drop_duplicates(subset='text')"
      ],
      "execution_count": null,
      "outputs": []
    },
    {
      "cell_type": "code",
      "metadata": {
        "colab": {
          "base_uri": "https://localhost:8080/",
          "height": 1000
        },
        "id": "3xvPhXRA2GhM",
        "outputId": "3fc32c24-b044-496d-886b-76c88c45c866"
      },
      "source": [
        "df.tail(20)"
      ],
      "execution_count": 13,
      "outputs": [
        {
          "output_type": "execute_result",
          "data": {
            "text/html": [
              "<div>\n",
              "<style scoped>\n",
              "    .dataframe tbody tr th:only-of-type {\n",
              "        vertical-align: middle;\n",
              "    }\n",
              "\n",
              "    .dataframe tbody tr th {\n",
              "        vertical-align: top;\n",
              "    }\n",
              "\n",
              "    .dataframe thead th {\n",
              "        text-align: right;\n",
              "    }\n",
              "</style>\n",
              "<table border=\"1\" class=\"dataframe\">\n",
              "  <thead>\n",
              "    <tr style=\"text-align: right;\">\n",
              "      <th></th>\n",
              "      <th>created_at</th>\n",
              "      <th>file_name</th>\n",
              "      <th>followers</th>\n",
              "      <th>friends</th>\n",
              "      <th>group_name</th>\n",
              "      <th>location</th>\n",
              "      <th>retweet_count</th>\n",
              "      <th>screenname</th>\n",
              "      <th>search_query</th>\n",
              "      <th>text</th>\n",
              "      <th>twitter_id</th>\n",
              "      <th>username</th>\n",
              "      <th>polarity</th>\n",
              "      <th>partition_0</th>\n",
              "      <th>partition_1</th>\n",
              "    </tr>\n",
              "  </thead>\n",
              "  <tbody>\n",
              "    <tr>\n",
              "      <th>266075</th>\n",
              "      <td>2020-10-03 23:58:05</td>\n",
              "      <td>Youtube</td>\n",
              "      <td>10</td>\n",
              "      <td>30</td>\n",
              "      <td>Youtube</td>\n",
              "      <td>Youtube</td>\n",
              "      <td>0</td>\n",
              "      <td>YoungWheezy17</td>\n",
              "      <td>#Youtube</td>\n",
              "      <td>any minecraft youtubers wanna collab? pm me if...</td>\n",
              "      <td>1312542469842706432</td>\n",
              "      <td>Young Wheezy</td>\n",
              "      <td>0.4574</td>\n",
              "      <td>Technology</td>\n",
              "      <td>Youtube</td>\n",
              "    </tr>\n",
              "    <tr>\n",
              "      <th>266076</th>\n",
              "      <td>2020-10-03 23:58:01</td>\n",
              "      <td>Youtube</td>\n",
              "      <td>10</td>\n",
              "      <td>80</td>\n",
              "      <td>Youtube</td>\n",
              "      <td>NaN</td>\n",
              "      <td>0</td>\n",
              "      <td>saenz_colton</td>\n",
              "      <td>#Youtube</td>\n",
              "      <td>Among_us Livestream in 2 hours at 9pm central ...</td>\n",
              "      <td>1312542455623892992</td>\n",
              "      <td>Colton Saenz</td>\n",
              "      <td>0.0000</td>\n",
              "      <td>Technology</td>\n",
              "      <td>Youtube</td>\n",
              "    </tr>\n",
              "    <tr>\n",
              "      <th>266077</th>\n",
              "      <td>2020-10-03 23:57:52</td>\n",
              "      <td>Youtube</td>\n",
              "      <td>13</td>\n",
              "      <td>6</td>\n",
              "      <td>Youtube</td>\n",
              "      <td>Xantontown</td>\n",
              "      <td>1</td>\n",
              "      <td>18Redemption</td>\n",
              "      <td>#Youtube</td>\n",
              "      <td>• Follow me •                                 ...</td>\n",
              "      <td>1312542415417487361</td>\n",
              "      <td>VIRAL 🌎🌍🌏</td>\n",
              "      <td>0.0000</td>\n",
              "      <td>Technology</td>\n",
              "      <td>Youtube</td>\n",
              "    </tr>\n",
              "    <tr>\n",
              "      <th>266078</th>\n",
              "      <td>2020-10-03 23:57:39</td>\n",
              "      <td>Youtube</td>\n",
              "      <td>578</td>\n",
              "      <td>833</td>\n",
              "      <td>Youtube</td>\n",
              "      <td>NaN</td>\n",
              "      <td>1</td>\n",
              "      <td>TheGamerzHaven</td>\n",
              "      <td>#Youtube</td>\n",
              "      <td>TheGamerzHaven is hosting Pathfinder with _Pho...</td>\n",
              "      <td>1312542362476961794</td>\n",
              "      <td>Kumo</td>\n",
              "      <td>0.0000</td>\n",
              "      <td>Technology</td>\n",
              "      <td>Youtube</td>\n",
              "    </tr>\n",
              "    <tr>\n",
              "      <th>266079</th>\n",
              "      <td>2020-10-03 23:57:02</td>\n",
              "      <td>Youtube</td>\n",
              "      <td>4</td>\n",
              "      <td>18</td>\n",
              "      <td>Youtube</td>\n",
              "      <td>Kentucky, USA</td>\n",
              "      <td>0</td>\n",
              "      <td>TheUnD3adArmy</td>\n",
              "      <td>#Youtube</td>\n",
              "      <td>Call of Duty Warzone Best Montage! CallOfDuty ...</td>\n",
              "      <td>1312542206092292096</td>\n",
              "      <td>TheUnD3adArmy/#FazeUnDead</td>\n",
              "      <td>0.6696</td>\n",
              "      <td>Technology</td>\n",
              "      <td>Youtube</td>\n",
              "    </tr>\n",
              "    <tr>\n",
              "      <th>266080</th>\n",
              "      <td>2020-10-03 23:56:54</td>\n",
              "      <td>Youtube</td>\n",
              "      <td>441</td>\n",
              "      <td>3375</td>\n",
              "      <td>Youtube</td>\n",
              "      <td>United States</td>\n",
              "      <td>0</td>\n",
              "      <td>_communityshop_</td>\n",
              "      <td>#Youtube</td>\n",
              "      <td>SouthCarolina   Support the stream:  Thank You...</td>\n",
              "      <td>1312542174043570177</td>\n",
              "      <td>https://works-micro-office.freeforums.net</td>\n",
              "      <td>0.6696</td>\n",
              "      <td>Technology</td>\n",
              "      <td>Youtube</td>\n",
              "    </tr>\n",
              "    <tr>\n",
              "      <th>266081</th>\n",
              "      <td>2020-10-03 23:56:38</td>\n",
              "      <td>Youtube</td>\n",
              "      <td>80</td>\n",
              "      <td>145</td>\n",
              "      <td>Youtube</td>\n",
              "      <td>Australia</td>\n",
              "      <td>0</td>\n",
              "      <td>WolfWill_77_YT</td>\n",
              "      <td>#Youtube</td>\n",
              "      <td>It's time to hunt for more masks in CrashBandi...</td>\n",
              "      <td>1312542105156288512</td>\n",
              "      <td>WOLFWILL</td>\n",
              "      <td>0.3802</td>\n",
              "      <td>Technology</td>\n",
              "      <td>Youtube</td>\n",
              "    </tr>\n",
              "    <tr>\n",
              "      <th>266082</th>\n",
              "      <td>2020-10-03 23:56:35</td>\n",
              "      <td>Youtube</td>\n",
              "      <td>1775</td>\n",
              "      <td>1960</td>\n",
              "      <td>Youtube</td>\n",
              "      <td>Dallas, TX</td>\n",
              "      <td>0</td>\n",
              "      <td>PamelaCFoland</td>\n",
              "      <td>#Youtube</td>\n",
              "      <td>Saturday night movie time!  I love this movie!...</td>\n",
              "      <td>1312542093458526210</td>\n",
              "      <td>Pamela Foland</td>\n",
              "      <td>0.7249</td>\n",
              "      <td>Technology</td>\n",
              "      <td>Youtube</td>\n",
              "    </tr>\n",
              "    <tr>\n",
              "      <th>266083</th>\n",
              "      <td>2020-10-03 23:56:34</td>\n",
              "      <td>Youtube</td>\n",
              "      <td>4336</td>\n",
              "      <td>66</td>\n",
              "      <td>Youtube</td>\n",
              "      <td>🌎 Worldwide</td>\n",
              "      <td>0</td>\n",
              "      <td>musicnews360</td>\n",
              "      <td>#Youtube</td>\n",
              "      <td>$AAPL $TSLA $MSFT $SPY $AMZN $FB $GOOG music ...</td>\n",
              "      <td>1312542087892664320</td>\n",
              "      <td>Music News 360</td>\n",
              "      <td>0.6792</td>\n",
              "      <td>Technology</td>\n",
              "      <td>Youtube</td>\n",
              "    </tr>\n",
              "    <tr>\n",
              "      <th>266084</th>\n",
              "      <td>2020-10-03 23:55:51</td>\n",
              "      <td>Youtube</td>\n",
              "      <td>103</td>\n",
              "      <td>21</td>\n",
              "      <td>Youtube</td>\n",
              "      <td>NaN</td>\n",
              "      <td>0</td>\n",
              "      <td>DeasyLoverss</td>\n",
              "      <td>#Youtube</td>\n",
              "      <td>youtube channel : Deasy Natalina Video Officia...</td>\n",
              "      <td>1312541906568507392</td>\n",
              "      <td>Deasy natalina FC</td>\n",
              "      <td>0.0000</td>\n",
              "      <td>Technology</td>\n",
              "      <td>Youtube</td>\n",
              "    </tr>\n",
              "    <tr>\n",
              "      <th>266085</th>\n",
              "      <td>2020-10-03 23:55:39</td>\n",
              "      <td>Youtube</td>\n",
              "      <td>1820</td>\n",
              "      <td>942</td>\n",
              "      <td>Youtube</td>\n",
              "      <td>Florida, USA</td>\n",
              "      <td>1</td>\n",
              "      <td>jakejameslugo</td>\n",
              "      <td>#Youtube</td>\n",
              "      <td>So I got my next video for the channel DONE to...</td>\n",
              "      <td>1312541857562402816</td>\n",
              "      <td>Jakejames Lugo</td>\n",
              "      <td>0.9200</td>\n",
              "      <td>Technology</td>\n",
              "      <td>Youtube</td>\n",
              "    </tr>\n",
              "    <tr>\n",
              "      <th>266086</th>\n",
              "      <td>2020-10-03 23:55:24</td>\n",
              "      <td>Youtube</td>\n",
              "      <td>561</td>\n",
              "      <td>881</td>\n",
              "      <td>Youtube</td>\n",
              "      <td>NaN</td>\n",
              "      <td>0</td>\n",
              "      <td>crystalmonay21</td>\n",
              "      <td>#Youtube</td>\n",
              "      <td>‼️NEW VIDEO‼️ Films inspired by Jodorowskys Du...</td>\n",
              "      <td>1312541794404573186</td>\n",
              "      <td>Those 2! REACTS On YT 💕😁</td>\n",
              "      <td>0.5411</td>\n",
              "      <td>Technology</td>\n",
              "      <td>Youtube</td>\n",
              "    </tr>\n",
              "    <tr>\n",
              "      <th>266087</th>\n",
              "      <td>2020-10-03 23:55:20</td>\n",
              "      <td>Youtube</td>\n",
              "      <td>89564</td>\n",
              "      <td>63907</td>\n",
              "      <td>Youtube</td>\n",
              "      <td>England</td>\n",
              "      <td>1</td>\n",
              "      <td>Susanjmccann</td>\n",
              "      <td>#Youtube</td>\n",
              "      <td>This prayer is for you if you're unwell, or if...</td>\n",
              "      <td>1312541779347079169</td>\n",
              "      <td>Susan McCann</td>\n",
              "      <td>0.3612</td>\n",
              "      <td>Technology</td>\n",
              "      <td>Youtube</td>\n",
              "    </tr>\n",
              "    <tr>\n",
              "      <th>266088</th>\n",
              "      <td>2020-10-03 23:55:16</td>\n",
              "      <td>Youtube</td>\n",
              "      <td>42410</td>\n",
              "      <td>33958</td>\n",
              "      <td>Youtube</td>\n",
              "      <td>England.</td>\n",
              "      <td>1</td>\n",
              "      <td>themerry_monk</td>\n",
              "      <td>#Youtube</td>\n",
              "      <td>You already know that you help many people, da...</td>\n",
              "      <td>1312541762662084608</td>\n",
              "      <td>Gerry McCann</td>\n",
              "      <td>0.9062</td>\n",
              "      <td>Technology</td>\n",
              "      <td>Youtube</td>\n",
              "    </tr>\n",
              "    <tr>\n",
              "      <th>266089</th>\n",
              "      <td>2020-10-03 23:55:04</td>\n",
              "      <td>Youtube</td>\n",
              "      <td>561</td>\n",
              "      <td>881</td>\n",
              "      <td>Youtube</td>\n",
              "      <td>NaN</td>\n",
              "      <td>0</td>\n",
              "      <td>crystalmonay21</td>\n",
              "      <td>#Youtube</td>\n",
              "      <td>‼️NEW VIDEO‼️ Films inspired by Jodorowskys Du...</td>\n",
              "      <td>1312541709650350080</td>\n",
              "      <td>Those 2! REACTS On YT 💕😁</td>\n",
              "      <td>0.5411</td>\n",
              "      <td>Technology</td>\n",
              "      <td>Youtube</td>\n",
              "    </tr>\n",
              "    <tr>\n",
              "      <th>266090</th>\n",
              "      <td>2020-10-03 23:54:59</td>\n",
              "      <td>Youtube</td>\n",
              "      <td>176</td>\n",
              "      <td>9</td>\n",
              "      <td>Youtube</td>\n",
              "      <td>NaN</td>\n",
              "      <td>0</td>\n",
              "      <td>asian_view</td>\n",
              "      <td>#Youtube</td>\n",
              "      <td>New vlog arrivals! Discover a lovely culture t...</td>\n",
              "      <td>1312541692046667777</td>\n",
              "      <td>Asian View</td>\n",
              "      <td>0.9167</td>\n",
              "      <td>Technology</td>\n",
              "      <td>Youtube</td>\n",
              "    </tr>\n",
              "    <tr>\n",
              "      <th>266091</th>\n",
              "      <td>2020-10-03 23:54:54</td>\n",
              "      <td>Youtube</td>\n",
              "      <td>308</td>\n",
              "      <td>567</td>\n",
              "      <td>Youtube</td>\n",
              "      <td>London UK</td>\n",
              "      <td>1</td>\n",
              "      <td>Kaiu24</td>\n",
              "      <td>#Youtube</td>\n",
              "      <td>New Video is up. Finally showing my new Stream...</td>\n",
              "      <td>1312541667703033858</td>\n",
              "      <td>Kaiu24</td>\n",
              "      <td>0.3182</td>\n",
              "      <td>Technology</td>\n",
              "      <td>Youtube</td>\n",
              "    </tr>\n",
              "    <tr>\n",
              "      <th>266092</th>\n",
              "      <td>2020-10-03 23:54:53</td>\n",
              "      <td>Youtube</td>\n",
              "      <td>27</td>\n",
              "      <td>101</td>\n",
              "      <td>Youtube</td>\n",
              "      <td>England, United Kingdom</td>\n",
              "      <td>0</td>\n",
              "      <td>RyanDeebo</td>\n",
              "      <td>#Youtube</td>\n",
              "      <td>NEW VIDEO!!   FRIEND v FRIEND CHALLENGE!!     ...</td>\n",
              "      <td>1312541664494444544</td>\n",
              "      <td>RyanDeebo</td>\n",
              "      <td>0.9015</td>\n",
              "      <td>Technology</td>\n",
              "      <td>Youtube</td>\n",
              "    </tr>\n",
              "    <tr>\n",
              "      <th>266093</th>\n",
              "      <td>2020-10-03 23:54:45</td>\n",
              "      <td>Youtube</td>\n",
              "      <td>110</td>\n",
              "      <td>171</td>\n",
              "      <td>Youtube</td>\n",
              "      <td>NaN</td>\n",
              "      <td>0</td>\n",
              "      <td>monay_crystal</td>\n",
              "      <td>#Youtube</td>\n",
              "      <td>‼️NEW VIDEO‼️ Films inspired by Jodorowskys Du...</td>\n",
              "      <td>1312541633603395584</td>\n",
              "      <td>Those 2! REACTS On YouTube💕😘</td>\n",
              "      <td>0.5411</td>\n",
              "      <td>Technology</td>\n",
              "      <td>Youtube</td>\n",
              "    </tr>\n",
              "    <tr>\n",
              "      <th>266094</th>\n",
              "      <td>2020-10-03 23:54:30</td>\n",
              "      <td>Youtube</td>\n",
              "      <td>110</td>\n",
              "      <td>171</td>\n",
              "      <td>Youtube</td>\n",
              "      <td>NaN</td>\n",
              "      <td>0</td>\n",
              "      <td>monay_crystal</td>\n",
              "      <td>#Youtube</td>\n",
              "      <td>‼️NEW VIDEO‼️ Films inspired by Jodorowskys Du...</td>\n",
              "      <td>1312541567626993666</td>\n",
              "      <td>Those 2! REACTS On YouTube💕😘</td>\n",
              "      <td>0.5411</td>\n",
              "      <td>Technology</td>\n",
              "      <td>Youtube</td>\n",
              "    </tr>\n",
              "  </tbody>\n",
              "</table>\n",
              "</div>"
            ],
            "text/plain": [
              "                 created_at file_name  ...  partition_0  partition_1\n",
              "266075  2020-10-03 23:58:05   Youtube  ...   Technology      Youtube\n",
              "266076  2020-10-03 23:58:01   Youtube  ...   Technology      Youtube\n",
              "266077  2020-10-03 23:57:52   Youtube  ...   Technology      Youtube\n",
              "266078  2020-10-03 23:57:39   Youtube  ...   Technology      Youtube\n",
              "266079  2020-10-03 23:57:02   Youtube  ...   Technology      Youtube\n",
              "266080  2020-10-03 23:56:54   Youtube  ...   Technology      Youtube\n",
              "266081  2020-10-03 23:56:38   Youtube  ...   Technology      Youtube\n",
              "266082  2020-10-03 23:56:35   Youtube  ...   Technology      Youtube\n",
              "266083  2020-10-03 23:56:34   Youtube  ...   Technology      Youtube\n",
              "266084  2020-10-03 23:55:51   Youtube  ...   Technology      Youtube\n",
              "266085  2020-10-03 23:55:39   Youtube  ...   Technology      Youtube\n",
              "266086  2020-10-03 23:55:24   Youtube  ...   Technology      Youtube\n",
              "266087  2020-10-03 23:55:20   Youtube  ...   Technology      Youtube\n",
              "266088  2020-10-03 23:55:16   Youtube  ...   Technology      Youtube\n",
              "266089  2020-10-03 23:55:04   Youtube  ...   Technology      Youtube\n",
              "266090  2020-10-03 23:54:59   Youtube  ...   Technology      Youtube\n",
              "266091  2020-10-03 23:54:54   Youtube  ...   Technology      Youtube\n",
              "266092  2020-10-03 23:54:53   Youtube  ...   Technology      Youtube\n",
              "266093  2020-10-03 23:54:45   Youtube  ...   Technology      Youtube\n",
              "266094  2020-10-03 23:54:30   Youtube  ...   Technology      Youtube\n",
              "\n",
              "[20 rows x 15 columns]"
            ]
          },
          "metadata": {},
          "execution_count": 13
        }
      ]
    },
    {
      "cell_type": "markdown",
      "metadata": {
        "id": "82xFrVF4av5X"
      },
      "source": [
        "Vectorizing the reviews"
      ]
    },
    {
      "cell_type": "code",
      "metadata": {
        "id": "i1gRkXbXy4hZ"
      },
      "source": [
        "from textblob import TextBlob\n",
        "\n",
        "def getSubjectivity(text):\n",
        "    return TextBlob(text).sentiment.subjectivity\n",
        "\n",
        "def getPolarity(text):\n",
        "    return TextBlob(text).sentiment.polarity\n",
        "\n",
        "#def getFilteredText(text):\n",
        "#    text= cleanText(text);\n",
        "#    return text\n",
        "\n",
        "df['Subjectivity']=df['text'].apply(getSubjectivity)\n",
        "df['NewPolarity']=df['text'].apply(getPolarity)\n",
        "#df['CleanedText']=df['text'].apply(getFilteredText)"
      ],
      "execution_count": 14,
      "outputs": []
    },
    {
      "cell_type": "markdown",
      "metadata": {
        "id": "WcuLa6iIa5yU"
      },
      "source": [
        "Generating the wordcloud after text filtering"
      ]
    },
    {
      "cell_type": "code",
      "metadata": {
        "colab": {
          "base_uri": "https://localhost:8080/",
          "height": 264
        },
        "id": "M9QTh3MxSBFz",
        "outputId": "f0c7e40f-82c1-488a-8c09-bce1c29af689"
      },
      "source": [
        "#Plot a word cloud \n",
        "from wordcloud import WordCloud\n",
        "import tweepy\n",
        "import numpy as np\n",
        "import matplotlib.pyplot as plt\n",
        "plt.style.use('fivethirtyeight')\n",
        "\n",
        "restricted=['YOUTUBE','SUBSCRIBE','CHECK','twitch','New', 'video','Follow','Comment']+stopwords.words('english')\n",
        "\n",
        "allWords = ' '.join( [twts for twts in df['text']])\n",
        "wordCloud = WordCloud( width = 300, height= 300, random_state = 21, max_font_size = 119, stopwords=restricted).generate(allWords)\n",
        "\n",
        "plt.imshow(wordCloud, interpolation = \"bilinear\")\n",
        "plt.axis('off')\n",
        "plt.show()"
      ],
      "execution_count": 15,
      "outputs": [
        {
          "output_type": "display_data",
          "data": {
            "image/png": "[encoded data removed]",
            "text/plain": [
              "<Figure size 432x288 with 1 Axes>"
            ]
          },
          "metadata": {}
        }
      ]
    },
    {
      "cell_type": "markdown",
      "metadata": {
        "id": "5XlrHiGkbAYf"
      },
      "source": [
        "Generating the analysis (Negative, Positive, Neutral)"
      ]
    },
    {
      "cell_type": "code",
      "metadata": {
        "id": "yokx5IWITwGB"
      },
      "source": [
        "#Create a function to compute positive, negative or neutral text\n",
        "\n",
        "def getAnalysis(score):\n",
        " if score < 0:\n",
        "  return 'Negative'\n",
        " elif score == 0:\n",
        "  return 'Neutral'\n",
        " else:\n",
        "  return 'Positive'\n",
        "\n",
        "df['Analysis']= df['NewPolarity'].apply(getAnalysis)\n"
      ],
      "execution_count": 16,
      "outputs": []
    },
    {
      "cell_type": "code",
      "metadata": {
        "colab": {
          "base_uri": "https://localhost:8080/",
          "height": 1000
        },
        "id": "z5KMIn20TwNv",
        "outputId": "126b28bc-a94e-4b73-acc4-593cd2421789"
      },
      "source": [
        "df[['file_name', 'text', 'Subjectivity', 'NewPolarity','Analysis']].head(50)\n"
      ],
      "execution_count": 68,
      "outputs": [
        {
          "output_type": "execute_result",
          "data": {
            "text/html": [
              "<div>\n",
              "<style scoped>\n",
              "    .dataframe tbody tr th:only-of-type {\n",
              "        vertical-align: middle;\n",
              "    }\n",
              "\n",
              "    .dataframe tbody tr th {\n",
              "        vertical-align: top;\n",
              "    }\n",
              "\n",
              "    .dataframe thead th {\n",
              "        text-align: right;\n",
              "    }\n",
              "</style>\n",
              "<table border=\"1\" class=\"dataframe\">\n",
              "  <thead>\n",
              "    <tr style=\"text-align: right;\">\n",
              "      <th></th>\n",
              "      <th>file_name</th>\n",
              "      <th>text</th>\n",
              "      <th>Subjectivity</th>\n",
              "      <th>NewPolarity</th>\n",
              "      <th>Analysis</th>\n",
              "    </tr>\n",
              "  </thead>\n",
              "  <tbody>\n",
              "    <tr>\n",
              "      <th>0</th>\n",
              "      <td>Nvidia</td>\n",
              "      <td>NVIDIA GauGAN is actually a good tool to pract...</td>\n",
              "      <td>0.600000</td>\n",
              "      <td>0.700000</td>\n",
              "      <td>Positive</td>\n",
              "    </tr>\n",
              "    <tr>\n",
              "      <th>1</th>\n",
              "      <td>Nvidia</td>\n",
              "      <td>BullSequana X2415, the first supercomputer bla...</td>\n",
              "      <td>0.277778</td>\n",
              "      <td>0.250000</td>\n",
              "      <td>Positive</td>\n",
              "    </tr>\n",
              "    <tr>\n",
              "      <th>2</th>\n",
              "      <td>Nvidia</td>\n",
              "      <td>I'm going to attend GTC 2020 tonight! Excited....</td>\n",
              "      <td>0.750000</td>\n",
              "      <td>0.375000</td>\n",
              "      <td>Positive</td>\n",
              "    </tr>\n",
              "    <tr>\n",
              "      <th>3</th>\n",
              "      <td>Nvidia</td>\n",
              "      <td>NVIDIA delays launch of GeForce RTX 3070 until...</td>\n",
              "      <td>0.000000</td>\n",
              "      <td>0.000000</td>\n",
              "      <td>Neutral</td>\n",
              "    </tr>\n",
              "    <tr>\n",
              "      <th>4</th>\n",
              "      <td>Nvidia</td>\n",
              "      <td>BullSequana X2415, the first supercomputer bla...</td>\n",
              "      <td>0.277778</td>\n",
              "      <td>0.250000</td>\n",
              "      <td>Positive</td>\n",
              "    </tr>\n",
              "    <tr>\n",
              "      <th>5</th>\n",
              "      <td>Nvidia</td>\n",
              "      <td>BullSequana X2415, the first supercomputer bla...</td>\n",
              "      <td>0.277778</td>\n",
              "      <td>0.250000</td>\n",
              "      <td>Positive</td>\n",
              "    </tr>\n",
              "    <tr>\n",
              "      <th>6</th>\n",
              "      <td>Nvidia</td>\n",
              "      <td>Today, don’t miss the World’s largest AI confe...</td>\n",
              "      <td>0.000000</td>\n",
              "      <td>0.000000</td>\n",
              "      <td>Neutral</td>\n",
              "    </tr>\n",
              "    <tr>\n",
              "      <th>7</th>\n",
              "      <td>Nvidia</td>\n",
              "      <td>BullSequana X2415, the first supercomputer bla...</td>\n",
              "      <td>0.277778</td>\n",
              "      <td>0.250000</td>\n",
              "      <td>Positive</td>\n",
              "    </tr>\n",
              "    <tr>\n",
              "      <th>8</th>\n",
              "      <td>Nvidia</td>\n",
              "      <td>BullSequana X2415, the first supercomputer bla...</td>\n",
              "      <td>0.277778</td>\n",
              "      <td>0.250000</td>\n",
              "      <td>Positive</td>\n",
              "    </tr>\n",
              "    <tr>\n",
              "      <th>9</th>\n",
              "      <td>Nvidia</td>\n",
              "      <td>NVIDIA GeForce RTX 30 Series – Top Facts &amp;amp;...</td>\n",
              "      <td>0.633333</td>\n",
              "      <td>0.033333</td>\n",
              "      <td>Positive</td>\n",
              "    </tr>\n",
              "    <tr>\n",
              "      <th>10</th>\n",
              "      <td>Nvidia</td>\n",
              "      <td>In a bizarre twist to this already highly co...</td>\n",
              "      <td>0.550649</td>\n",
              "      <td>0.090909</td>\n",
              "      <td>Positive</td>\n",
              "    </tr>\n",
              "    <tr>\n",
              "      <th>11</th>\n",
              "      <td>Nvidia</td>\n",
              "      <td>PhotoModeMonday  MAN'S ROAD ☁️      TheWitche...</td>\n",
              "      <td>0.000000</td>\n",
              "      <td>0.000000</td>\n",
              "      <td>Neutral</td>\n",
              "    </tr>\n",
              "    <tr>\n",
              "      <th>12</th>\n",
              "      <td>Nvidia</td>\n",
              "      <td>Hardware Utilization of VividSparks Products. ...</td>\n",
              "      <td>0.000000</td>\n",
              "      <td>0.000000</td>\n",
              "      <td>Neutral</td>\n",
              "    </tr>\n",
              "    <tr>\n",
              "      <th>13</th>\n",
              "      <td>Nvidia</td>\n",
              "      <td>Some news: The nvidia RTX 3070 has been delaye...</td>\n",
              "      <td>0.625000</td>\n",
              "      <td>0.437500</td>\n",
              "      <td>Positive</td>\n",
              "    </tr>\n",
              "    <tr>\n",
              "      <th>14</th>\n",
              "      <td>Nvidia</td>\n",
              "      <td>Hello everyone! I am excited to announce that ...</td>\n",
              "      <td>0.750000</td>\n",
              "      <td>0.468750</td>\n",
              "      <td>Positive</td>\n",
              "    </tr>\n",
              "    <tr>\n",
              "      <th>15</th>\n",
              "      <td>Nvidia</td>\n",
              "      <td>BullSequana X2415, the first supercomputer bla...</td>\n",
              "      <td>0.277778</td>\n",
              "      <td>0.250000</td>\n",
              "      <td>Positive</td>\n",
              "    </tr>\n",
              "    <tr>\n",
              "      <th>16</th>\n",
              "      <td>Nvidia</td>\n",
              "      <td>BullSequana X2415, the first supercomputer bla...</td>\n",
              "      <td>0.277778</td>\n",
              "      <td>0.250000</td>\n",
              "      <td>Positive</td>\n",
              "    </tr>\n",
              "    <tr>\n",
              "      <th>17</th>\n",
              "      <td>Nvidia</td>\n",
              "      <td>Analytics Drift will be covering the NVIDIA GT...</td>\n",
              "      <td>0.300000</td>\n",
              "      <td>1.000000</td>\n",
              "      <td>Positive</td>\n",
              "    </tr>\n",
              "    <tr>\n",
              "      <th>18</th>\n",
              "      <td>Nvidia</td>\n",
              "      <td>BullSequana X2415, the first supercomputer bla...</td>\n",
              "      <td>0.277778</td>\n",
              "      <td>0.250000</td>\n",
              "      <td>Positive</td>\n",
              "    </tr>\n",
              "    <tr>\n",
              "      <th>19</th>\n",
              "      <td>Nvidia</td>\n",
              "      <td>So nvidia broadcast is like, the raddest thing...</td>\n",
              "      <td>0.850000</td>\n",
              "      <td>-0.500000</td>\n",
              "      <td>Negative</td>\n",
              "    </tr>\n",
              "    <tr>\n",
              "      <th>20</th>\n",
              "      <td>Nvidia</td>\n",
              "      <td>StradVision has been selected as the top AI st...</td>\n",
              "      <td>0.633333</td>\n",
              "      <td>0.541667</td>\n",
              "      <td>Positive</td>\n",
              "    </tr>\n",
              "    <tr>\n",
              "      <th>21</th>\n",
              "      <td>Nvidia</td>\n",
              "      <td>ff  kick   ass!!!!!!! I was going to buy tw...</td>\n",
              "      <td>0.333333</td>\n",
              "      <td>-0.333333</td>\n",
              "      <td>Negative</td>\n",
              "    </tr>\n",
              "    <tr>\n",
              "      <th>22</th>\n",
              "      <td>Nvidia</td>\n",
              "      <td>Ryzen 9 3900X/ RX 5700 XT/ 32 GB OF RAM. Start...</td>\n",
              "      <td>0.533333</td>\n",
              "      <td>0.275000</td>\n",
              "      <td>Positive</td>\n",
              "    </tr>\n",
              "    <tr>\n",
              "      <th>23</th>\n",
              "      <td>Nvidia</td>\n",
              "      <td>Fight With NVIDIA! AMD’s New Flagship Card Cor...</td>\n",
              "      <td>0.393939</td>\n",
              "      <td>0.193182</td>\n",
              "      <td>Positive</td>\n",
              "    </tr>\n",
              "    <tr>\n",
              "      <th>24</th>\n",
              "      <td>Nvidia</td>\n",
              "      <td>Hi All, Please find Security Chronicle's Weekl...</td>\n",
              "      <td>0.000000</td>\n",
              "      <td>0.000000</td>\n",
              "      <td>Neutral</td>\n",
              "    </tr>\n",
              "    <tr>\n",
              "      <th>25</th>\n",
              "      <td>Nvidia</td>\n",
              "      <td>Imaginaire comprises of optimized implementati...</td>\n",
              "      <td>0.000000</td>\n",
              "      <td>0.000000</td>\n",
              "      <td>Neutral</td>\n",
              "    </tr>\n",
              "    <tr>\n",
              "      <th>26</th>\n",
              "      <td>Nvidia</td>\n",
              "      <td>Really bummed the  broadcast locks up my compu...</td>\n",
              "      <td>0.320000</td>\n",
              "      <td>0.145000</td>\n",
              "      <td>Positive</td>\n",
              "    </tr>\n",
              "    <tr>\n",
              "      <th>27</th>\n",
              "      <td>Nvidia</td>\n",
              "      <td>At VMworld 2020, , CEO,  predicts that 5G will...</td>\n",
              "      <td>0.477273</td>\n",
              "      <td>0.318182</td>\n",
              "      <td>Positive</td>\n",
              "    </tr>\n",
              "    <tr>\n",
              "      <th>28</th>\n",
              "      <td>Nvidia</td>\n",
              "      <td>PLANT THE SPIKE! I’m live on twitch playing VA...</td>\n",
              "      <td>0.500000</td>\n",
              "      <td>0.136364</td>\n",
              "      <td>Positive</td>\n",
              "    </tr>\n",
              "    <tr>\n",
              "      <th>29</th>\n",
              "      <td>Nvidia</td>\n",
              "      <td>Can you answer this? How to solve 'ERROR: An N...</td>\n",
              "      <td>0.000000</td>\n",
              "      <td>0.000000</td>\n",
              "      <td>Neutral</td>\n",
              "    </tr>\n",
              "    <tr>\n",
              "      <th>30</th>\n",
              "      <td>Nvidia</td>\n",
              "      <td>Installing and always keeping your PC ️ or GPU...</td>\n",
              "      <td>0.300000</td>\n",
              "      <td>1.000000</td>\n",
              "      <td>Positive</td>\n",
              "    </tr>\n",
              "    <tr>\n",
              "      <th>31</th>\n",
              "      <td>Nvidia</td>\n",
              "      <td>Its cold outside, now its time to game!!!!  vi...</td>\n",
              "      <td>0.483333</td>\n",
              "      <td>-0.525521</td>\n",
              "      <td>Negative</td>\n",
              "    </tr>\n",
              "    <tr>\n",
              "      <th>32</th>\n",
              "      <td>Nvidia</td>\n",
              "      <td>So what's the odds on if I can actually get an...</td>\n",
              "      <td>0.450000</td>\n",
              "      <td>0.200000</td>\n",
              "      <td>Positive</td>\n",
              "    </tr>\n",
              "    <tr>\n",
              "      <th>33</th>\n",
              "      <td>Nvidia</td>\n",
              "      <td>Nvidia , Domino’s, Cisco, Levi’s, and other st...</td>\n",
              "      <td>0.375000</td>\n",
              "      <td>-0.125000</td>\n",
              "      <td>Negative</td>\n",
              "    </tr>\n",
              "    <tr>\n",
              "      <th>34</th>\n",
              "      <td>Nvidia</td>\n",
              "      <td>Another huge shout out to  for the masterclass...</td>\n",
              "      <td>0.900000</td>\n",
              "      <td>0.400000</td>\n",
              "      <td>Positive</td>\n",
              "    </tr>\n",
              "    <tr>\n",
              "      <th>35</th>\n",
              "      <td>Nvidia</td>\n",
              "      <td>Actual photo of me admiring everyone's talent ...</td>\n",
              "      <td>0.100000</td>\n",
              "      <td>0.000000</td>\n",
              "      <td>Neutral</td>\n",
              "    </tr>\n",
              "    <tr>\n",
              "      <th>36</th>\n",
              "      <td>Nvidia</td>\n",
              "      <td>All I want to do is buy a rtx 3080 but can't. ...</td>\n",
              "      <td>0.666667</td>\n",
              "      <td>-0.383333</td>\n",
              "      <td>Negative</td>\n",
              "    </tr>\n",
              "    <tr>\n",
              "      <th>37</th>\n",
              "      <td>Nvidia</td>\n",
              "      <td>Gleaming in the Dark.  reddeadredemption2 RedD...</td>\n",
              "      <td>0.400000</td>\n",
              "      <td>-0.150000</td>\n",
              "      <td>Negative</td>\n",
              "    </tr>\n",
              "    <tr>\n",
              "      <th>38</th>\n",
              "      <td>Nvidia</td>\n",
              "      <td>Join me now for my end of month livestream dis...</td>\n",
              "      <td>0.400000</td>\n",
              "      <td>0.000000</td>\n",
              "      <td>Neutral</td>\n",
              "    </tr>\n",
              "    <tr>\n",
              "      <th>39</th>\n",
              "      <td>Nvidia</td>\n",
              "      <td>Very minor complaint, but why call the Canadia...</td>\n",
              "      <td>0.153333</td>\n",
              "      <td>-0.121667</td>\n",
              "      <td>Negative</td>\n",
              "    </tr>\n",
              "    <tr>\n",
              "      <th>40</th>\n",
              "      <td>Nvidia</td>\n",
              "      <td>Tourney starts at 4pm PST. Come support a smal...</td>\n",
              "      <td>0.400000</td>\n",
              "      <td>-0.250000</td>\n",
              "      <td>Negative</td>\n",
              "    </tr>\n",
              "    <tr>\n",
              "      <th>41</th>\n",
              "      <td>Nvidia</td>\n",
              "      <td>My new farm 2600$  1660 super nvidia mining</td>\n",
              "      <td>0.560606</td>\n",
              "      <td>0.234848</td>\n",
              "      <td>Positive</td>\n",
              "    </tr>\n",
              "    <tr>\n",
              "      <th>42</th>\n",
              "      <td>Nvidia</td>\n",
              "      <td>Well there's some cents ability. nvidia go g...</td>\n",
              "      <td>0.000000</td>\n",
              "      <td>0.000000</td>\n",
              "      <td>Neutral</td>\n",
              "    </tr>\n",
              "    <tr>\n",
              "      <th>43</th>\n",
              "      <td>Nvidia</td>\n",
              "      <td>Oct 5-9: NVIDIA $NVDA (UP +122% YTD) GPU Techn...</td>\n",
              "      <td>0.000000</td>\n",
              "      <td>0.000000</td>\n",
              "      <td>Neutral</td>\n",
              "    </tr>\n",
              "    <tr>\n",
              "      <th>44</th>\n",
              "      <td>Nvidia</td>\n",
              "      <td>nVidia if console games cater to an API co-dev...</td>\n",
              "      <td>0.000000</td>\n",
              "      <td>0.000000</td>\n",
              "      <td>Neutral</td>\n",
              "    </tr>\n",
              "    <tr>\n",
              "      <th>45</th>\n",
              "      <td>Nvidia</td>\n",
              "      <td>was able to stream and play warzone around 160...</td>\n",
              "      <td>0.512500</td>\n",
              "      <td>0.175000</td>\n",
              "      <td>Positive</td>\n",
              "    </tr>\n",
              "    <tr>\n",
              "      <th>46</th>\n",
              "      <td>Nvidia</td>\n",
              "      <td>MAKE sure to enter my giveaway 1x Rainbow Six ...</td>\n",
              "      <td>0.694444</td>\n",
              "      <td>0.000000</td>\n",
              "      <td>Neutral</td>\n",
              "    </tr>\n",
              "    <tr>\n",
              "      <th>47</th>\n",
              "      <td>Nvidia</td>\n",
              "      <td>life is 🟩   [ Follow Me] [Like❤] [Comment]  dr...</td>\n",
              "      <td>0.000000</td>\n",
              "      <td>0.000000</td>\n",
              "      <td>Neutral</td>\n",
              "    </tr>\n",
              "    <tr>\n",
              "      <th>48</th>\n",
              "      <td>Nvidia</td>\n",
              "      <td>&amp;gt; is sponsoring ’s GPU Technology Conf. GTC...</td>\n",
              "      <td>0.416667</td>\n",
              "      <td>0.183333</td>\n",
              "      <td>Positive</td>\n",
              "    </tr>\n",
              "    <tr>\n",
              "      <th>49</th>\n",
              "      <td>Nvidia</td>\n",
              "      <td>This is deep   Nvidia</td>\n",
              "      <td>0.400000</td>\n",
              "      <td>0.000000</td>\n",
              "      <td>Neutral</td>\n",
              "    </tr>\n",
              "  </tbody>\n",
              "</table>\n",
              "</div>"
            ],
            "text/plain": [
              "   file_name  ...  Analysis\n",
              "0     Nvidia  ...  Positive\n",
              "1     Nvidia  ...  Positive\n",
              "2     Nvidia  ...  Positive\n",
              "3     Nvidia  ...   Neutral\n",
              "4     Nvidia  ...  Positive\n",
              "5     Nvidia  ...  Positive\n",
              "6     Nvidia  ...   Neutral\n",
              "7     Nvidia  ...  Positive\n",
              "8     Nvidia  ...  Positive\n",
              "9     Nvidia  ...  Positive\n",
              "10    Nvidia  ...  Positive\n",
              "11    Nvidia  ...   Neutral\n",
              "12    Nvidia  ...   Neutral\n",
              "13    Nvidia  ...  Positive\n",
              "14    Nvidia  ...  Positive\n",
              "15    Nvidia  ...  Positive\n",
              "16    Nvidia  ...  Positive\n",
              "17    Nvidia  ...  Positive\n",
              "18    Nvidia  ...  Positive\n",
              "19    Nvidia  ...  Negative\n",
              "20    Nvidia  ...  Positive\n",
              "21    Nvidia  ...  Negative\n",
              "22    Nvidia  ...  Positive\n",
              "23    Nvidia  ...  Positive\n",
              "24    Nvidia  ...   Neutral\n",
              "25    Nvidia  ...   Neutral\n",
              "26    Nvidia  ...  Positive\n",
              "27    Nvidia  ...  Positive\n",
              "28    Nvidia  ...  Positive\n",
              "29    Nvidia  ...   Neutral\n",
              "30    Nvidia  ...  Positive\n",
              "31    Nvidia  ...  Negative\n",
              "32    Nvidia  ...  Positive\n",
              "33    Nvidia  ...  Negative\n",
              "34    Nvidia  ...  Positive\n",
              "35    Nvidia  ...   Neutral\n",
              "36    Nvidia  ...  Negative\n",
              "37    Nvidia  ...  Negative\n",
              "38    Nvidia  ...   Neutral\n",
              "39    Nvidia  ...  Negative\n",
              "40    Nvidia  ...  Negative\n",
              "41    Nvidia  ...  Positive\n",
              "42    Nvidia  ...   Neutral\n",
              "43    Nvidia  ...   Neutral\n",
              "44    Nvidia  ...   Neutral\n",
              "45    Nvidia  ...  Positive\n",
              "46    Nvidia  ...   Neutral\n",
              "47    Nvidia  ...   Neutral\n",
              "48    Nvidia  ...  Positive\n",
              "49    Nvidia  ...   Neutral\n",
              "\n",
              "[50 rows x 5 columns]"
            ]
          },
          "metadata": {},
          "execution_count": 68
        }
      ]
    },
    {
      "cell_type": "markdown",
      "metadata": {
        "id": "5rDH719ZbLjm"
      },
      "source": [
        "Plotting the Subjectivity vs Polarity graph for first 1500 reviews"
      ]
    },
    {
      "cell_type": "code",
      "metadata": {
        "colab": {
          "base_uri": "https://localhost:8080/",
          "height": 441
        },
        "id": "_OPzDCAQVBDC",
        "outputId": "14e2447b-543c-4c2b-dc29-0f1532c55978"
      },
      "source": [
        "#plot the polarity and subjectivity\n",
        "plt.figure(figsize=(8,6))\n",
        "for i in range(0, 100):\n",
        "  plt.scatter(df['NewPolarity'][i], df['Subjectivity'][i], color='Blue')\n",
        "\n",
        "  plt.title('Sentiment Analysis')\n",
        "  plt.xlabel('Polarity')\n",
        "  plt.ylabel('Subjectivity')\n",
        "plt.show()"
      ],
      "execution_count": 18,
      "outputs": [
        {
          "output_type": "display_data",
          "data": {
            "image/png": "[encoded data removed]",
            "text/plain": [
              "<Figure size 576x432 with 1 Axes>"
            ]
          },
          "metadata": {}
        }
      ]
    },
    {
      "cell_type": "code",
      "metadata": {
        "colab": {
          "base_uri": "https://localhost:8080/"
        },
        "id": "9iWTUEPKgx3Y",
        "outputId": "78b7adb3-3966-412a-af12-39b8d6596edc"
      },
      "source": [
        "df.shape[0]"
      ],
      "execution_count": 19,
      "outputs": [
        {
          "output_type": "execute_result",
          "data": {
            "text/plain": [
              "266095"
            ]
          },
          "metadata": {},
          "execution_count": 19
        }
      ]
    },
    {
      "cell_type": "markdown",
      "metadata": {
        "id": "u3uUw3TYbdAG"
      },
      "source": [
        "Plotting the Subjectivity vs Polarity graph for Nvidia throughout the dataframe"
      ]
    },
    {
      "cell_type": "code",
      "metadata": {
        "colab": {
          "base_uri": "https://localhost:8080/",
          "height": 441
        },
        "id": "YPjv1rOpf9ES",
        "outputId": "820df127-f71f-4dcf-a091-844d168bc012"
      },
      "source": [
        "#plot the polarity and subjectivity\n",
        "plt.figure(figsize=(8,6))\n",
        "for i in range(0, df.shape[0]):\n",
        "  if (df['file_name'][i]=='Nvidia'):\n",
        "        plt.scatter(df['NewPolarity'][i], df['Subjectivity'][i], color='Green')\n",
        "\n",
        "  plt.title('Sentiment Analysis Of Nvidia And its Products')\n",
        "  plt.xlabel('Polarity')\n",
        "  plt.ylabel('Subjectivity')\n",
        "plt.show()"
      ],
      "execution_count": 20,
      "outputs": [
        {
          "output_type": "display_data",
          "data": {
            "image/png": "[encoded data removed]",
            "text/plain": [
              "<Figure size 576x432 with 1 Axes>"
            ]
          },
          "metadata": {}
        }
      ]
    },
    {
      "cell_type": "markdown",
      "metadata": {
        "id": "VekL_7tdbnbn"
      },
      "source": [
        "Plotting the Subjectivity vs Polarity graph for Twitch throughout the dataframe"
      ]
    },
    {
      "cell_type": "code",
      "metadata": {
        "colab": {
          "base_uri": "https://localhost:8080/"
        },
        "id": "mG-vkv0yb5G-",
        "outputId": "cde163b3-42b0-4244-d774-cb0a9fa90fcd"
      },
      "source": [
        "#Get the percentage of Positive tweets\n",
        "ptweets = df[df.Analysis == 'Positive']\n",
        "ptweets = ptweets['text']\n",
        "\n",
        "round(  (ptweets.shape[0] / df.shape[0]) *100, 1)"
      ],
      "execution_count": 21,
      "outputs": [
        {
          "output_type": "execute_result",
          "data": {
            "text/plain": [
              "51.5"
            ]
          },
          "metadata": {},
          "execution_count": 21
        }
      ]
    },
    {
      "cell_type": "code",
      "metadata": {
        "colab": {
          "base_uri": "https://localhost:8080/"
        },
        "id": "GoIDmwhwR7I6",
        "outputId": "d334560e-eb38-4752-ba78-82e1b8bd154f"
      },
      "source": [
        "nvidia = ptweets[df.file_name=='Nvidia']\n",
        "ms = ptweets[df.file_name=='Microsoft']\n",
        "amd = ptweets[df.file_name=='AMD']\n",
        "amazon = ptweets[df.file_name=='Amazon']\n",
        "twitch = ptweets[df.file_name=='Twitch']\n",
        "apple = ptweets[df.file_name=='Apple']\n",
        "youtube = ptweets[df.file_name=='Youtube']\n",
        "tesla = ptweets[df.file_name=='Tesla']\n",
        "google = ptweets[df.file_name=='Google']\n",
        "netflix = ptweets[df.file_name=='Netflix']\n",
        "\n",
        "\n",
        "\n",
        "print(\"Positive reviews regarding Nvidia and its products: \"+str(round(  (nvidia.shape[0] / ptweets.shape[0]) *100,1))+\"%\")\n",
        "print(\"Positive reviews regarding Microsoft and its products: \"+str(round(  (ms.shape[0] / ptweets.shape[0]) *100, 1))+\"%\")\n",
        "print(\"Positive reviews regarding AMD and its products: \"+str(round(  (amd.shape[0] / ptweets.shape[0]) *100, 1))+\"%\")\n",
        "print(\"Positive reviews regarding Amazon and its products: \"+str(round(  (amazon.shape[0] / ptweets.shape[0]) *100, 1))+\"%\")\n",
        "print(\"Positive reviews regarding Twitch and its products: \"+str(round(  (twitch.shape[0] / ptweets.shape[0]) *100, 1))+\"%\")\n",
        "print(\"Positive reviews regarding Apple and its products: \"+str(round(  (apple.shape[0] / ptweets.shape[0]) *100, 1))+\"%\")\n",
        "print(\"Positive reviews regarding Youtube and its products: \"+str(round(  (youtube.shape[0] / ptweets.shape[0]) *100, 1))+\"%\")\n",
        "print(\"Positive reviews regarding Tesla and its products: \"+str(round(  (tesla.shape[0] / ptweets.shape[0]) *100, 1))+\"%\")\n",
        "print(\"Positive reviews regarding Google and its products: \"+str(round(  (google.shape[0] / ptweets.shape[0]) *100, 1))+\"%\")\n",
        "print(\"Positive reviews regarding Netflix and its products: \"+str(round(  (netflix.shape[0] / ptweets.shape[0]) *100, 1))+\"%\")\n"
      ],
      "execution_count": 22,
      "outputs": [
        {
          "output_type": "stream",
          "name": "stdout",
          "text": [
            "Positive reviews regarding Nvidia and its products: 1.4%\n",
            "Positive reviews regarding Microsoft and its products: 9.3%\n",
            "Positive reviews regarding AMD and its products: 1.3%\n",
            "Positive reviews regarding Amazon and its products: 10.1%\n",
            "Positive reviews regarding Twitch and its products: 17.4%\n",
            "Positive reviews regarding Apple and its products: 14.4%\n",
            "Positive reviews regarding Youtube and its products: 14.0%\n",
            "Positive reviews regarding Tesla and its products: 6.4%\n",
            "Positive reviews regarding Google and its products: 11.7%\n",
            "Positive reviews regarding Netflix and its products: 13.9%\n"
          ]
        }
      ]
    },
    {
      "cell_type": "code",
      "metadata": {
        "colab": {
          "base_uri": "https://localhost:8080/"
        },
        "id": "9n7Cj8AtcVwq",
        "outputId": "db3ef64b-0ceb-4cb4-a12e-c93f04ad97de"
      },
      "source": [
        "#Get the percentage of Negative tweets\n",
        "ntweets=df[df.Analysis == 'Negative']\n",
        "ntweets = ntweets['text']\n",
        "round(  (ntweets.shape[0] / df.shape[0]) *100, 1)"
      ],
      "execution_count": 23,
      "outputs": [
        {
          "output_type": "execute_result",
          "data": {
            "text/plain": [
              "12.5"
            ]
          },
          "metadata": {},
          "execution_count": 23
        }
      ]
    },
    {
      "cell_type": "code",
      "metadata": {
        "colab": {
          "base_uri": "https://localhost:8080/"
        },
        "id": "LELBNJ7rZd6I",
        "outputId": "61ae5505-d5c7-4534-da8c-6a1ab4b9c02b"
      },
      "source": [
        "nvidiant = ntweets[df.file_name=='Nvidia']\n",
        "msnt = ntweets[df.file_name=='Microsoft']\n",
        "amdnt = ntweets[df.file_name=='AMD']\n",
        "amazonnt = ntweets[df.file_name=='Amazon']\n",
        "twitchnt = ntweets[df.file_name=='Twitch']\n",
        "applent = ntweets[df.file_name=='Apple']\n",
        "youtubent = ntweets[df.file_name=='Youtube']\n",
        "teslant = ntweets[df.file_name=='Tesla']\n",
        "googlent = ntweets[df.file_name=='Google']\n",
        "netflixnt = ntweets[df.file_name=='Netflix']\n",
        "\n",
        "print(\"Negative reviews regarding Nvidia and its products: \"+str(round(  (nvidiant.shape[0] / ntweets.shape[0]) *100, 1))+\"%\")\n",
        "print(\"Negative reviews regarding Microsoft and its products: \"+str(round(  (msnt.shape[0] / ntweets.shape[0]) *100, 1))+\"%\")\n",
        "print(\"Negative reviews regarding AMD and its products: \"+str(round(  (amdnt.shape[0] / ntweets.shape[0]) *100, 1))+\"%\")\n",
        "print(\"Negative reviews regarding Amazon and its products: \"+str(round(  (amazonnt.shape[0] / ntweets.shape[0]) *100, 1))+\"%\")\n",
        "print(\"Negative reviews regarding Twitch and its products: \"+str(round(  (twitchnt.shape[0] / ntweets.shape[0]) *100, 1))+\"%\")\n",
        "print(\"Negative reviews regarding Apple and its products: \"+str(round(  (applent.shape[0] / ntweets.shape[0]) *100, 1))+\"%\")\n",
        "print(\"Negative reviews regarding Youtube and its products: \"+str(round(  (youtubent.shape[0] / ntweets.shape[0]) *100, 1))+\"%\")\n",
        "print(\"Negative reviews regarding Tesla and its products: \"+str(round(  (teslant.shape[0] / ntweets.shape[0]) *100, 1))+\"%\")\n",
        "print(\"Negative reviews regarding Google and its products: \"+str(round(  (googlent.shape[0] / ntweets.shape[0]) *100, 1))+\"%\")\n",
        "print(\"Negative reviews regarding Netflix and its products: \"+str(round(  (netflixnt.shape[0] / ntweets.shape[0]) *100, 1))+\"%\")\n"
      ],
      "execution_count": 24,
      "outputs": [
        {
          "output_type": "stream",
          "name": "stdout",
          "text": [
            "Negative reviews regarding Nvidia and its products: 1.8%\n",
            "Negative reviews regarding Microsoft and its products: 9.5%\n",
            "Negative reviews regarding AMD and its products: 1.0%\n",
            "Negative reviews regarding Amazon and its products: 7.5%\n",
            "Negative reviews regarding Twitch and its products: 17.2%\n",
            "Negative reviews regarding Apple and its products: 14.7%\n",
            "Negative reviews regarding Youtube and its products: 13.1%\n",
            "Negative reviews regarding Tesla and its products: 7.6%\n",
            "Negative reviews regarding Google and its products: 10.7%\n",
            "Negative reviews regarding Netflix and its products: 16.9%\n"
          ]
        }
      ]
    },
    {
      "cell_type": "code",
      "metadata": {
        "colab": {
          "base_uri": "https://localhost:8080/"
        },
        "id": "CP3e8Cj5chcb",
        "outputId": "2c1f8ec9-9255-4056-d9b4-79f7f818d584"
      },
      "source": [
        "#Get the percentage of Neutral tweets\n",
        "netweets=df[df.Analysis == 'Neutral']\n",
        "netweets = netweets['text']\n",
        "round(  (netweets.shape[0] / df.shape[0]) *100, 1)"
      ],
      "execution_count": 25,
      "outputs": [
        {
          "output_type": "execute_result",
          "data": {
            "text/plain": [
              "36.0"
            ]
          },
          "metadata": {},
          "execution_count": 25
        }
      ]
    },
    {
      "cell_type": "code",
      "metadata": {
        "colab": {
          "base_uri": "https://localhost:8080/",
          "height": 374
        },
        "id": "snL-OMEpcwHx",
        "outputId": "2b723287-bc31-430f-a21c-5ab0ee965a92"
      },
      "source": [
        "#Show the value counts\n",
        "\n",
        "df['Analysis'].value_counts()\n",
        "\n",
        "#plot and visualize the counts\n",
        "plt.title('Sentiment Analysis')\n",
        "plt.xlabel('Sentiment')\n",
        "plt.ylabel('Count')\n",
        "df['Analysis'].value_counts().plot(kind='bar')\n",
        "#amd.value_counts().plot(kind='bar')\n",
        "\n",
        "\n",
        "plt.show()\n"
      ],
      "execution_count": 26,
      "outputs": [
        {
          "output_type": "display_data",
          "data": {
            "image/png": "[encoded data removed]",
            "text/plain": [
              "<Figure size 432x288 with 1 Axes>"
            ]
          },
          "metadata": {}
        }
      ]
    },
    {
      "cell_type": "code",
      "metadata": {
        "id": "0h34AaEN-BM7"
      },
      "source": [
        "#positive reviews variables\n",
        "p_nvidia=round((nvidia.shape[0] / ptweets.shape[0])*100,1)\n",
        "p_ms=round((ms.shape[0] / ptweets.shape[0])*100,1)\n",
        "p_amd=round((amd.shape[0] / ptweets.shape[0])*100,1)\n",
        "p_amz=round((amazon.shape[0] / ptweets.shape[0])*100,1)\n",
        "p_twitch=round((twitch.shape[0] / ptweets.shape[0])*100,1)\n",
        "p_apple=round((apple.shape[0] / ptweets.shape[0])*100,1)\n",
        "p_ytube=round((youtube.shape[0] / ptweets.shape[0])*100,1)\n",
        "p_tesla=round((tesla.shape[0] / ptweets.shape[0])*100,1)\n",
        "p_google=round((netflix.shape[0] / ptweets.shape[0])*100,1)\n",
        "p_netflix=round((netflix.shape[0] / ptweets.shape[0])*100,1)\n",
        "\n",
        "#negative reviews variables\n",
        "n_nvidia=round((nvidiant.shape[0] / ntweets.shape[0])*100,1)\n",
        "n_ms=round((msnt.shape[0] / ntweets.shape[0])*100,1)\n",
        "n_amd=round((amdnt.shape[0] / ntweets.shape[0])*100,1)\n",
        "n_amz=round((amazonnt.shape[0] / ntweets.shape[0])*100,1)\n",
        "n_twitch=round((twitchnt.shape[0] / ntweets.shape[0])*100,1)\n",
        "n_apple=round((applent.shape[0] / ntweets.shape[0])*100,1)\n",
        "n_ytube=round((youtubent.shape[0] / ntweets.shape[0])*100,1)\n",
        "n_tesla=round((teslant.shape[0] / ntweets.shape[0])*100,1)\n",
        "n_google=round((netflixnt.shape[0] / ntweets.shape[0])*100,1)\n",
        "n_netflix=round((netflixnt.shape[0] / ntweets.shape[0])*100,1)"
      ],
      "execution_count": 27,
      "outputs": []
    },
    {
      "cell_type": "code",
      "metadata": {
        "colab": {
          "base_uri": "https://localhost:8080/",
          "height": 349
        },
        "id": "aQl64NmV2Uts",
        "outputId": "81c43e76-cd63-467d-a1f5-311a7612c538"
      },
      "source": [
        "plotdata = pd.DataFrame({\n",
        "    \"positive reviews\":[p_nvidia,p_ms,p_amd,p_amz,p_twitch,p_apple,p_ytube,p_tesla,p_google,p_netflix],\n",
        "    \"negative reviews\":[n_nvidia,n_ms,n_amd,n_amz,n_twitch,n_apple,n_ytube,n_tesla,n_google,n_netflix]\n",
        "    }, \n",
        "    index=[\"Nvidia\",\"Microsoft\",\"AMD\",\"Amazon\",\"Twitch\",\"Apple\", \"Youtube\",\"Tesla\",\"Google\",\"Netflix\"]\n",
        ")\n",
        "\n",
        "plotdata.plot(kind=\"bar\")"
      ],
      "execution_count": 28,
      "outputs": [
        {
          "output_type": "execute_result",
          "data": {
            "text/plain": [
              "<matplotlib.axes._subplots.AxesSubplot at 0x7fdd0466d7d0>"
            ]
          },
          "metadata": {},
          "execution_count": 28
        },
        {
          "output_type": "display_data",
          "data": {
            "image/png": "[encoded data removed]",
            "text/plain": [
              "<Figure size 432x288 with 1 Axes>"
            ]
          },
          "metadata": {}
        }
      ]
    },
    {
      "cell_type": "code",
      "metadata": {
        "id": "n8BoPJRGMiVV"
      },
      "source": [
        "import sklearn\n",
        "from sklearn.model_selection import train_test_split"
      ],
      "execution_count": 29,
      "outputs": []
    },
    {
      "cell_type": "code",
      "metadata": {
        "id": "e5kIfrnKNN21"
      },
      "source": [
        "from sklearn.svm import SVR\n",
        "\n",
        "x = df['text'].head(500)\n",
        "y = df['NewPolarity'].head(500)\n",
        "x_train, x_test, y_train, y_test = train_test_split(x,y, test_size=0.15, random_state=42)\n",
        "\n",
        "# array1=np.array(x)\n",
        "# array2=np.array(y)\n",
        "\n",
        "# array1=array1.reshape(-1,1)\n",
        "# array2=array2.reshape(-1,1)\n",
        "\n",
        "# y=y.astype('float')\n",
        "# print(array1)\n",
        "# print(array2)"
      ],
      "execution_count": 93,
      "outputs": []
    },
    {
      "cell_type": "code",
      "metadata": {
        "id": "IRjNjrl-iGzU"
      },
      "source": [
        "import joblib\n",
        "from sklearn.feature_extraction.text import CountVectorizer\n",
        "\n",
        "#Vectorize text reviews to numbers\n",
        "\n",
        "vec = CountVectorizer(stop_words='english')\n",
        "x = vec.fit_transform(x).toarray()\n",
        "x_test = vec.transform(x_test).toarray()\n",
        "y=y.astype('int')\n",
        "x=x.astype('int')\n"
      ],
      "execution_count": 94,
      "outputs": []
    },
    {
      "cell_type": "code",
      "metadata": {
        "colab": {
          "base_uri": "https://localhost:8080/"
        },
        "id": "KbFTSXdYN1d4",
        "outputId": "9d748df6-65ad-4a06-e2f0-f3b0d585d1e7"
      },
      "source": [
        "from sklearn.naive_bayes import MultinomialNB\n",
        "from sklearn.linear_model import LinearRegression\n",
        "\n",
        "model = MultinomialNB()\n",
        "model.fit(x,y)"
      ],
      "execution_count": 95,
      "outputs": [
        {
          "output_type": "execute_result",
          "data": {
            "text/plain": [
              "MultinomialNB(alpha=1.0, class_prior=None, fit_prior=True)"
            ]
          },
          "metadata": {},
          "execution_count": 95
        }
      ]
    },
    {
      "cell_type": "code",
      "metadata": {
        "colab": {
          "base_uri": "https://localhost:8080/"
        },
        "id": "sYjWQHLvpywg",
        "outputId": "ddd3af36-6729-4d6a-8e2c-716887d55452"
      },
      "source": [
        "from sklearn.linear_model import LinearRegression\n",
        "\n",
        "lireg=LinearRegression() # initialize the model\n",
        "lireg.fit(x,y) # fit he model\n",
        "y_pred=lireg.predict(x_test) # now predict\n",
        "\n",
        "# Taking out the accuracy \n",
        "\n",
        "model.score(x,y)"
      ],
      "execution_count": 101,
      "outputs": [
        {
          "output_type": "execute_result",
          "data": {
            "text/plain": [
              "0.994"
            ]
          },
          "metadata": {},
          "execution_count": 101
        }
      ]
    },
    {
      "cell_type": "code",
      "metadata": {
        "id": "fr5qQB8Gq4ox"
      },
      "source": [
        "#Code completed with 99% accuracy, thankyou for watching..."
      ],
      "execution_count": 102,
      "outputs": []
    }
  ]
}