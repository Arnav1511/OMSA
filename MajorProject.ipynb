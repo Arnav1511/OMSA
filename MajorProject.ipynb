{
  "nbformat": 4,
  "nbformat_minor": 0,
  "metadata": {
    "colab": {
      "name": "MajorProject.ipynb",
      "provenance": [],
      "collapsed_sections": [],
      "include_colab_link": true
    },
    "kernelspec": {
      "name": "python3",
      "display_name": "Python 3"
    },
    "language_info": {
      "name": "python"
    }
  },
  "cells": [
    {
      "cell_type": "markdown",
      "metadata": {
        "id": "view-in-github",
        "colab_type": "text"
      },
      "source": [
        "<a href=\"https://colab.research.google.com/github/Arnav1511/OMSA/blob/main/MajorProject.ipynb\" target=\"_parent\"><img src=\"https://colab.research.google.com/assets/colab-badge.svg\" alt=\"Open In Colab\"/></a>"
      ]
    },
    {
      "cell_type": "code",
      "metadata": {
        "colab": {
          "base_uri": "https://localhost:8080/"
        },
        "id": "xxAYlYss0n6I",
        "outputId": "36ef9e15-0249-45e4-83da-2cebb755c098"
      },
      "source": [
        "from google.colab import drive\n",
        "drive.mount(\"/content/gdrive\")\n"
      ],
      "execution_count": 1,
      "outputs": [
        {
          "output_type": "stream",
          "name": "stdout",
          "text": [
            "Mounted at /content/gdrive\n"
          ]
        }
      ]
    },
    {
      "cell_type": "code",
      "metadata": {
        "id": "7ZVTauN47Wd3"
      },
      "source": [
        "import os\n",
        "os.environ['KAGGLE_CONFIG_DIR']='/content/gdrive/MyDrive/kaggle_dataset'"
      ],
      "execution_count": 3,
      "outputs": []
    },
    {
      "cell_type": "code",
      "metadata": {
        "colab": {
          "base_uri": "https://localhost:8080/"
        },
        "id": "x1PAWYlj7ZW_",
        "outputId": "22de7df4-b4a0-4a6d-8c18-6ec0e98a5e72"
      },
      "source": [
        "%cd /content/gdrive/MyDrive/kaggle_dataset"
      ],
      "execution_count": 4,
      "outputs": [
        {
          "output_type": "stream",
          "name": "stdout",
          "text": [
            "/content/gdrive/MyDrive/kaggle_dataset\n"
          ]
        }
      ]
    },
    {
      "cell_type": "code",
      "metadata": {
        "colab": {
          "base_uri": "https://localhost:8080/"
        },
        "id": "HGPE9peo7dkP",
        "outputId": "75c8a024-212b-4e4b-ce5c-40e82bb745b7"
      },
      "source": [
        "!ls\n"
      ],
      "execution_count": 5,
      "outputs": [
        {
          "output_type": "stream",
          "name": "stdout",
          "text": [
            "'Bigtech - 12-07-2020 till 19-09-2020'\n",
            "'Bigtech - 20-09-2020 till 13-10-2020.csv'\n",
            " big-tech-companies-tweet-sentiment.zip\n",
            " kaggle.json\n"
          ]
        }
      ]
    },
    {
      "cell_type": "code",
      "metadata": {
        "colab": {
          "base_uri": "https://localhost:8080/"
        },
        "id": "EpmV8x567oaG",
        "outputId": "0d22f4d8-93be-42ce-c787-9beba8aaa450"
      },
      "source": [
        "!pwd\n"
      ],
      "execution_count": 6,
      "outputs": [
        {
          "output_type": "stream",
          "name": "stdout",
          "text": [
            "/content/gdrive/MyDrive/kaggle_dataset\n"
          ]
        }
      ]
    },
    {
      "cell_type": "code",
      "metadata": {
        "colab": {
          "base_uri": "https://localhost:8080/"
        },
        "id": "b5UgOpgY7q2C",
        "outputId": "e59fb64a-ae05-4ae0-a181-ca33596c2e42"
      },
      "source": [
        "!kaggle datasets download -d wjia26/big-tech-companies-tweet-sentiment"
      ],
      "execution_count": 7,
      "outputs": [
        {
          "output_type": "stream",
          "name": "stdout",
          "text": [
            "big-tech-companies-tweet-sentiment.zip: Skipping, found more recently modified local copy (use --force to force download)\n"
          ]
        }
      ]
    },
    {
      "cell_type": "code",
      "metadata": {
        "colab": {
          "base_uri": "https://localhost:8080/"
        },
        "id": "LVABHJk479xO",
        "outputId": "846f244f-5f47-4ff0-d20c-1713008b618f"
      },
      "source": [
        "!ls"
      ],
      "execution_count": 8,
      "outputs": [
        {
          "output_type": "stream",
          "name": "stdout",
          "text": [
            "'Bigtech - 12-07-2020 till 19-09-2020'\n",
            "'Bigtech - 20-09-2020 till 13-10-2020.csv'\n",
            " big-tech-companies-tweet-sentiment.zip\n",
            " kaggle.json\n"
          ]
        }
      ]
    },
    {
      "cell_type": "code",
      "metadata": {
        "colab": {
          "base_uri": "https://localhost:8080/"
        },
        "id": "F1fMmxjw8DK7",
        "outputId": "824a66cf-238b-4454-c8a7-76b0c3509f05"
      },
      "source": [
        "!unzip /content/gdrive/MyDrive/kaggle_dataset/big-tech-companies-tweet-sentiment.zip"
      ],
      "execution_count": 9,
      "outputs": [
        {
          "output_type": "stream",
          "name": "stdout",
          "text": [
            "Archive:  /content/gdrive/MyDrive/kaggle_dataset/big-tech-companies-tweet-sentiment.zip\n",
            "replace Bigtech - 12-07-2020 till 19-09-2020/Bigtech - 12-07-2020 till 19-09-2020.csv? [y]es, [n]o, [A]ll, [N]one, [r]ename: "
          ]
        }
      ]
    },
    {
      "cell_type": "code",
      "metadata": {
        "colab": {
          "base_uri": "https://localhost:8080/"
        },
        "id": "jUkxbv_Z8Ggg",
        "outputId": "1751c452-4273-4c30-94c3-4e8730fa4c26"
      },
      "source": [
        "!ls\n"
      ],
      "execution_count": 10,
      "outputs": [
        {
          "output_type": "stream",
          "name": "stdout",
          "text": [
            "'Bigtech - 12-07-2020 till 19-09-2020'\n",
            "'Bigtech - 20-09-2020 till 13-10-2020.csv'\n",
            " big-tech-companies-tweet-sentiment.zip\n",
            " kaggle.json\n"
          ]
        }
      ]
    },
    {
      "cell_type": "code",
      "metadata": {
        "colab": {
          "base_uri": "https://localhost:8080/"
        },
        "id": "RLdqager8JGk",
        "outputId": "9b4529ff-d9eb-4e00-ed4c-d71e42d06ab8"
      },
      "source": [
        "%cd Bigtech - 12-07-2020 till 19-09-2020"
      ],
      "execution_count": 11,
      "outputs": [
        {
          "output_type": "stream",
          "name": "stdout",
          "text": [
            "/content/gdrive/My Drive/kaggle_dataset/Bigtech - 12-07-2020 till 19-09-2020\n"
          ]
        }
      ]
    },
    {
      "cell_type": "code",
      "metadata": {
        "colab": {
          "base_uri": "https://localhost:8080/"
        },
        "id": "Z8-Mk1pEyRCM",
        "outputId": "b5f91aac-6cee-46c2-85a5-c2cf0adb5a7d"
      },
      "source": [
        "%cd .."
      ],
      "execution_count": 12,
      "outputs": [
        {
          "output_type": "stream",
          "name": "stdout",
          "text": [
            "/content/gdrive/My Drive/kaggle_dataset\n"
          ]
        }
      ]
    },
    {
      "cell_type": "code",
      "metadata": {
        "colab": {
          "base_uri": "https://localhost:8080/"
        },
        "id": "Kw43uRDP8R8m",
        "outputId": "d7fcf7e0-0c2f-4d60-cbcf-84b78283a692"
      },
      "source": [
        "!ls"
      ],
      "execution_count": 13,
      "outputs": [
        {
          "output_type": "stream",
          "name": "stdout",
          "text": [
            "'Bigtech - 12-07-2020 till 19-09-2020'\n",
            "'Bigtech - 20-09-2020 till 13-10-2020.csv'\n",
            " big-tech-companies-tweet-sentiment.zip\n",
            " kaggle.json\n"
          ]
        }
      ]
    },
    {
      "cell_type": "code",
      "metadata": {
        "id": "k6suY8f98UGu"
      },
      "source": [
        "import pandas as pd\n",
        "df=pd.read_csv(\"Bigtech - 20-09-2020 till 13-10-2020.csv\")\n"
      ],
      "execution_count": 43,
      "outputs": []
    },
    {
      "cell_type": "code",
      "metadata": {
        "colab": {
          "base_uri": "https://localhost:8080/"
        },
        "id": "v0XFHAQL8dGb",
        "outputId": "98a1e2cf-4a69-4784-bf7a-f95b8f3ed531"
      },
      "source": [
        "df.shape"
      ],
      "execution_count": 15,
      "outputs": [
        {
          "output_type": "execute_result",
          "data": {
            "text/plain": [
              "(266095, 15)"
            ]
          },
          "metadata": {},
          "execution_count": 15
        }
      ]
    },
    {
      "cell_type": "code",
      "metadata": {
        "colab": {
          "base_uri": "https://localhost:8080/"
        },
        "id": "mJndR-2P8hHX",
        "outputId": "9a58373e-4ea7-419c-dfc7-997b71edb7f9"
      },
      "source": [
        "df.columns"
      ],
      "execution_count": 16,
      "outputs": [
        {
          "output_type": "execute_result",
          "data": {
            "text/plain": [
              "Index(['created_at', 'file_name', 'followers', 'friends', 'group_name',\n",
              "       'location', 'retweet_count', 'screenname', 'search_query', 'text',\n",
              "       'twitter_id', 'username', 'polarity', 'partition_0', 'partition_1'],\n",
              "      dtype='object')"
            ]
          },
          "metadata": {},
          "execution_count": 16
        }
      ]
    },
    {
      "cell_type": "code",
      "metadata": {
        "id": "H0dpfhlo9S7g",
        "colab": {
          "base_uri": "https://localhost:8080/",
          "height": 487
        },
        "outputId": "95f7d9d2-622e-4bc2-c0b9-00e52fd8479e"
      },
      "source": [
        "df.head()"
      ],
      "execution_count": 44,
      "outputs": [
        {
          "output_type": "execute_result",
          "data": {
            "text/html": [
              "<div>\n",
              "<style scoped>\n",
              "    .dataframe tbody tr th:only-of-type {\n",
              "        vertical-align: middle;\n",
              "    }\n",
              "\n",
              "    .dataframe tbody tr th {\n",
              "        vertical-align: top;\n",
              "    }\n",
              "\n",
              "    .dataframe thead th {\n",
              "        text-align: right;\n",
              "    }\n",
              "</style>\n",
              "<table border=\"1\" class=\"dataframe\">\n",
              "  <thead>\n",
              "    <tr style=\"text-align: right;\">\n",
              "      <th></th>\n",
              "      <th>created_at</th>\n",
              "      <th>file_name</th>\n",
              "      <th>followers</th>\n",
              "      <th>friends</th>\n",
              "      <th>group_name</th>\n",
              "      <th>location</th>\n",
              "      <th>retweet_count</th>\n",
              "      <th>screenname</th>\n",
              "      <th>search_query</th>\n",
              "      <th>text</th>\n",
              "      <th>twitter_id</th>\n",
              "      <th>username</th>\n",
              "      <th>polarity</th>\n",
              "      <th>partition_0</th>\n",
              "      <th>partition_1</th>\n",
              "    </tr>\n",
              "  </thead>\n",
              "  <tbody>\n",
              "    <tr>\n",
              "      <th>0</th>\n",
              "      <td>2020-10-05 08:44:25</td>\n",
              "      <td>Nvidia</td>\n",
              "      <td>41</td>\n",
              "      <td>410</td>\n",
              "      <td>Nvidia</td>\n",
              "      <td>sydney</td>\n",
              "      <td>0</td>\n",
              "      <td>jyolyu</td>\n",
              "      <td>#Nvidia</td>\n",
              "      <td>#NVIDIA #GauGAN is actually a good tool to pra...</td>\n",
              "      <td>1313037313635565568</td>\n",
              "      <td>N0%Ice</td>\n",
              "      <td>0.4404</td>\n",
              "      <td>Technology</td>\n",
              "      <td>Nvidia</td>\n",
              "    </tr>\n",
              "    <tr>\n",
              "      <th>1</th>\n",
              "      <td>2020-10-05 08:44:03</td>\n",
              "      <td>Nvidia</td>\n",
              "      <td>367</td>\n",
              "      <td>267</td>\n",
              "      <td>Nvidia</td>\n",
              "      <td>PARIS</td>\n",
              "      <td>0</td>\n",
              "      <td>MiClaverie</td>\n",
              "      <td>#Nvidia</td>\n",
              "      <td>#BullSequana X2415, the first #supercomputer b...</td>\n",
              "      <td>1313037222422118400</td>\n",
              "      <td>Michèle Claverie</td>\n",
              "      <td>0.0000</td>\n",
              "      <td>Technology</td>\n",
              "      <td>Nvidia</td>\n",
              "    </tr>\n",
              "    <tr>\n",
              "      <th>2</th>\n",
              "      <td>2020-10-05 08:41:35</td>\n",
              "      <td>Nvidia</td>\n",
              "      <td>14</td>\n",
              "      <td>104</td>\n",
              "      <td>Nvidia</td>\n",
              "      <td>Japan</td>\n",
              "      <td>0</td>\n",
              "      <td>_stingraze</td>\n",
              "      <td>#Nvidia</td>\n",
              "      <td>I'm going to attend GTC 2020 tonight! Excited....</td>\n",
              "      <td>1313036602675916802</td>\n",
              "      <td>Tsubasa Kato</td>\n",
              "      <td>0.4003</td>\n",
              "      <td>Technology</td>\n",
              "      <td>Nvidia</td>\n",
              "    </tr>\n",
              "    <tr>\n",
              "      <th>3</th>\n",
              "      <td>2020-10-05 08:28:11</td>\n",
              "      <td>Nvidia</td>\n",
              "      <td>18286</td>\n",
              "      <td>941</td>\n",
              "      <td>Nvidia</td>\n",
              "      <td>NaN</td>\n",
              "      <td>0</td>\n",
              "      <td>gamingonlinux</td>\n",
              "      <td>#Nvidia</td>\n",
              "      <td>#NVIDIA delays launch of #GeForce RTX 3070 unt...</td>\n",
              "      <td>1313033229201477634</td>\n",
              "      <td>GamingOnLinux 🐧</td>\n",
              "      <td>0.0000</td>\n",
              "      <td>Technology</td>\n",
              "      <td>Nvidia</td>\n",
              "    </tr>\n",
              "    <tr>\n",
              "      <th>4</th>\n",
              "      <td>2020-10-05 08:18:05</td>\n",
              "      <td>Nvidia</td>\n",
              "      <td>42</td>\n",
              "      <td>84</td>\n",
              "      <td>Nvidia</td>\n",
              "      <td>Paris, France</td>\n",
              "      <td>0</td>\n",
              "      <td>anupdshetty</td>\n",
              "      <td>#Nvidia</td>\n",
              "      <td>#BullSequana X2415, the first #supercomputer b...</td>\n",
              "      <td>1313030688338317312</td>\n",
              "      <td>Anup Shetty</td>\n",
              "      <td>0.0000</td>\n",
              "      <td>Technology</td>\n",
              "      <td>Nvidia</td>\n",
              "    </tr>\n",
              "  </tbody>\n",
              "</table>\n",
              "</div>"
            ],
            "text/plain": [
              "            created_at file_name  followers  ...  polarity partition_0 partition_1\n",
              "0  2020-10-05 08:44:25    Nvidia         41  ...    0.4404  Technology      Nvidia\n",
              "1  2020-10-05 08:44:03    Nvidia        367  ...    0.0000  Technology      Nvidia\n",
              "2  2020-10-05 08:41:35    Nvidia         14  ...    0.4003  Technology      Nvidia\n",
              "3  2020-10-05 08:28:11    Nvidia      18286  ...    0.0000  Technology      Nvidia\n",
              "4  2020-10-05 08:18:05    Nvidia         42  ...    0.0000  Technology      Nvidia\n",
              "\n",
              "[5 rows x 15 columns]"
            ]
          },
          "metadata": {},
          "execution_count": 44
        }
      ]
    },
    {
      "cell_type": "code",
      "metadata": {
        "colab": {
          "base_uri": "https://localhost:8080/"
        },
        "id": "bo6XUObNsN9o",
        "outputId": "c88e891d-e8d3-42f0-9041-bfa3cc421ed0"
      },
      "source": [
        "tweet=df.text.values\n",
        "print(tweet)"
      ],
      "execution_count": 45,
      "outputs": [
        {
          "output_type": "stream",
          "name": "stdout",
          "text": [
            "['#NVIDIA #GauGAN is actually a good tool to practice composition/framing? https://t.co/CJyec1kNU1'\n",
            " '#BullSequana X2415, the first #supercomputer blade server in Europe to integrate #NVIDIA’s Ampere next-generation graphics processing unit architecture, the NVIDIA A100 Tensor Core #GPU s.  Read more ▶ https://t.co/5HXnY4IoJ5 Atos is sponsor at #Nvidia #GTC20 Digital https://t.co/KSd2CmfsUH'\n",
            " \"I'm going to attend GTC 2020 tonight! Excited. #Nvidia #GTC20\" ...\n",
            " 'NEW VIDEO!!   FRIEND v FRIEND CHALLENGE!!   https://t.co/dOrH0MRRNi   #friendvfriend #friends #challenge #challenger #youtube #YouTuber #twitch #TwitchStreamers'\n",
            " '‼️NEW VIDEO‼️ Films inspired by Jodorowskys Dune  REACTION 💥  YouTube: Those 2! REACTION  * HERE’S OUR VIDEO: https://t.co/f0wKQQ2Wpe * #youtube #those2 #those2reacts #reaction #subscribe #supportblackcreators #contentcreators #share #couple #dune #filmsinspiredbydune https://t.co/ismHqfBjtr'\n",
            " '‼️NEW VIDEO‼️ Films inspired by Jodorowskys Dune  REACTION 💥  YouTube: Those 2! REACTION  * HERE’S OUR VIDEO: https://t.co/f0wKQQ2Wpe * #youtube #those2 #those2reacts #reaction #subscribe #supportblackcreators #contentcreators #share #couple #dune #filmsinspiredbydune https://t.co/6uEP2KmGrz']\n"
          ]
        }
      ]
    },
    {
      "cell_type": "code",
      "metadata": {
        "colab": {
          "base_uri": "https://localhost:8080/"
        },
        "id": "iUyj3lPTwH6A",
        "outputId": "56140196-b83e-4115-f0a0-edd99ff52213"
      },
      "source": [
        "import nltk \n",
        "from nltk.tokenize import RegexpTokenizer #to remove punctuations and tokenize the text\n",
        "from nltk.corpus import stopwords # to remove the stop words after tokenization\n",
        "nltk.download('stopwords')\n",
        "nltk.download('punkt')\n",
        "\n",
        "#tokens_without_sw = [word for word in tweet if not word in stopwords.words()]"
      ],
      "execution_count": 26,
      "outputs": [
        {
          "output_type": "stream",
          "name": "stdout",
          "text": [
            "[nltk_data] Downloading package stopwords to /root/nltk_data...\n",
            "[nltk_data]   Package stopwords is already up-to-date!\n",
            "[nltk_data] Downloading package punkt to /root/nltk_data...\n",
            "[nltk_data]   Package punkt is already up-to-date!\n"
          ]
        },
        {
          "output_type": "execute_result",
          "data": {
            "text/plain": [
              "True"
            ]
          },
          "metadata": {},
          "execution_count": 26
        }
      ]
    },
    {
      "cell_type": "markdown",
      "metadata": {
        "id": "1-khqFOOfEyV"
      },
      "source": [
        "Cleaning The Text "
      ]
    },
    {
      "cell_type": "code",
      "metadata": {
        "colab": {
          "base_uri": "https://localhost:8080/",
          "height": 949
        },
        "id": "xjgsNK-VgreA",
        "outputId": "1d3ba19b-cee3-4ede-c1bc-bfd7b58e979c"
      },
      "source": [
        "import re\n",
        "\n",
        "emojis = re.compile(\"[\"\n",
        "    u\"\\U0001F600-\\U0001F64F\"  # emoticons\n",
        "    u\"\\U0001F300-\\U0001F5FF\"  # symbols & pictographs\n",
        "    u\"\\U0001F680-\\U0001F6FF\"  # transport & map symbols\n",
        "    u\"\\U0001F1E0-\\U0001F1FF\"  # flags (iOS)\n",
        "                        \"]+\", flags=re.UNICODE)\n",
        "\n",
        "def cleanTxt(text):\n",
        "  text = re.sub(r'@[A-Za-z0-9]+','',text) #Removed @mentions\n",
        "  text = re.sub(r'#','',text) #Removing the #symbol\n",
        "  text = re.sub(r'RT[\\s]+','',text)  #Removing the RT\n",
        "  text = re.sub(r'https?:\\/\\/\\S+','',text) #Removing the hyperlinks\n",
        "  text = emojis.sub(r'',text) #remove emojis\n",
        "\n",
        "  return text\n",
        "\n",
        "#Cleaning the text\n",
        "df['text']=df['text'].apply(cleanTxt)\n",
        "#Show the cleaned text\n",
        "df.head(12)\n"
      ],
      "execution_count": 46,
      "outputs": [
        {
          "output_type": "execute_result",
          "data": {
            "text/html": [
              "<div>\n",
              "<style scoped>\n",
              "    .dataframe tbody tr th:only-of-type {\n",
              "        vertical-align: middle;\n",
              "    }\n",
              "\n",
              "    .dataframe tbody tr th {\n",
              "        vertical-align: top;\n",
              "    }\n",
              "\n",
              "    .dataframe thead th {\n",
              "        text-align: right;\n",
              "    }\n",
              "</style>\n",
              "<table border=\"1\" class=\"dataframe\">\n",
              "  <thead>\n",
              "    <tr style=\"text-align: right;\">\n",
              "      <th></th>\n",
              "      <th>created_at</th>\n",
              "      <th>file_name</th>\n",
              "      <th>followers</th>\n",
              "      <th>friends</th>\n",
              "      <th>group_name</th>\n",
              "      <th>location</th>\n",
              "      <th>retweet_count</th>\n",
              "      <th>screenname</th>\n",
              "      <th>search_query</th>\n",
              "      <th>text</th>\n",
              "      <th>twitter_id</th>\n",
              "      <th>username</th>\n",
              "      <th>polarity</th>\n",
              "      <th>partition_0</th>\n",
              "      <th>partition_1</th>\n",
              "    </tr>\n",
              "  </thead>\n",
              "  <tbody>\n",
              "    <tr>\n",
              "      <th>0</th>\n",
              "      <td>2020-10-05 08:44:25</td>\n",
              "      <td>Nvidia</td>\n",
              "      <td>41</td>\n",
              "      <td>410</td>\n",
              "      <td>Nvidia</td>\n",
              "      <td>sydney</td>\n",
              "      <td>0</td>\n",
              "      <td>jyolyu</td>\n",
              "      <td>#Nvidia</td>\n",
              "      <td>NVIDIA GauGAN is actually a good tool to pract...</td>\n",
              "      <td>1313037313635565568</td>\n",
              "      <td>N0%Ice</td>\n",
              "      <td>0.4404</td>\n",
              "      <td>Technology</td>\n",
              "      <td>Nvidia</td>\n",
              "    </tr>\n",
              "    <tr>\n",
              "      <th>1</th>\n",
              "      <td>2020-10-05 08:44:03</td>\n",
              "      <td>Nvidia</td>\n",
              "      <td>367</td>\n",
              "      <td>267</td>\n",
              "      <td>Nvidia</td>\n",
              "      <td>PARIS</td>\n",
              "      <td>0</td>\n",
              "      <td>MiClaverie</td>\n",
              "      <td>#Nvidia</td>\n",
              "      <td>BullSequana X2415, the first supercomputer bla...</td>\n",
              "      <td>1313037222422118400</td>\n",
              "      <td>Michèle Claverie</td>\n",
              "      <td>0.0000</td>\n",
              "      <td>Technology</td>\n",
              "      <td>Nvidia</td>\n",
              "    </tr>\n",
              "    <tr>\n",
              "      <th>2</th>\n",
              "      <td>2020-10-05 08:41:35</td>\n",
              "      <td>Nvidia</td>\n",
              "      <td>14</td>\n",
              "      <td>104</td>\n",
              "      <td>Nvidia</td>\n",
              "      <td>Japan</td>\n",
              "      <td>0</td>\n",
              "      <td>_stingraze</td>\n",
              "      <td>#Nvidia</td>\n",
              "      <td>I'm going to attend GTC 2020 tonight! Excited....</td>\n",
              "      <td>1313036602675916802</td>\n",
              "      <td>Tsubasa Kato</td>\n",
              "      <td>0.4003</td>\n",
              "      <td>Technology</td>\n",
              "      <td>Nvidia</td>\n",
              "    </tr>\n",
              "    <tr>\n",
              "      <th>3</th>\n",
              "      <td>2020-10-05 08:28:11</td>\n",
              "      <td>Nvidia</td>\n",
              "      <td>18286</td>\n",
              "      <td>941</td>\n",
              "      <td>Nvidia</td>\n",
              "      <td>NaN</td>\n",
              "      <td>0</td>\n",
              "      <td>gamingonlinux</td>\n",
              "      <td>#Nvidia</td>\n",
              "      <td>NVIDIA delays launch of GeForce RTX 3070 until...</td>\n",
              "      <td>1313033229201477634</td>\n",
              "      <td>GamingOnLinux 🐧</td>\n",
              "      <td>0.0000</td>\n",
              "      <td>Technology</td>\n",
              "      <td>Nvidia</td>\n",
              "    </tr>\n",
              "    <tr>\n",
              "      <th>4</th>\n",
              "      <td>2020-10-05 08:18:05</td>\n",
              "      <td>Nvidia</td>\n",
              "      <td>42</td>\n",
              "      <td>84</td>\n",
              "      <td>Nvidia</td>\n",
              "      <td>Paris, France</td>\n",
              "      <td>0</td>\n",
              "      <td>anupdshetty</td>\n",
              "      <td>#Nvidia</td>\n",
              "      <td>BullSequana X2415, the first supercomputer bla...</td>\n",
              "      <td>1313030688338317312</td>\n",
              "      <td>Anup Shetty</td>\n",
              "      <td>0.0000</td>\n",
              "      <td>Technology</td>\n",
              "      <td>Nvidia</td>\n",
              "    </tr>\n",
              "    <tr>\n",
              "      <th>5</th>\n",
              "      <td>2020-10-05 08:15:05</td>\n",
              "      <td>Nvidia</td>\n",
              "      <td>16</td>\n",
              "      <td>39</td>\n",
              "      <td>Nvidia</td>\n",
              "      <td>Nürnberg, Bayern</td>\n",
              "      <td>0</td>\n",
              "      <td>mdepenbr</td>\n",
              "      <td>#Nvidia</td>\n",
              "      <td>BullSequana X2415, the first supercomputer bla...</td>\n",
              "      <td>1313029932059185153</td>\n",
              "      <td>Martin Depenbrock</td>\n",
              "      <td>0.0000</td>\n",
              "      <td>Technology</td>\n",
              "      <td>Nvidia</td>\n",
              "    </tr>\n",
              "    <tr>\n",
              "      <th>6</th>\n",
              "      <td>2020-10-05 08:13:47</td>\n",
              "      <td>Nvidia</td>\n",
              "      <td>26163</td>\n",
              "      <td>19140</td>\n",
              "      <td>Nvidia</td>\n",
              "      <td>Grenoble, France</td>\n",
              "      <td>4</td>\n",
              "      <td>SBUCloud</td>\n",
              "      <td>#Nvidia</td>\n",
              "      <td>Today, don’t miss the World’s largest AI confe...</td>\n",
              "      <td>1313029604593065985</td>\n",
              "      <td>Stephane Bureau</td>\n",
              "      <td>-0.1531</td>\n",
              "      <td>Technology</td>\n",
              "      <td>Nvidia</td>\n",
              "    </tr>\n",
              "    <tr>\n",
              "      <th>7</th>\n",
              "      <td>2020-10-05 08:12:10</td>\n",
              "      <td>Nvidia</td>\n",
              "      <td>206</td>\n",
              "      <td>86</td>\n",
              "      <td>Nvidia</td>\n",
              "      <td>Madrid, Spain</td>\n",
              "      <td>0</td>\n",
              "      <td>LauraMartin_sp</td>\n",
              "      <td>#Nvidia</td>\n",
              "      <td>BullSequana X2415, the first supercomputer bla...</td>\n",
              "      <td>1313029200333492224</td>\n",
              "      <td>Laura Martín Sánchez</td>\n",
              "      <td>0.0000</td>\n",
              "      <td>Technology</td>\n",
              "      <td>Nvidia</td>\n",
              "    </tr>\n",
              "    <tr>\n",
              "      <th>8</th>\n",
              "      <td>2020-10-05 08:09:05</td>\n",
              "      <td>Nvidia</td>\n",
              "      <td>75</td>\n",
              "      <td>47</td>\n",
              "      <td>Nvidia</td>\n",
              "      <td>Ile-de-France, France</td>\n",
              "      <td>0</td>\n",
              "      <td>FabienLocussol</td>\n",
              "      <td>#Nvidia</td>\n",
              "      <td>BullSequana X2415, the first supercomputer bla...</td>\n",
              "      <td>1313028423179268096</td>\n",
              "      <td>Fabien Locussol</td>\n",
              "      <td>0.0000</td>\n",
              "      <td>Technology</td>\n",
              "      <td>Nvidia</td>\n",
              "    </tr>\n",
              "    <tr>\n",
              "      <th>9</th>\n",
              "      <td>2020-10-05 08:02:51</td>\n",
              "      <td>Nvidia</td>\n",
              "      <td>663</td>\n",
              "      <td>1611</td>\n",
              "      <td>Nvidia</td>\n",
              "      <td>Germany</td>\n",
              "      <td>1</td>\n",
              "      <td>beleept</td>\n",
              "      <td>#Nvidia</td>\n",
              "      <td>NVIDIA GeForce RTX 30 Series – Top Facts &amp;amp;...</td>\n",
              "      <td>1313026852752162817</td>\n",
              "      <td>BELEEPT</td>\n",
              "      <td>0.2023</td>\n",
              "      <td>Technology</td>\n",
              "      <td>Nvidia</td>\n",
              "    </tr>\n",
              "    <tr>\n",
              "      <th>10</th>\n",
              "      <td>2020-10-05 08:02:05</td>\n",
              "      <td>Nvidia</td>\n",
              "      <td>853</td>\n",
              "      <td>866</td>\n",
              "      <td>Nvidia</td>\n",
              "      <td>England.</td>\n",
              "      <td>0</td>\n",
              "      <td>Jameswalters83</td>\n",
              "      <td>#Nvidia</td>\n",
              "      <td>In a bizarre twist to this already highly co...</td>\n",
              "      <td>1313026660665524229</td>\n",
              "      <td>James Walters | Google Stadia Pro.</td>\n",
              "      <td>-0.6115</td>\n",
              "      <td>Technology</td>\n",
              "      <td>Nvidia</td>\n",
              "    </tr>\n",
              "    <tr>\n",
              "      <th>11</th>\n",
              "      <td>2020-10-05 07:56:31</td>\n",
              "      <td>Nvidia</td>\n",
              "      <td>305</td>\n",
              "      <td>383</td>\n",
              "      <td>Nvidia</td>\n",
              "      <td>Germany</td>\n",
              "      <td>4</td>\n",
              "      <td>screenknight_vp</td>\n",
              "      <td>#Nvidia</td>\n",
              "      <td>PhotoModeMonday  MAN'S ROAD ☁️      TheWitche...</td>\n",
              "      <td>1313025260254625792</td>\n",
              "      <td>👻 Scream 🎃 Night 👻</td>\n",
              "      <td>0.0000</td>\n",
              "      <td>Technology</td>\n",
              "      <td>Nvidia</td>\n",
              "    </tr>\n",
              "  </tbody>\n",
              "</table>\n",
              "</div>"
            ],
            "text/plain": [
              "             created_at file_name  followers  ...  polarity partition_0 partition_1\n",
              "0   2020-10-05 08:44:25    Nvidia         41  ...    0.4404  Technology      Nvidia\n",
              "1   2020-10-05 08:44:03    Nvidia        367  ...    0.0000  Technology      Nvidia\n",
              "2   2020-10-05 08:41:35    Nvidia         14  ...    0.4003  Technology      Nvidia\n",
              "3   2020-10-05 08:28:11    Nvidia      18286  ...    0.0000  Technology      Nvidia\n",
              "4   2020-10-05 08:18:05    Nvidia         42  ...    0.0000  Technology      Nvidia\n",
              "5   2020-10-05 08:15:05    Nvidia         16  ...    0.0000  Technology      Nvidia\n",
              "6   2020-10-05 08:13:47    Nvidia      26163  ...   -0.1531  Technology      Nvidia\n",
              "7   2020-10-05 08:12:10    Nvidia        206  ...    0.0000  Technology      Nvidia\n",
              "8   2020-10-05 08:09:05    Nvidia         75  ...    0.0000  Technology      Nvidia\n",
              "9   2020-10-05 08:02:51    Nvidia        663  ...    0.2023  Technology      Nvidia\n",
              "10  2020-10-05 08:02:05    Nvidia        853  ...   -0.6115  Technology      Nvidia\n",
              "11  2020-10-05 07:56:31    Nvidia        305  ...    0.0000  Technology      Nvidia\n",
              "\n",
              "[12 rows x 15 columns]"
            ]
          },
          "metadata": {},
          "execution_count": 46
        }
      ]
    },
    {
      "cell_type": "code",
      "metadata": {
        "id": "i1gRkXbXy4hZ"
      },
      "source": [
        "from textblob import TextBlob\n",
        "\n",
        "def getSubjectivity(text):\n",
        "    return TextBlob(text).sentiment.subjectivity\n",
        "\n",
        "def getPolarity(text):\n",
        "    return TextBlob(text).sentiment.polarity\n",
        "\n",
        "#def getFilteredText(text):\n",
        "#    text= cleanText(text);\n",
        "#    return text\n",
        "\n",
        "df['Subjectivity']=df['text'].apply(getSubjectivity)\n",
        "df['NewPolarity']=df['text'].apply(getPolarity)\n",
        "#df['CleanedText']=df['text'].apply(getFilteredText)"
      ],
      "execution_count": 47,
      "outputs": []
    },
    {
      "cell_type": "code",
      "metadata": {
        "colab": {
          "base_uri": "https://localhost:8080/",
          "height": 1000
        },
        "id": "HT0p36UPBZNR",
        "outputId": "ba57778b-f666-4b55-abd0-d770946413ab"
      },
      "source": [
        "df[['file_name', 'text', 'Subjectivity', 'NewPolarity']].head(50)\n"
      ],
      "execution_count": 31,
      "outputs": [
        {
          "output_type": "execute_result",
          "data": {
            "text/html": [
              "<div>\n",
              "<style scoped>\n",
              "    .dataframe tbody tr th:only-of-type {\n",
              "        vertical-align: middle;\n",
              "    }\n",
              "\n",
              "    .dataframe tbody tr th {\n",
              "        vertical-align: top;\n",
              "    }\n",
              "\n",
              "    .dataframe thead th {\n",
              "        text-align: right;\n",
              "    }\n",
              "</style>\n",
              "<table border=\"1\" class=\"dataframe\">\n",
              "  <thead>\n",
              "    <tr style=\"text-align: right;\">\n",
              "      <th></th>\n",
              "      <th>file_name</th>\n",
              "      <th>text</th>\n",
              "      <th>Subjectivity</th>\n",
              "      <th>NewPolarity</th>\n",
              "    </tr>\n",
              "  </thead>\n",
              "  <tbody>\n",
              "    <tr>\n",
              "      <th>0</th>\n",
              "      <td>Nvidia</td>\n",
              "      <td>NVIDIA GauGAN is actually a good tool to pract...</td>\n",
              "      <td>0.600000</td>\n",
              "      <td>0.700000</td>\n",
              "    </tr>\n",
              "    <tr>\n",
              "      <th>1</th>\n",
              "      <td>Nvidia</td>\n",
              "      <td>BullSequana X2415, the first supercomputer bla...</td>\n",
              "      <td>0.277778</td>\n",
              "      <td>0.250000</td>\n",
              "    </tr>\n",
              "    <tr>\n",
              "      <th>2</th>\n",
              "      <td>Nvidia</td>\n",
              "      <td>I'm going to attend GTC 2020 tonight! Excited....</td>\n",
              "      <td>0.750000</td>\n",
              "      <td>0.375000</td>\n",
              "    </tr>\n",
              "    <tr>\n",
              "      <th>3</th>\n",
              "      <td>Nvidia</td>\n",
              "      <td>NVIDIA delays launch of GeForce RTX 3070 until...</td>\n",
              "      <td>0.000000</td>\n",
              "      <td>0.000000</td>\n",
              "    </tr>\n",
              "    <tr>\n",
              "      <th>4</th>\n",
              "      <td>Nvidia</td>\n",
              "      <td>BullSequana X2415, the first supercomputer bla...</td>\n",
              "      <td>0.277778</td>\n",
              "      <td>0.250000</td>\n",
              "    </tr>\n",
              "    <tr>\n",
              "      <th>5</th>\n",
              "      <td>Nvidia</td>\n",
              "      <td>BullSequana X2415, the first supercomputer bla...</td>\n",
              "      <td>0.277778</td>\n",
              "      <td>0.250000</td>\n",
              "    </tr>\n",
              "    <tr>\n",
              "      <th>6</th>\n",
              "      <td>Nvidia</td>\n",
              "      <td>Today, don’t miss the World’s largest AI confe...</td>\n",
              "      <td>0.000000</td>\n",
              "      <td>0.000000</td>\n",
              "    </tr>\n",
              "    <tr>\n",
              "      <th>7</th>\n",
              "      <td>Nvidia</td>\n",
              "      <td>BullSequana X2415, the first supercomputer bla...</td>\n",
              "      <td>0.277778</td>\n",
              "      <td>0.250000</td>\n",
              "    </tr>\n",
              "    <tr>\n",
              "      <th>8</th>\n",
              "      <td>Nvidia</td>\n",
              "      <td>BullSequana X2415, the first supercomputer bla...</td>\n",
              "      <td>0.277778</td>\n",
              "      <td>0.250000</td>\n",
              "    </tr>\n",
              "    <tr>\n",
              "      <th>9</th>\n",
              "      <td>Nvidia</td>\n",
              "      <td>NVIDIA GeForce RTX 30 Series – Top Facts &amp;amp;...</td>\n",
              "      <td>0.633333</td>\n",
              "      <td>0.033333</td>\n",
              "    </tr>\n",
              "    <tr>\n",
              "      <th>10</th>\n",
              "      <td>Nvidia</td>\n",
              "      <td>In a bizarre twist to this already highly co...</td>\n",
              "      <td>0.550649</td>\n",
              "      <td>0.090909</td>\n",
              "    </tr>\n",
              "    <tr>\n",
              "      <th>11</th>\n",
              "      <td>Nvidia</td>\n",
              "      <td>📸 PhotoModeMonday  MAN'S ROAD ☁️  🎵   🎮 TheWit...</td>\n",
              "      <td>0.000000</td>\n",
              "      <td>0.000000</td>\n",
              "    </tr>\n",
              "    <tr>\n",
              "      <th>12</th>\n",
              "      <td>Nvidia</td>\n",
              "      <td>Hardware Utilization of VividSparks Products. ...</td>\n",
              "      <td>0.000000</td>\n",
              "      <td>0.000000</td>\n",
              "    </tr>\n",
              "    <tr>\n",
              "      <th>13</th>\n",
              "      <td>Nvidia</td>\n",
              "      <td>Some news: The nvidia RTX 3070 has been delaye...</td>\n",
              "      <td>0.625000</td>\n",
              "      <td>0.437500</td>\n",
              "    </tr>\n",
              "    <tr>\n",
              "      <th>14</th>\n",
              "      <td>Nvidia</td>\n",
              "      <td>Hello everyone! I am excited to announce that ...</td>\n",
              "      <td>0.750000</td>\n",
              "      <td>0.375000</td>\n",
              "    </tr>\n",
              "    <tr>\n",
              "      <th>15</th>\n",
              "      <td>Nvidia</td>\n",
              "      <td>BullSequana X2415, the first supercomputer bla...</td>\n",
              "      <td>0.277778</td>\n",
              "      <td>0.250000</td>\n",
              "    </tr>\n",
              "    <tr>\n",
              "      <th>16</th>\n",
              "      <td>Nvidia</td>\n",
              "      <td>BullSequana X2415, the first supercomputer bla...</td>\n",
              "      <td>0.277778</td>\n",
              "      <td>0.250000</td>\n",
              "    </tr>\n",
              "    <tr>\n",
              "      <th>17</th>\n",
              "      <td>Nvidia</td>\n",
              "      <td>Analytics Drift will be covering the NVIDIA GT...</td>\n",
              "      <td>0.300000</td>\n",
              "      <td>1.000000</td>\n",
              "    </tr>\n",
              "    <tr>\n",
              "      <th>18</th>\n",
              "      <td>Nvidia</td>\n",
              "      <td>BullSequana X2415, the first supercomputer bla...</td>\n",
              "      <td>0.277778</td>\n",
              "      <td>0.250000</td>\n",
              "    </tr>\n",
              "    <tr>\n",
              "      <th>19</th>\n",
              "      <td>Nvidia</td>\n",
              "      <td>So nvidia broadcast is like, the raddest thing...</td>\n",
              "      <td>0.850000</td>\n",
              "      <td>-0.500000</td>\n",
              "    </tr>\n",
              "    <tr>\n",
              "      <th>20</th>\n",
              "      <td>Nvidia</td>\n",
              "      <td>StradVision has been selected as the top AI st...</td>\n",
              "      <td>0.633333</td>\n",
              "      <td>0.541667</td>\n",
              "    </tr>\n",
              "    <tr>\n",
              "      <th>21</th>\n",
              "      <td>Nvidia</td>\n",
              "      <td>ff  kick   ass!!!!!!! I was going to buy tw...</td>\n",
              "      <td>0.333333</td>\n",
              "      <td>-0.333333</td>\n",
              "    </tr>\n",
              "    <tr>\n",
              "      <th>22</th>\n",
              "      <td>Nvidia</td>\n",
              "      <td>Ryzen 9 3900X/ RX 5700 XT/ 32 GB OF RAM. Start...</td>\n",
              "      <td>0.533333</td>\n",
              "      <td>0.275000</td>\n",
              "    </tr>\n",
              "    <tr>\n",
              "      <th>23</th>\n",
              "      <td>Nvidia</td>\n",
              "      <td>Fight With NVIDIA! AMD’s New Flagship Card Cor...</td>\n",
              "      <td>0.393939</td>\n",
              "      <td>0.193182</td>\n",
              "    </tr>\n",
              "    <tr>\n",
              "      <th>24</th>\n",
              "      <td>Nvidia</td>\n",
              "      <td>Hi All, Please find Security Chronicle's Weekl...</td>\n",
              "      <td>0.000000</td>\n",
              "      <td>0.000000</td>\n",
              "    </tr>\n",
              "    <tr>\n",
              "      <th>25</th>\n",
              "      <td>Nvidia</td>\n",
              "      <td>Imaginaire comprises of optimized implementati...</td>\n",
              "      <td>0.000000</td>\n",
              "      <td>0.000000</td>\n",
              "    </tr>\n",
              "    <tr>\n",
              "      <th>26</th>\n",
              "      <td>Nvidia</td>\n",
              "      <td>Really bummed the  broadcast locks up my compu...</td>\n",
              "      <td>0.320000</td>\n",
              "      <td>0.145000</td>\n",
              "    </tr>\n",
              "    <tr>\n",
              "      <th>27</th>\n",
              "      <td>Nvidia</td>\n",
              "      <td>At VMworld 2020, , CEO,  predicts that 5G will...</td>\n",
              "      <td>0.477273</td>\n",
              "      <td>0.318182</td>\n",
              "    </tr>\n",
              "    <tr>\n",
              "      <th>28</th>\n",
              "      <td>Nvidia</td>\n",
              "      <td>PLANT THE SPIKE! I’m live on twitch playing VA...</td>\n",
              "      <td>0.500000</td>\n",
              "      <td>0.136364</td>\n",
              "    </tr>\n",
              "    <tr>\n",
              "      <th>29</th>\n",
              "      <td>Nvidia</td>\n",
              "      <td>Can you answer this? How to solve 'ERROR: An N...</td>\n",
              "      <td>0.000000</td>\n",
              "      <td>0.000000</td>\n",
              "    </tr>\n",
              "    <tr>\n",
              "      <th>30</th>\n",
              "      <td>Nvidia</td>\n",
              "      <td>Installing and always keeping your PC 🖥️ or GP...</td>\n",
              "      <td>0.300000</td>\n",
              "      <td>1.000000</td>\n",
              "    </tr>\n",
              "    <tr>\n",
              "      <th>31</th>\n",
              "      <td>Nvidia</td>\n",
              "      <td>Its cold outside, now its time to game!!!!  vi...</td>\n",
              "      <td>0.483333</td>\n",
              "      <td>-0.525521</td>\n",
              "    </tr>\n",
              "    <tr>\n",
              "      <th>32</th>\n",
              "      <td>Nvidia</td>\n",
              "      <td>So what's the odds on if I can actually get an...</td>\n",
              "      <td>0.450000</td>\n",
              "      <td>0.200000</td>\n",
              "    </tr>\n",
              "    <tr>\n",
              "      <th>33</th>\n",
              "      <td>Nvidia</td>\n",
              "      <td>Nvidia , Domino’s, Cisco, Levi’s, and other st...</td>\n",
              "      <td>0.375000</td>\n",
              "      <td>-0.125000</td>\n",
              "    </tr>\n",
              "    <tr>\n",
              "      <th>34</th>\n",
              "      <td>Nvidia</td>\n",
              "      <td>Another huge shout out to  for the masterclass...</td>\n",
              "      <td>0.900000</td>\n",
              "      <td>0.400000</td>\n",
              "    </tr>\n",
              "    <tr>\n",
              "      <th>35</th>\n",
              "      <td>Nvidia</td>\n",
              "      <td>Actual photo of me admiring everyone's talent ...</td>\n",
              "      <td>0.100000</td>\n",
              "      <td>0.000000</td>\n",
              "    </tr>\n",
              "    <tr>\n",
              "      <th>36</th>\n",
              "      <td>Nvidia</td>\n",
              "      <td>All I want to do is buy a rtx 3080 but can't. ...</td>\n",
              "      <td>0.666667</td>\n",
              "      <td>-0.383333</td>\n",
              "    </tr>\n",
              "    <tr>\n",
              "      <th>37</th>\n",
              "      <td>Nvidia</td>\n",
              "      <td>Gleaming in the Dark.  reddeadredemption2 RedD...</td>\n",
              "      <td>0.400000</td>\n",
              "      <td>-0.150000</td>\n",
              "    </tr>\n",
              "    <tr>\n",
              "      <th>38</th>\n",
              "      <td>Nvidia</td>\n",
              "      <td>Join me now for my end of month livestream dis...</td>\n",
              "      <td>0.400000</td>\n",
              "      <td>0.000000</td>\n",
              "    </tr>\n",
              "    <tr>\n",
              "      <th>39</th>\n",
              "      <td>Nvidia</td>\n",
              "      <td>Very minor complaint, but why call the Canadia...</td>\n",
              "      <td>0.153333</td>\n",
              "      <td>-0.121667</td>\n",
              "    </tr>\n",
              "    <tr>\n",
              "      <th>40</th>\n",
              "      <td>Nvidia</td>\n",
              "      <td>Tourney starts at 4pm PST. Come support a smal...</td>\n",
              "      <td>0.400000</td>\n",
              "      <td>-0.250000</td>\n",
              "    </tr>\n",
              "    <tr>\n",
              "      <th>41</th>\n",
              "      <td>Nvidia</td>\n",
              "      <td>My new farm 2600$  1660 super nvidia mining</td>\n",
              "      <td>0.560606</td>\n",
              "      <td>0.234848</td>\n",
              "    </tr>\n",
              "    <tr>\n",
              "      <th>42</th>\n",
              "      <td>Nvidia</td>\n",
              "      <td>Well there's some cents ability. nvidia go g...</td>\n",
              "      <td>0.000000</td>\n",
              "      <td>0.000000</td>\n",
              "    </tr>\n",
              "    <tr>\n",
              "      <th>43</th>\n",
              "      <td>Nvidia</td>\n",
              "      <td>Oct 5-9: NVIDIA $NVDA (UP +122% YTD) GPU Techn...</td>\n",
              "      <td>0.000000</td>\n",
              "      <td>0.000000</td>\n",
              "    </tr>\n",
              "    <tr>\n",
              "      <th>44</th>\n",
              "      <td>Nvidia</td>\n",
              "      <td>nVidia if console games cater to an API co-dev...</td>\n",
              "      <td>0.000000</td>\n",
              "      <td>0.000000</td>\n",
              "    </tr>\n",
              "    <tr>\n",
              "      <th>45</th>\n",
              "      <td>Nvidia</td>\n",
              "      <td>was able to stream and play warzone around 160...</td>\n",
              "      <td>0.512500</td>\n",
              "      <td>0.175000</td>\n",
              "    </tr>\n",
              "    <tr>\n",
              "      <th>46</th>\n",
              "      <td>Nvidia</td>\n",
              "      <td>MAKE sure to enter my giveaway 1x Rainbow Six ...</td>\n",
              "      <td>0.694444</td>\n",
              "      <td>0.000000</td>\n",
              "    </tr>\n",
              "    <tr>\n",
              "      <th>47</th>\n",
              "      <td>Nvidia</td>\n",
              "      <td>life is 🟩   [ Follow Me👤] [Like❤] [Comment💬]  ...</td>\n",
              "      <td>0.000000</td>\n",
              "      <td>0.000000</td>\n",
              "    </tr>\n",
              "    <tr>\n",
              "      <th>48</th>\n",
              "      <td>Nvidia</td>\n",
              "      <td>&amp;gt; is sponsoring ’s GPU Technology Conf. GTC...</td>\n",
              "      <td>0.416667</td>\n",
              "      <td>0.183333</td>\n",
              "    </tr>\n",
              "    <tr>\n",
              "      <th>49</th>\n",
              "      <td>Nvidia</td>\n",
              "      <td>This is deep 😂😂😂😂😂😂😂😂😂😂😂😂😂😂  Nvidia</td>\n",
              "      <td>0.400000</td>\n",
              "      <td>0.000000</td>\n",
              "    </tr>\n",
              "  </tbody>\n",
              "</table>\n",
              "</div>"
            ],
            "text/plain": [
              "   file_name  ... NewPolarity\n",
              "0     Nvidia  ...    0.700000\n",
              "1     Nvidia  ...    0.250000\n",
              "2     Nvidia  ...    0.375000\n",
              "3     Nvidia  ...    0.000000\n",
              "4     Nvidia  ...    0.250000\n",
              "5     Nvidia  ...    0.250000\n",
              "6     Nvidia  ...    0.000000\n",
              "7     Nvidia  ...    0.250000\n",
              "8     Nvidia  ...    0.250000\n",
              "9     Nvidia  ...    0.033333\n",
              "10    Nvidia  ...    0.090909\n",
              "11    Nvidia  ...    0.000000\n",
              "12    Nvidia  ...    0.000000\n",
              "13    Nvidia  ...    0.437500\n",
              "14    Nvidia  ...    0.375000\n",
              "15    Nvidia  ...    0.250000\n",
              "16    Nvidia  ...    0.250000\n",
              "17    Nvidia  ...    1.000000\n",
              "18    Nvidia  ...    0.250000\n",
              "19    Nvidia  ...   -0.500000\n",
              "20    Nvidia  ...    0.541667\n",
              "21    Nvidia  ...   -0.333333\n",
              "22    Nvidia  ...    0.275000\n",
              "23    Nvidia  ...    0.193182\n",
              "24    Nvidia  ...    0.000000\n",
              "25    Nvidia  ...    0.000000\n",
              "26    Nvidia  ...    0.145000\n",
              "27    Nvidia  ...    0.318182\n",
              "28    Nvidia  ...    0.136364\n",
              "29    Nvidia  ...    0.000000\n",
              "30    Nvidia  ...    1.000000\n",
              "31    Nvidia  ...   -0.525521\n",
              "32    Nvidia  ...    0.200000\n",
              "33    Nvidia  ...   -0.125000\n",
              "34    Nvidia  ...    0.400000\n",
              "35    Nvidia  ...    0.000000\n",
              "36    Nvidia  ...   -0.383333\n",
              "37    Nvidia  ...   -0.150000\n",
              "38    Nvidia  ...    0.000000\n",
              "39    Nvidia  ...   -0.121667\n",
              "40    Nvidia  ...   -0.250000\n",
              "41    Nvidia  ...    0.234848\n",
              "42    Nvidia  ...    0.000000\n",
              "43    Nvidia  ...    0.000000\n",
              "44    Nvidia  ...    0.000000\n",
              "45    Nvidia  ...    0.175000\n",
              "46    Nvidia  ...    0.000000\n",
              "47    Nvidia  ...    0.000000\n",
              "48    Nvidia  ...    0.183333\n",
              "49    Nvidia  ...    0.000000\n",
              "\n",
              "[50 rows x 4 columns]"
            ]
          },
          "metadata": {},
          "execution_count": 31
        }
      ]
    },
    {
      "cell_type": "code",
      "metadata": {
        "colab": {
          "base_uri": "https://localhost:8080/",
          "height": 264
        },
        "id": "M9QTh3MxSBFz",
        "outputId": "5afc9028-2eab-4164-f280-e117a7225bfe"
      },
      "source": [
        "#Plot a word cloud \n",
        "from wordcloud import WordCloud\n",
        "import tweepy\n",
        "import numpy as np\n",
        "import matplotlib.pyplot as plt\n",
        "plt.style.use('fivethirtyeight')\n",
        "\n",
        "restricted=['YOUTUBE','SUBSCRIBE','CHECK','twitch','New', 'video']+stopwords.words('english')\n",
        "\n",
        "allWords = ' '.join( [twts for twts in df['text']])\n",
        "wordCloud = WordCloud( width = 300, height= 300, random_state = 21, max_font_size = 119, stopwords=restricted).generate(allWords)\n",
        "\n",
        "plt.imshow(wordCloud, interpolation = \"bilinear\")\n",
        "plt.axis('off')\n",
        "plt.show()"
      ],
      "execution_count": 37,
      "outputs": [
        {
          "output_type": "display_data",
          "data": {
            "image/png": "[encoded data removed]",
            "text/plain": [
              "<Figure size 432x288 with 1 Axes>"
            ]
          },
          "metadata": {}
        }
      ]
    },
    {
      "cell_type": "code",
      "metadata": {
        "id": "yokx5IWITwGB"
      },
      "source": [
        "#Create a function to compute positive, negative or neutral text\n",
        "\n",
        "def getAnalysis(score):\n",
        " if score < 0:\n",
        "  return 'Negative'\n",
        " elif score == 0:\n",
        "  return 'Neutral'\n",
        " else:\n",
        "  return 'Positive'\n",
        "\n",
        "df['Analysis']= df['NewPolarity'].apply(getAnalysis)\n"
      ],
      "execution_count": 51,
      "outputs": []
    },
    {
      "cell_type": "code",
      "metadata": {
        "colab": {
          "base_uri": "https://localhost:8080/",
          "height": 1000
        },
        "id": "z5KMIn20TwNv",
        "outputId": "a54e26f9-5d81-4fe9-a3bf-7fbaab19ab02"
      },
      "source": [
        "df[['file_name', 'text', 'Subjectivity', 'NewPolarity','Analysis']].head(50)\n"
      ],
      "execution_count": 52,
      "outputs": [
        {
          "output_type": "execute_result",
          "data": {
            "text/html": [
              "<div>\n",
              "<style scoped>\n",
              "    .dataframe tbody tr th:only-of-type {\n",
              "        vertical-align: middle;\n",
              "    }\n",
              "\n",
              "    .dataframe tbody tr th {\n",
              "        vertical-align: top;\n",
              "    }\n",
              "\n",
              "    .dataframe thead th {\n",
              "        text-align: right;\n",
              "    }\n",
              "</style>\n",
              "<table border=\"1\" class=\"dataframe\">\n",
              "  <thead>\n",
              "    <tr style=\"text-align: right;\">\n",
              "      <th></th>\n",
              "      <th>file_name</th>\n",
              "      <th>text</th>\n",
              "      <th>Subjectivity</th>\n",
              "      <th>NewPolarity</th>\n",
              "      <th>Analysis</th>\n",
              "    </tr>\n",
              "  </thead>\n",
              "  <tbody>\n",
              "    <tr>\n",
              "      <th>0</th>\n",
              "      <td>Nvidia</td>\n",
              "      <td>NVIDIA GauGAN is actually a good tool to pract...</td>\n",
              "      <td>0.600000</td>\n",
              "      <td>0.700000</td>\n",
              "      <td>Positive</td>\n",
              "    </tr>\n",
              "    <tr>\n",
              "      <th>1</th>\n",
              "      <td>Nvidia</td>\n",
              "      <td>BullSequana X2415, the first supercomputer bla...</td>\n",
              "      <td>0.277778</td>\n",
              "      <td>0.250000</td>\n",
              "      <td>Positive</td>\n",
              "    </tr>\n",
              "    <tr>\n",
              "      <th>2</th>\n",
              "      <td>Nvidia</td>\n",
              "      <td>I'm going to attend GTC 2020 tonight! Excited....</td>\n",
              "      <td>0.750000</td>\n",
              "      <td>0.375000</td>\n",
              "      <td>Positive</td>\n",
              "    </tr>\n",
              "    <tr>\n",
              "      <th>3</th>\n",
              "      <td>Nvidia</td>\n",
              "      <td>NVIDIA delays launch of GeForce RTX 3070 until...</td>\n",
              "      <td>0.000000</td>\n",
              "      <td>0.000000</td>\n",
              "      <td>Neutral</td>\n",
              "    </tr>\n",
              "    <tr>\n",
              "      <th>4</th>\n",
              "      <td>Nvidia</td>\n",
              "      <td>BullSequana X2415, the first supercomputer bla...</td>\n",
              "      <td>0.277778</td>\n",
              "      <td>0.250000</td>\n",
              "      <td>Positive</td>\n",
              "    </tr>\n",
              "    <tr>\n",
              "      <th>5</th>\n",
              "      <td>Nvidia</td>\n",
              "      <td>BullSequana X2415, the first supercomputer bla...</td>\n",
              "      <td>0.277778</td>\n",
              "      <td>0.250000</td>\n",
              "      <td>Positive</td>\n",
              "    </tr>\n",
              "    <tr>\n",
              "      <th>6</th>\n",
              "      <td>Nvidia</td>\n",
              "      <td>Today, don’t miss the World’s largest AI confe...</td>\n",
              "      <td>0.000000</td>\n",
              "      <td>0.000000</td>\n",
              "      <td>Neutral</td>\n",
              "    </tr>\n",
              "    <tr>\n",
              "      <th>7</th>\n",
              "      <td>Nvidia</td>\n",
              "      <td>BullSequana X2415, the first supercomputer bla...</td>\n",
              "      <td>0.277778</td>\n",
              "      <td>0.250000</td>\n",
              "      <td>Positive</td>\n",
              "    </tr>\n",
              "    <tr>\n",
              "      <th>8</th>\n",
              "      <td>Nvidia</td>\n",
              "      <td>BullSequana X2415, the first supercomputer bla...</td>\n",
              "      <td>0.277778</td>\n",
              "      <td>0.250000</td>\n",
              "      <td>Positive</td>\n",
              "    </tr>\n",
              "    <tr>\n",
              "      <th>9</th>\n",
              "      <td>Nvidia</td>\n",
              "      <td>NVIDIA GeForce RTX 30 Series – Top Facts &amp;amp;...</td>\n",
              "      <td>0.633333</td>\n",
              "      <td>0.033333</td>\n",
              "      <td>Positive</td>\n",
              "    </tr>\n",
              "    <tr>\n",
              "      <th>10</th>\n",
              "      <td>Nvidia</td>\n",
              "      <td>In a bizarre twist to this already highly co...</td>\n",
              "      <td>0.550649</td>\n",
              "      <td>0.090909</td>\n",
              "      <td>Positive</td>\n",
              "    </tr>\n",
              "    <tr>\n",
              "      <th>11</th>\n",
              "      <td>Nvidia</td>\n",
              "      <td>PhotoModeMonday  MAN'S ROAD ☁️      TheWitche...</td>\n",
              "      <td>0.000000</td>\n",
              "      <td>0.000000</td>\n",
              "      <td>Neutral</td>\n",
              "    </tr>\n",
              "    <tr>\n",
              "      <th>12</th>\n",
              "      <td>Nvidia</td>\n",
              "      <td>Hardware Utilization of VividSparks Products. ...</td>\n",
              "      <td>0.000000</td>\n",
              "      <td>0.000000</td>\n",
              "      <td>Neutral</td>\n",
              "    </tr>\n",
              "    <tr>\n",
              "      <th>13</th>\n",
              "      <td>Nvidia</td>\n",
              "      <td>Some news: The nvidia RTX 3070 has been delaye...</td>\n",
              "      <td>0.625000</td>\n",
              "      <td>0.437500</td>\n",
              "      <td>Positive</td>\n",
              "    </tr>\n",
              "    <tr>\n",
              "      <th>14</th>\n",
              "      <td>Nvidia</td>\n",
              "      <td>Hello everyone! I am excited to announce that ...</td>\n",
              "      <td>0.750000</td>\n",
              "      <td>0.468750</td>\n",
              "      <td>Positive</td>\n",
              "    </tr>\n",
              "    <tr>\n",
              "      <th>15</th>\n",
              "      <td>Nvidia</td>\n",
              "      <td>BullSequana X2415, the first supercomputer bla...</td>\n",
              "      <td>0.277778</td>\n",
              "      <td>0.250000</td>\n",
              "      <td>Positive</td>\n",
              "    </tr>\n",
              "    <tr>\n",
              "      <th>16</th>\n",
              "      <td>Nvidia</td>\n",
              "      <td>BullSequana X2415, the first supercomputer bla...</td>\n",
              "      <td>0.277778</td>\n",
              "      <td>0.250000</td>\n",
              "      <td>Positive</td>\n",
              "    </tr>\n",
              "    <tr>\n",
              "      <th>17</th>\n",
              "      <td>Nvidia</td>\n",
              "      <td>Analytics Drift will be covering the NVIDIA GT...</td>\n",
              "      <td>0.300000</td>\n",
              "      <td>1.000000</td>\n",
              "      <td>Positive</td>\n",
              "    </tr>\n",
              "    <tr>\n",
              "      <th>18</th>\n",
              "      <td>Nvidia</td>\n",
              "      <td>BullSequana X2415, the first supercomputer bla...</td>\n",
              "      <td>0.277778</td>\n",
              "      <td>0.250000</td>\n",
              "      <td>Positive</td>\n",
              "    </tr>\n",
              "    <tr>\n",
              "      <th>19</th>\n",
              "      <td>Nvidia</td>\n",
              "      <td>So nvidia broadcast is like, the raddest thing...</td>\n",
              "      <td>0.850000</td>\n",
              "      <td>-0.500000</td>\n",
              "      <td>Negative</td>\n",
              "    </tr>\n",
              "    <tr>\n",
              "      <th>20</th>\n",
              "      <td>Nvidia</td>\n",
              "      <td>StradVision has been selected as the top AI st...</td>\n",
              "      <td>0.633333</td>\n",
              "      <td>0.541667</td>\n",
              "      <td>Positive</td>\n",
              "    </tr>\n",
              "    <tr>\n",
              "      <th>21</th>\n",
              "      <td>Nvidia</td>\n",
              "      <td>ff  kick   ass!!!!!!! I was going to buy tw...</td>\n",
              "      <td>0.333333</td>\n",
              "      <td>-0.333333</td>\n",
              "      <td>Negative</td>\n",
              "    </tr>\n",
              "    <tr>\n",
              "      <th>22</th>\n",
              "      <td>Nvidia</td>\n",
              "      <td>Ryzen 9 3900X/ RX 5700 XT/ 32 GB OF RAM. Start...</td>\n",
              "      <td>0.533333</td>\n",
              "      <td>0.275000</td>\n",
              "      <td>Positive</td>\n",
              "    </tr>\n",
              "    <tr>\n",
              "      <th>23</th>\n",
              "      <td>Nvidia</td>\n",
              "      <td>Fight With NVIDIA! AMD’s New Flagship Card Cor...</td>\n",
              "      <td>0.393939</td>\n",
              "      <td>0.193182</td>\n",
              "      <td>Positive</td>\n",
              "    </tr>\n",
              "    <tr>\n",
              "      <th>24</th>\n",
              "      <td>Nvidia</td>\n",
              "      <td>Hi All, Please find Security Chronicle's Weekl...</td>\n",
              "      <td>0.000000</td>\n",
              "      <td>0.000000</td>\n",
              "      <td>Neutral</td>\n",
              "    </tr>\n",
              "    <tr>\n",
              "      <th>25</th>\n",
              "      <td>Nvidia</td>\n",
              "      <td>Imaginaire comprises of optimized implementati...</td>\n",
              "      <td>0.000000</td>\n",
              "      <td>0.000000</td>\n",
              "      <td>Neutral</td>\n",
              "    </tr>\n",
              "    <tr>\n",
              "      <th>26</th>\n",
              "      <td>Nvidia</td>\n",
              "      <td>Really bummed the  broadcast locks up my compu...</td>\n",
              "      <td>0.320000</td>\n",
              "      <td>0.145000</td>\n",
              "      <td>Positive</td>\n",
              "    </tr>\n",
              "    <tr>\n",
              "      <th>27</th>\n",
              "      <td>Nvidia</td>\n",
              "      <td>At VMworld 2020, , CEO,  predicts that 5G will...</td>\n",
              "      <td>0.477273</td>\n",
              "      <td>0.318182</td>\n",
              "      <td>Positive</td>\n",
              "    </tr>\n",
              "    <tr>\n",
              "      <th>28</th>\n",
              "      <td>Nvidia</td>\n",
              "      <td>PLANT THE SPIKE! I’m live on twitch playing VA...</td>\n",
              "      <td>0.500000</td>\n",
              "      <td>0.136364</td>\n",
              "      <td>Positive</td>\n",
              "    </tr>\n",
              "    <tr>\n",
              "      <th>29</th>\n",
              "      <td>Nvidia</td>\n",
              "      <td>Can you answer this? How to solve 'ERROR: An N...</td>\n",
              "      <td>0.000000</td>\n",
              "      <td>0.000000</td>\n",
              "      <td>Neutral</td>\n",
              "    </tr>\n",
              "    <tr>\n",
              "      <th>30</th>\n",
              "      <td>Nvidia</td>\n",
              "      <td>Installing and always keeping your PC ️ or GPU...</td>\n",
              "      <td>0.300000</td>\n",
              "      <td>1.000000</td>\n",
              "      <td>Positive</td>\n",
              "    </tr>\n",
              "    <tr>\n",
              "      <th>31</th>\n",
              "      <td>Nvidia</td>\n",
              "      <td>Its cold outside, now its time to game!!!!  vi...</td>\n",
              "      <td>0.483333</td>\n",
              "      <td>-0.525521</td>\n",
              "      <td>Negative</td>\n",
              "    </tr>\n",
              "    <tr>\n",
              "      <th>32</th>\n",
              "      <td>Nvidia</td>\n",
              "      <td>So what's the odds on if I can actually get an...</td>\n",
              "      <td>0.450000</td>\n",
              "      <td>0.200000</td>\n",
              "      <td>Positive</td>\n",
              "    </tr>\n",
              "    <tr>\n",
              "      <th>33</th>\n",
              "      <td>Nvidia</td>\n",
              "      <td>Nvidia , Domino’s, Cisco, Levi’s, and other st...</td>\n",
              "      <td>0.375000</td>\n",
              "      <td>-0.125000</td>\n",
              "      <td>Negative</td>\n",
              "    </tr>\n",
              "    <tr>\n",
              "      <th>34</th>\n",
              "      <td>Nvidia</td>\n",
              "      <td>Another huge shout out to  for the masterclass...</td>\n",
              "      <td>0.900000</td>\n",
              "      <td>0.400000</td>\n",
              "      <td>Positive</td>\n",
              "    </tr>\n",
              "    <tr>\n",
              "      <th>35</th>\n",
              "      <td>Nvidia</td>\n",
              "      <td>Actual photo of me admiring everyone's talent ...</td>\n",
              "      <td>0.100000</td>\n",
              "      <td>0.000000</td>\n",
              "      <td>Neutral</td>\n",
              "    </tr>\n",
              "    <tr>\n",
              "      <th>36</th>\n",
              "      <td>Nvidia</td>\n",
              "      <td>All I want to do is buy a rtx 3080 but can't. ...</td>\n",
              "      <td>0.666667</td>\n",
              "      <td>-0.383333</td>\n",
              "      <td>Negative</td>\n",
              "    </tr>\n",
              "    <tr>\n",
              "      <th>37</th>\n",
              "      <td>Nvidia</td>\n",
              "      <td>Gleaming in the Dark.  reddeadredemption2 RedD...</td>\n",
              "      <td>0.400000</td>\n",
              "      <td>-0.150000</td>\n",
              "      <td>Negative</td>\n",
              "    </tr>\n",
              "    <tr>\n",
              "      <th>38</th>\n",
              "      <td>Nvidia</td>\n",
              "      <td>Join me now for my end of month livestream dis...</td>\n",
              "      <td>0.400000</td>\n",
              "      <td>0.000000</td>\n",
              "      <td>Neutral</td>\n",
              "    </tr>\n",
              "    <tr>\n",
              "      <th>39</th>\n",
              "      <td>Nvidia</td>\n",
              "      <td>Very minor complaint, but why call the Canadia...</td>\n",
              "      <td>0.153333</td>\n",
              "      <td>-0.121667</td>\n",
              "      <td>Negative</td>\n",
              "    </tr>\n",
              "    <tr>\n",
              "      <th>40</th>\n",
              "      <td>Nvidia</td>\n",
              "      <td>Tourney starts at 4pm PST. Come support a smal...</td>\n",
              "      <td>0.400000</td>\n",
              "      <td>-0.250000</td>\n",
              "      <td>Negative</td>\n",
              "    </tr>\n",
              "    <tr>\n",
              "      <th>41</th>\n",
              "      <td>Nvidia</td>\n",
              "      <td>My new farm 2600$  1660 super nvidia mining</td>\n",
              "      <td>0.560606</td>\n",
              "      <td>0.234848</td>\n",
              "      <td>Positive</td>\n",
              "    </tr>\n",
              "    <tr>\n",
              "      <th>42</th>\n",
              "      <td>Nvidia</td>\n",
              "      <td>Well there's some cents ability. nvidia go g...</td>\n",
              "      <td>0.000000</td>\n",
              "      <td>0.000000</td>\n",
              "      <td>Neutral</td>\n",
              "    </tr>\n",
              "    <tr>\n",
              "      <th>43</th>\n",
              "      <td>Nvidia</td>\n",
              "      <td>Oct 5-9: NVIDIA $NVDA (UP +122% YTD) GPU Techn...</td>\n",
              "      <td>0.000000</td>\n",
              "      <td>0.000000</td>\n",
              "      <td>Neutral</td>\n",
              "    </tr>\n",
              "    <tr>\n",
              "      <th>44</th>\n",
              "      <td>Nvidia</td>\n",
              "      <td>nVidia if console games cater to an API co-dev...</td>\n",
              "      <td>0.000000</td>\n",
              "      <td>0.000000</td>\n",
              "      <td>Neutral</td>\n",
              "    </tr>\n",
              "    <tr>\n",
              "      <th>45</th>\n",
              "      <td>Nvidia</td>\n",
              "      <td>was able to stream and play warzone around 160...</td>\n",
              "      <td>0.512500</td>\n",
              "      <td>0.175000</td>\n",
              "      <td>Positive</td>\n",
              "    </tr>\n",
              "    <tr>\n",
              "      <th>46</th>\n",
              "      <td>Nvidia</td>\n",
              "      <td>MAKE sure to enter my giveaway 1x Rainbow Six ...</td>\n",
              "      <td>0.694444</td>\n",
              "      <td>0.000000</td>\n",
              "      <td>Neutral</td>\n",
              "    </tr>\n",
              "    <tr>\n",
              "      <th>47</th>\n",
              "      <td>Nvidia</td>\n",
              "      <td>life is 🟩   [ Follow Me] [Like❤] [Comment]  dr...</td>\n",
              "      <td>0.000000</td>\n",
              "      <td>0.000000</td>\n",
              "      <td>Neutral</td>\n",
              "    </tr>\n",
              "    <tr>\n",
              "      <th>48</th>\n",
              "      <td>Nvidia</td>\n",
              "      <td>&amp;gt; is sponsoring ’s GPU Technology Conf. GTC...</td>\n",
              "      <td>0.416667</td>\n",
              "      <td>0.183333</td>\n",
              "      <td>Positive</td>\n",
              "    </tr>\n",
              "    <tr>\n",
              "      <th>49</th>\n",
              "      <td>Nvidia</td>\n",
              "      <td>This is deep   Nvidia</td>\n",
              "      <td>0.400000</td>\n",
              "      <td>0.000000</td>\n",
              "      <td>Neutral</td>\n",
              "    </tr>\n",
              "  </tbody>\n",
              "</table>\n",
              "</div>"
            ],
            "text/plain": [
              "   file_name  ...  Analysis\n",
              "0     Nvidia  ...  Positive\n",
              "1     Nvidia  ...  Positive\n",
              "2     Nvidia  ...  Positive\n",
              "3     Nvidia  ...   Neutral\n",
              "4     Nvidia  ...  Positive\n",
              "5     Nvidia  ...  Positive\n",
              "6     Nvidia  ...   Neutral\n",
              "7     Nvidia  ...  Positive\n",
              "8     Nvidia  ...  Positive\n",
              "9     Nvidia  ...  Positive\n",
              "10    Nvidia  ...  Positive\n",
              "11    Nvidia  ...   Neutral\n",
              "12    Nvidia  ...   Neutral\n",
              "13    Nvidia  ...  Positive\n",
              "14    Nvidia  ...  Positive\n",
              "15    Nvidia  ...  Positive\n",
              "16    Nvidia  ...  Positive\n",
              "17    Nvidia  ...  Positive\n",
              "18    Nvidia  ...  Positive\n",
              "19    Nvidia  ...  Negative\n",
              "20    Nvidia  ...  Positive\n",
              "21    Nvidia  ...  Negative\n",
              "22    Nvidia  ...  Positive\n",
              "23    Nvidia  ...  Positive\n",
              "24    Nvidia  ...   Neutral\n",
              "25    Nvidia  ...   Neutral\n",
              "26    Nvidia  ...  Positive\n",
              "27    Nvidia  ...  Positive\n",
              "28    Nvidia  ...  Positive\n",
              "29    Nvidia  ...   Neutral\n",
              "30    Nvidia  ...  Positive\n",
              "31    Nvidia  ...  Negative\n",
              "32    Nvidia  ...  Positive\n",
              "33    Nvidia  ...  Negative\n",
              "34    Nvidia  ...  Positive\n",
              "35    Nvidia  ...   Neutral\n",
              "36    Nvidia  ...  Negative\n",
              "37    Nvidia  ...  Negative\n",
              "38    Nvidia  ...   Neutral\n",
              "39    Nvidia  ...  Negative\n",
              "40    Nvidia  ...  Negative\n",
              "41    Nvidia  ...  Positive\n",
              "42    Nvidia  ...   Neutral\n",
              "43    Nvidia  ...   Neutral\n",
              "44    Nvidia  ...   Neutral\n",
              "45    Nvidia  ...  Positive\n",
              "46    Nvidia  ...   Neutral\n",
              "47    Nvidia  ...   Neutral\n",
              "48    Nvidia  ...  Positive\n",
              "49    Nvidia  ...   Neutral\n",
              "\n",
              "[50 rows x 5 columns]"
            ]
          },
          "metadata": {},
          "execution_count": 52
        }
      ]
    },
    {
      "cell_type": "code",
      "metadata": {
        "colab": {
          "base_uri": "https://localhost:8080/",
          "height": 441
        },
        "id": "_OPzDCAQVBDC",
        "outputId": "6c08f65a-14a3-454f-da33-37426c326466"
      },
      "source": [
        "#plot the polarity and subjectivity\n",
        "plt.figure(figsize=(8,6))\n",
        "for i in range(0, 1500):\n",
        "  plt.scatter(df['NewPolarity'][i], df['Subjectivity'][i], color='Blue')\n",
        "\n",
        "  plt.title('Sentiment Analysis')\n",
        "  plt.xlabel('Polarity')\n",
        "  plt.ylabel('Subjectivity')\n",
        "plt.show()"
      ],
      "execution_count": 53,
      "outputs": [
        {
          "output_type": "display_data",
          "data": {
            "image/png": "[encoded data removed]",
            "text/plain": [
              "<Figure size 576x432 with 1 Axes>"
            ]
          },
          "metadata": {}
        }
      ]
    },
    {
      "cell_type": "code",
      "metadata": {
        "colab": {
          "base_uri": "https://localhost:8080/"
        },
        "id": "mG-vkv0yb5G-",
        "outputId": "7b156df9-989c-450b-9026-139887bb586f"
      },
      "source": [
        "#Get the percentage of Positive tweets\n",
        "ptweets = df[df.Analysis == 'Positive']\n",
        "ptweets = ptweets['text']\n",
        "\n",
        "round(  (ptweets.shape[0] / df.shape[0]) *100, 1)"
      ],
      "execution_count": 70,
      "outputs": [
        {
          "output_type": "execute_result",
          "data": {
            "text/plain": [
              "51.5"
            ]
          },
          "metadata": {},
          "execution_count": 70
        }
      ]
    },
    {
      "cell_type": "code",
      "metadata": {
        "colab": {
          "base_uri": "https://localhost:8080/"
        },
        "id": "GoIDmwhwR7I6",
        "outputId": "28088019-76e0-4914-fdd3-92305d7e2783"
      },
      "source": [
        "nvidia = ptweets[df.file_name=='Nvidia']\n",
        "ms = ptweets[df.file_name=='Microsoft']\n",
        "amd = ptweets[df.file_name=='AMD']\n",
        "amazon = ptweets[df.file_name=='Amazon']\n",
        "twitch = ptweets[df.file_name=='Twitch']\n",
        "apple = ptweets[df.file_name=='Apple']\n",
        "youtube = ptweets[df.file_name=='Youtube']\n",
        "tesla = ptweets[df.file_name=='Tesla']\n",
        "google = ptweets[df.file_name=='Google']\n",
        "netflix = ptweets[df.file_name=='Netflix']\n",
        "\n",
        "print((tesla.shape[0] / ptweets.shape[0]))\n",
        "\n",
        "print(\"Positive reviews regarding Nvidia and its products: \"+str(  (nvidia.shape[0] / ptweets.shape[0]) *100)+\"%\")\n",
        "print(\"Positive reviews regarding Microsoft and its products: \"+str(round(  (ms.shape[0] / ptweets.shape[0]) *100, 1))+\"%\")\n",
        "print(\"Positive reviews regarding AMD and its products: \"+str(round(  (amd.shape[0] / ptweets.shape[0]) *100, 1))+\"%\")\n",
        "print(\"Positive reviews regarding Twitch and its products: \"+str(round(  (twitch.shape[0] / ptweets.shape[0]) *100, 1))+\"%\")\n",
        "print(\"Positive reviews regarding Apple and its products: \"+str(round(  (apple.shape[0] / ptweets.shape[0]) *100, 1))+\"%\")\n",
        "print(\"Positive reviews regarding Youtube and its products: \"+str(round(  (youtube.shape[0] / ptweets.shape[0]) *100, 1))+\"%\")\n",
        "print(\"Positive reviews regarding Tesla and its products: \"+str(round(  (tesla.shape[0] / ptweets.shape[0]) *100, 1))+\"%\")\n",
        "print(\"Positive reviews regarding Google and its products: \"+str(round(  (google.shape[0] / ptweets.shape[0]) *100, 1))+\"%\")\n",
        "print(\"Positive reviews regarding Netflix and its products: \"+str(round(  (netflix.shape[0] / ptweets.shape[0]) *100, 1))+\"%\")\n"
      ],
      "execution_count": 102,
      "outputs": [
        {
          "output_type": "stream",
          "name": "stdout",
          "text": [
            "0.06441071128974608\n",
            "Positive reviews regarding Nvidia and its products: 1.43483430472175%\n",
            "Positive reviews regarding Microsoft and its products: 9.3%\n",
            "Positive reviews regarding AMD and its products: 1.3%\n",
            "Positive reviews regarding Twitch and its products: 17.4%\n",
            "Positive reviews regarding Apple and its products: 14.4%\n",
            "Positive reviews regarding Youtube and its products: 14.0%\n",
            "Positive reviews regarding Tesla and its products: 6.4%\n",
            "Positive reviews regarding Google and its products: 11.7%\n",
            "Positive reviews regarding Netflix and its products: 13.9%\n"
          ]
        }
      ]
    },
    {
      "cell_type": "code",
      "metadata": {
        "colab": {
          "base_uri": "https://localhost:8080/"
        },
        "id": "9n7Cj8AtcVwq",
        "outputId": "479c4baf-6a22-4697-a9ed-a8d66c25034a"
      },
      "source": [
        "#Get the percentage of Negative tweets\n",
        "ntweets=df[df.Analysis == 'Negative']\n",
        "ntweets = ntweets['text']\n",
        "round(  (ntweets.shape[0] / df.shape[0]) *100, 1)"
      ],
      "execution_count": 94,
      "outputs": [
        {
          "output_type": "execute_result",
          "data": {
            "text/plain": [
              "12.5"
            ]
          },
          "metadata": {},
          "execution_count": 94
        }
      ]
    },
    {
      "cell_type": "code",
      "metadata": {
        "colab": {
          "base_uri": "https://localhost:8080/"
        },
        "id": "LELBNJ7rZd6I",
        "outputId": "472546b4-ff63-4abd-8d41-d5b23385869f"
      },
      "source": [
        "nvidia = ntweets[df.file_name=='Nvidia']\n",
        "ms = ntweets[df.file_name=='Microsoft']\n",
        "amd = ntweets[df.file_name=='AMD']\n",
        "amazon = ntweets[df.file_name=='Amazon']\n",
        "twitch = ntweets[df.file_name=='Twitch']\n",
        "apple = ntweets[df.file_name=='Apple']\n",
        "youtube = ntweets[df.file_name=='Youtube']\n",
        "tesla = ntweets[df.file_name=='Tesla']\n",
        "google = ntweets[df.file_name=='Google']\n",
        "netflix = ntweets[df.file_name=='Netflix']\n",
        "print(ntweets.shape[0]*100)\n",
        "print(\"Negative reviews regarding Nvidia and its products: \"+str(round(  (nvidia.shape[0] / ntweets.shape[0]) *100, 1))+\"%\")\n",
        "print(\"Negative reviews regarding Microsoft and its products: \"+str(round(  (ms.shape[0] / ntweets.shape[0]) *100, 1))+\"%\")\n",
        "print(\"Negative reviews regarding AMD and its products: \"+str(round(  (amd.shape[0] / ntweets.shape[0]) *100, 1))+\"%\")\n",
        "print(\"Negative reviews regarding Twitch and its products: \"+str(round(  (twitch.shape[0] / ntweets.shape[0]) *100, 1))+\"%\")\n",
        "print(\"Negative reviews regarding Apple and its products: \"+str(round(  (apple.shape[0] / ntweets.shape[0]) *100, 1))+\"%\")\n",
        "print(\"Negative reviews regarding Youtube and its products: \"+str(round(  (youtube.shape[0] / ntweets.shape[0]) *100, 1))+\"%\")\n",
        "print(\"Negative reviews regarding Tesla and its products: \"+str(round(  (tesla.shape[0] / ntweets.shape[0]) *100, 1))+\"%\")\n",
        "print(\"Negative reviews regarding Google and its products: \"+str(round(  (google.shape[0] / ntweets.shape[0]) *100, 1))+\"%\")\n",
        "print(\"Negative reviews regarding Netflix and its products: \"+str(round(  (netflix.shape[0] / ntweets.shape[0]) *100, 1))+\"%\")\n"
      ],
      "execution_count": 103,
      "outputs": [
        {
          "output_type": "stream",
          "name": "stdout",
          "text": [
            "3313900\n",
            "Negative reviews regarding Nvidia and its products: 1.8%\n",
            "Negative reviews regarding Microsoft and its products: 9.5%\n",
            "Negative reviews regarding AMD and its products: 1.0%\n",
            "Negative reviews regarding Twitch and its products: 17.2%\n",
            "Negative reviews regarding Apple and its products: 14.7%\n",
            "Negative reviews regarding Youtube and its products: 13.1%\n",
            "Negative reviews regarding Tesla and its products: 7.6%\n",
            "Negative reviews regarding Google and its products: 10.7%\n",
            "Negative reviews regarding Netflix and its products: 16.9%\n"
          ]
        }
      ]
    },
    {
      "cell_type": "code",
      "metadata": {
        "colab": {
          "base_uri": "https://localhost:8080/"
        },
        "id": "CP3e8Cj5chcb",
        "outputId": "f3ee44e6-7d0a-46c8-cccc-cba7980c7217"
      },
      "source": [
        "#Get the percentage of Neutral tweets\n",
        "netweets=df[df.Analysis == 'Neutral']\n",
        "netweets = netweets['CleanedText']\n",
        "round(  (netweets.shape[0] / df.shape[0]) *100, 1)"
      ],
      "execution_count": null,
      "outputs": [
        {
          "output_type": "execute_result",
          "data": {
            "text/plain": [
              "36.2"
            ]
          },
          "metadata": {},
          "execution_count": 69
        }
      ]
    },
    {
      "cell_type": "code",
      "metadata": {
        "colab": {
          "base_uri": "https://localhost:8080/",
          "height": 374
        },
        "id": "snL-OMEpcwHx",
        "outputId": "16d58d2d-5805-4c8d-a0f5-603941293cca"
      },
      "source": [
        "#Show the value counts\n",
        "\n",
        "df['Analysis'].value_counts()\n",
        "\n",
        "#plot and visualize the counts\n",
        "plt.title('Sentiment Analysis')\n",
        "plt.xlabel('Sentiment')\n",
        "plt.ylabel('Count')\n",
        "df['Analysis'].value_counts().plot(kind='bar')\n",
        "#amd.value_counts().plot(kind='bar')\n",
        "\n",
        "\n",
        "plt.show()\n"
      ],
      "execution_count": 110,
      "outputs": [
        {
          "output_type": "display_data",
          "data": {
            "image/png": "[encoded data removed]",
            "text/plain": [
              "<Figure size 432x288 with 1 Axes>"
            ]
          },
          "metadata": {}
        }
      ]
    },
    {
      "cell_type": "code",
      "metadata": {
        "id": "BrFkrvavQFQM"
      },
      "source": [
        "#Show the value counts\n",
        "\n",
        "nvidia=df['Analysis'].value_counts()\n",
        "\n",
        "#plot and visualize the counts\n",
        "plt.title('Sentiment Analysis')\n",
        "plt.xlabel('Sentiment')\n",
        "plt.ylabel('Count')\n",
        "df['Analysis'].value_counts().plot(kind='bar')\n",
        "\n",
        "\n",
        "plt.show()\n"
      ],
      "execution_count": null,
      "outputs": []
    }
  ]
}