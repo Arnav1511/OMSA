{
  "nbformat": 4,
  "nbformat_minor": 0,
  "metadata": {
    "colab": {
      "name": "MajorProject.ipynb",
      "provenance": [],
      "collapsed_sections": [],
      "include_colab_link": true
    },
    "kernelspec": {
      "name": "python3",
      "display_name": "Python 3"
    },
    "language_info": {
      "name": "python"
    },
    "accelerator": "GPU"
  },
  "cells": [
    {
      "cell_type": "markdown",
      "metadata": {
        "id": "view-in-github",
        "colab_type": "text"
      },
      "source": [
        "<a href=\"https://colab.research.google.com/github/Arnav1511/OMSA/blob/main/MajorProject.ipynb\" target=\"_parent\"><img src=\"https://colab.research.google.com/assets/colab-badge.svg\" alt=\"Open In Colab\"/></a>"
      ]
    },
    {
      "cell_type": "markdown",
      "metadata": {
        "id": "G9SjC0raZiLK"
      },
      "source": [
        "Importing drive library and mounting gdrive"
      ]
    },
    {
      "cell_type": "code",
      "metadata": {
        "colab": {
          "base_uri": "https://localhost:8080/"
        },
        "id": "xxAYlYss0n6I",
        "outputId": "0f431b0e-c72f-473f-ad50-a79d49b9a109"
      },
      "source": [
        "from google.colab import drive\n",
        "drive.mount(\"/content/gdrive\")\n"
      ],
      "execution_count": null,
      "outputs": [
        {
          "output_type": "stream",
          "name": "stdout",
          "text": [
            "Mounted at /content/gdrive\n"
          ]
        }
      ]
    },
    {
      "cell_type": "markdown",
      "metadata": {
        "id": "cvU-GnGcZt93"
      },
      "source": [
        "Mounting the dataset"
      ]
    },
    {
      "cell_type": "code",
      "metadata": {
        "id": "7ZVTauN47Wd3"
      },
      "source": [
        "import os\n",
        "os.environ['KAGGLE_CONFIG_DIR']='/content/gdrive/MyDrive/kaggle_dataset'"
      ],
      "execution_count": null,
      "outputs": []
    },
    {
      "cell_type": "code",
      "metadata": {
        "colab": {
          "base_uri": "https://localhost:8080/"
        },
        "id": "x1PAWYlj7ZW_",
        "outputId": "30f87a19-c28f-41f6-8a8a-73b3f51da856"
      },
      "source": [
        "%cd /content/gdrive/MyDrive/kaggle_dataset"
      ],
      "execution_count": null,
      "outputs": [
        {
          "output_type": "stream",
          "name": "stdout",
          "text": [
            "/content/gdrive/MyDrive/kaggle_dataset\n"
          ]
        }
      ]
    },
    {
      "cell_type": "markdown",
      "metadata": {
        "id": "TbPKeqEtZ1cM"
      },
      "source": [
        "Listing all the contents"
      ]
    },
    {
      "cell_type": "code",
      "metadata": {
        "colab": {
          "base_uri": "https://localhost:8080/"
        },
        "id": "HGPE9peo7dkP",
        "outputId": "cfa18c38-f895-4627-cdac-bad78ee7d4c7"
      },
      "source": [
        "!ls\n"
      ],
      "execution_count": null,
      "outputs": [
        {
          "output_type": "stream",
          "name": "stdout",
          "text": [
            "'Bigtech - 12-07-2020 till 19-09-2020'\n",
            "'Bigtech - 20-09-2020 till 13-10-2020.csv'\n",
            " big-tech-companies-tweet-sentiment.zip\n",
            " kaggle.json\n"
          ]
        }
      ]
    },
    {
      "cell_type": "code",
      "metadata": {
        "colab": {
          "base_uri": "https://localhost:8080/"
        },
        "id": "EpmV8x567oaG",
        "outputId": "8b42b2c4-77f7-4f99-a4bd-029a45671e22"
      },
      "source": [
        "!pwd\n"
      ],
      "execution_count": null,
      "outputs": [
        {
          "output_type": "stream",
          "name": "stdout",
          "text": [
            "/content/gdrive/MyDrive/kaggle_dataset\n"
          ]
        }
      ]
    },
    {
      "cell_type": "markdown",
      "metadata": {
        "id": "Ew6s6IlYZ6rF"
      },
      "source": [
        "Downloading dataset from Kaggle"
      ]
    },
    {
      "cell_type": "code",
      "metadata": {
        "colab": {
          "base_uri": "https://localhost:8080/"
        },
        "id": "b5UgOpgY7q2C",
        "outputId": "e59fb64a-ae05-4ae0-a181-ca33596c2e42"
      },
      "source": [
        "!kaggle datasets download -d wjia26/big-tech-companies-tweet-sentiment"
      ],
      "execution_count": null,
      "outputs": [
        {
          "output_type": "stream",
          "name": "stdout",
          "text": [
            "big-tech-companies-tweet-sentiment.zip: Skipping, found more recently modified local copy (use --force to force download)\n"
          ]
        }
      ]
    },
    {
      "cell_type": "code",
      "metadata": {
        "colab": {
          "base_uri": "https://localhost:8080/"
        },
        "id": "LVABHJk479xO",
        "outputId": "846f244f-5f47-4ff0-d20c-1713008b618f"
      },
      "source": [
        "!ls"
      ],
      "execution_count": null,
      "outputs": [
        {
          "output_type": "stream",
          "name": "stdout",
          "text": [
            "'Bigtech - 12-07-2020 till 19-09-2020'\n",
            "'Bigtech - 20-09-2020 till 13-10-2020.csv'\n",
            " big-tech-companies-tweet-sentiment.zip\n",
            " kaggle.json\n"
          ]
        }
      ]
    },
    {
      "cell_type": "markdown",
      "metadata": {
        "id": "vyfxqyLhaADb"
      },
      "source": [
        "Unzipping the dataset"
      ]
    },
    {
      "cell_type": "code",
      "metadata": {
        "colab": {
          "base_uri": "https://localhost:8080/"
        },
        "id": "F1fMmxjw8DK7",
        "outputId": "824a66cf-238b-4454-c8a7-76b0c3509f05"
      },
      "source": [
        "!unzip /content/gdrive/MyDrive/kaggle_dataset/big-tech-companies-tweet-sentiment.zip"
      ],
      "execution_count": null,
      "outputs": [
        {
          "output_type": "stream",
          "name": "stdout",
          "text": [
            "Archive:  /content/gdrive/MyDrive/kaggle_dataset/big-tech-companies-tweet-sentiment.zip\n",
            "replace Bigtech - 12-07-2020 till 19-09-2020/Bigtech - 12-07-2020 till 19-09-2020.csv? [y]es, [n]o, [A]ll, [N]one, [r]ename: "
          ]
        }
      ]
    },
    {
      "cell_type": "code",
      "metadata": {
        "colab": {
          "base_uri": "https://localhost:8080/"
        },
        "id": "jUkxbv_Z8Ggg",
        "outputId": "1751c452-4273-4c30-94c3-4e8730fa4c26"
      },
      "source": [
        "!ls\n"
      ],
      "execution_count": null,
      "outputs": [
        {
          "output_type": "stream",
          "name": "stdout",
          "text": [
            "'Bigtech - 12-07-2020 till 19-09-2020'\n",
            "'Bigtech - 20-09-2020 till 13-10-2020.csv'\n",
            " big-tech-companies-tweet-sentiment.zip\n",
            " kaggle.json\n"
          ]
        }
      ]
    },
    {
      "cell_type": "markdown",
      "metadata": {
        "id": "evntXTLhaGbw"
      },
      "source": [
        "Creating dataframe from the dataset"
      ]
    },
    {
      "cell_type": "code",
      "metadata": {
        "id": "k6suY8f98UGu"
      },
      "source": [
        "import pandas as pd\n",
        "df=pd.read_csv(\"Bigtech - 20-09-2020 till 13-10-2020.csv\")\n"
      ],
      "execution_count": null,
      "outputs": []
    },
    {
      "cell_type": "code",
      "metadata": {
        "colab": {
          "base_uri": "https://localhost:8080/"
        },
        "id": "v0XFHAQL8dGb",
        "outputId": "98a960f4-1328-4ac6-a091-1574809e90b8"
      },
      "source": [
        "df.shape"
      ],
      "execution_count": null,
      "outputs": [
        {
          "output_type": "execute_result",
          "data": {
            "text/plain": [
              "(266095, 15)"
            ]
          },
          "metadata": {},
          "execution_count": 5
        }
      ]
    },
    {
      "cell_type": "code",
      "metadata": {
        "colab": {
          "base_uri": "https://localhost:8080/"
        },
        "id": "mJndR-2P8hHX",
        "outputId": "0f1e0db3-cd97-42f2-a730-f380c62ddc48"
      },
      "source": [
        "df.columns"
      ],
      "execution_count": null,
      "outputs": [
        {
          "output_type": "execute_result",
          "data": {
            "text/plain": [
              "Index(['created_at', 'file_name', 'followers', 'friends', 'group_name',\n",
              "       'location', 'retweet_count', 'screenname', 'search_query', 'text',\n",
              "       'twitter_id', 'username', 'polarity', 'partition_0', 'partition_1'],\n",
              "      dtype='object')"
            ]
          },
          "metadata": {},
          "execution_count": 8
        }
      ]
    },
    {
      "cell_type": "markdown",
      "metadata": {
        "id": "ibBHOdnhaOx1"
      },
      "source": [
        "Extract the reviews"
      ]
    },
    {
      "cell_type": "code",
      "metadata": {
        "colab": {
          "base_uri": "https://localhost:8080/"
        },
        "id": "bo6XUObNsN9o",
        "outputId": "ae6026aa-728e-463d-e6e6-eb0f62532860"
      },
      "source": [
        "tweet=df.text.values\n",
        "print(tweet)"
      ],
      "execution_count": null,
      "outputs": [
        {
          "output_type": "stream",
          "name": "stdout",
          "text": [
            "['NVIDIA GauGAN is actually a good tool to practice composition/framing? '\n",
            " 'BullSequana X2415, the first supercomputer blade server in Europe to integrate NVIDIA’s Ampere next-generation graphics processing unit architecture, the NVIDIA A100 Tensor Core GPU s.  Read more ▶  Atos is sponsor at Nvidia GTC20 Digital '\n",
            " \"I'm going to attend GTC 2020 tonight! Excited. Nvidia GTC20\" ...\n",
            " 'New vlog arrivals! Discover a lovely culture treasuring family in HongKong. Wanna share the moments, a Mid Autumn Festival week of mine. Touch HK! YouTube AsianView SubscribeNow  '\n",
            " 'New Video is up. Finally showing my new Streaming PC build. A much needed upgrade to help maximise my content creation. Sorry guys, no RTX3080in this one.    RTX NZXT rogstrix Corsair pcbuild youtube streamer streamingpc PC twitch'\n",
            " 'NEW VIDEO!!   FRIEND v FRIEND CHALLENGE!!      friendvfriend friends challenge challenger youtube YouTuber twitch TwitchStreamers']\n"
          ]
        }
      ]
    },
    {
      "cell_type": "markdown",
      "metadata": {
        "id": "w8NYSAoEaYhY"
      },
      "source": [
        "Tokenizing and removing stopwords"
      ]
    },
    {
      "cell_type": "code",
      "metadata": {
        "colab": {
          "base_uri": "https://localhost:8080/"
        },
        "id": "iUyj3lPTwH6A",
        "outputId": "faeb6fd3-bdba-4655-9163-7030148428d2"
      },
      "source": [
        "import nltk \n",
        "from nltk.tokenize import RegexpTokenizer #to remove punctuations and tokenize the text\n",
        "from nltk.corpus import stopwords # to remove the stop words after tokenization\n",
        "nltk.download('stopwords')\n",
        "nltk.download('punkt')\n",
        "\n",
        "#tokens_without_sw = [word for word in tweet if not word in stopwords.words()]"
      ],
      "execution_count": null,
      "outputs": [
        {
          "output_type": "stream",
          "name": "stdout",
          "text": [
            "[nltk_data] Downloading package stopwords to /root/nltk_data...\n",
            "[nltk_data]   Unzipping corpora/stopwords.zip.\n",
            "[nltk_data] Downloading package punkt to /root/nltk_data...\n",
            "[nltk_data]   Unzipping tokenizers/punkt.zip.\n"
          ]
        },
        {
          "output_type": "execute_result",
          "data": {
            "text/plain": [
              "True"
            ]
          },
          "metadata": {},
          "execution_count": 7
        }
      ]
    },
    {
      "cell_type": "markdown",
      "metadata": {
        "id": "1-khqFOOfEyV"
      },
      "source": [
        "Cleaning the Text (emojis, mentions, hashtags, hyperlinks)"
      ]
    },
    {
      "cell_type": "code",
      "metadata": {
        "colab": {
          "base_uri": "https://localhost:8080/",
          "height": 949
        },
        "id": "xjgsNK-VgreA",
        "outputId": "cedd6e23-939d-4ebd-97b6-887a27f82ebd"
      },
      "source": [
        "import re\n",
        "\n",
        "emojis = re.compile(\"[\"\n",
        "    u\"\\U0001F600-\\U0001F64F\"  # emoticons\n",
        "    u\"\\U0001F300-\\U0001F5FF\"  # symbols & pictographs\n",
        "    u\"\\U0001F680-\\U0001F6FF\"  # transport & map symbols\n",
        "    u\"\\U0001F1E0-\\U0001F1FF\"  # flags (iOS)\n",
        "                        \"]+\", flags=re.UNICODE)\n",
        "\n",
        "def cleanTxt(text):\n",
        "  text = re.sub(r'@[A-Za-z0-9]+','',text) #Removed @mentions\n",
        "  text = re.sub(r'#','',text) #Removing the #symbol\n",
        "  text = re.sub(r'RT[\\s]+','',text)  #Removing the RT\n",
        "  text = re.sub(r'https?:\\/\\/\\S+','',text) #Removing the hyperlinks\n",
        "  text = emojis.sub(r'',text) #remove emojis\n",
        "\n",
        "  return text\n",
        "\n",
        "\n",
        "#Cleaning the text\n",
        "df['text']=df['text'].apply(cleanTxt)\n",
        "\n",
        "#Show the cleaned text\n",
        "df.head(12)\n"
      ],
      "execution_count": null,
      "outputs": [
        {
          "output_type": "execute_result",
          "data": {
            "text/html": [
              "<div>\n",
              "<style scoped>\n",
              "    .dataframe tbody tr th:only-of-type {\n",
              "        vertical-align: middle;\n",
              "    }\n",
              "\n",
              "    .dataframe tbody tr th {\n",
              "        vertical-align: top;\n",
              "    }\n",
              "\n",
              "    .dataframe thead th {\n",
              "        text-align: right;\n",
              "    }\n",
              "</style>\n",
              "<table border=\"1\" class=\"dataframe\">\n",
              "  <thead>\n",
              "    <tr style=\"text-align: right;\">\n",
              "      <th></th>\n",
              "      <th>created_at</th>\n",
              "      <th>file_name</th>\n",
              "      <th>followers</th>\n",
              "      <th>friends</th>\n",
              "      <th>group_name</th>\n",
              "      <th>location</th>\n",
              "      <th>retweet_count</th>\n",
              "      <th>screenname</th>\n",
              "      <th>search_query</th>\n",
              "      <th>text</th>\n",
              "      <th>twitter_id</th>\n",
              "      <th>username</th>\n",
              "      <th>polarity</th>\n",
              "      <th>partition_0</th>\n",
              "      <th>partition_1</th>\n",
              "      <th>Subjectivity</th>\n",
              "      <th>NewPolarity</th>\n",
              "      <th>Analysis</th>\n",
              "    </tr>\n",
              "  </thead>\n",
              "  <tbody>\n",
              "    <tr>\n",
              "      <th>0</th>\n",
              "      <td>2020-10-05 08:44:25</td>\n",
              "      <td>Nvidia</td>\n",
              "      <td>41</td>\n",
              "      <td>410</td>\n",
              "      <td>Nvidia</td>\n",
              "      <td>sydney</td>\n",
              "      <td>0</td>\n",
              "      <td>jyolyu</td>\n",
              "      <td>#Nvidia</td>\n",
              "      <td>NVIDIA GauGAN is actually a good tool to pract...</td>\n",
              "      <td>1313037313635565568</td>\n",
              "      <td>N0%Ice</td>\n",
              "      <td>0.4404</td>\n",
              "      <td>Technology</td>\n",
              "      <td>Nvidia</td>\n",
              "      <td>0.600000</td>\n",
              "      <td>0.700000</td>\n",
              "      <td>Positive</td>\n",
              "    </tr>\n",
              "    <tr>\n",
              "      <th>1</th>\n",
              "      <td>2020-10-05 08:44:03</td>\n",
              "      <td>Nvidia</td>\n",
              "      <td>367</td>\n",
              "      <td>267</td>\n",
              "      <td>Nvidia</td>\n",
              "      <td>PARIS</td>\n",
              "      <td>0</td>\n",
              "      <td>MiClaverie</td>\n",
              "      <td>#Nvidia</td>\n",
              "      <td>BullSequana X2415, the first supercomputer bla...</td>\n",
              "      <td>1313037222422118400</td>\n",
              "      <td>Michèle Claverie</td>\n",
              "      <td>0.0000</td>\n",
              "      <td>Technology</td>\n",
              "      <td>Nvidia</td>\n",
              "      <td>0.277778</td>\n",
              "      <td>0.250000</td>\n",
              "      <td>Positive</td>\n",
              "    </tr>\n",
              "    <tr>\n",
              "      <th>2</th>\n",
              "      <td>2020-10-05 08:41:35</td>\n",
              "      <td>Nvidia</td>\n",
              "      <td>14</td>\n",
              "      <td>104</td>\n",
              "      <td>Nvidia</td>\n",
              "      <td>Japan</td>\n",
              "      <td>0</td>\n",
              "      <td>_stingraze</td>\n",
              "      <td>#Nvidia</td>\n",
              "      <td>I'm going to attend GTC 2020 tonight! Excited....</td>\n",
              "      <td>1313036602675916802</td>\n",
              "      <td>Tsubasa Kato</td>\n",
              "      <td>0.4003</td>\n",
              "      <td>Technology</td>\n",
              "      <td>Nvidia</td>\n",
              "      <td>0.750000</td>\n",
              "      <td>0.375000</td>\n",
              "      <td>Positive</td>\n",
              "    </tr>\n",
              "    <tr>\n",
              "      <th>3</th>\n",
              "      <td>2020-10-05 08:28:11</td>\n",
              "      <td>Nvidia</td>\n",
              "      <td>18286</td>\n",
              "      <td>941</td>\n",
              "      <td>Nvidia</td>\n",
              "      <td>NaN</td>\n",
              "      <td>0</td>\n",
              "      <td>gamingonlinux</td>\n",
              "      <td>#Nvidia</td>\n",
              "      <td>NVIDIA delays launch of GeForce RTX 3070 until...</td>\n",
              "      <td>1313033229201477634</td>\n",
              "      <td>GamingOnLinux 🐧</td>\n",
              "      <td>0.0000</td>\n",
              "      <td>Technology</td>\n",
              "      <td>Nvidia</td>\n",
              "      <td>0.000000</td>\n",
              "      <td>0.000000</td>\n",
              "      <td>Neutral</td>\n",
              "    </tr>\n",
              "    <tr>\n",
              "      <th>4</th>\n",
              "      <td>2020-10-05 08:18:05</td>\n",
              "      <td>Nvidia</td>\n",
              "      <td>42</td>\n",
              "      <td>84</td>\n",
              "      <td>Nvidia</td>\n",
              "      <td>Paris, France</td>\n",
              "      <td>0</td>\n",
              "      <td>anupdshetty</td>\n",
              "      <td>#Nvidia</td>\n",
              "      <td>BullSequana X2415, the first supercomputer bla...</td>\n",
              "      <td>1313030688338317312</td>\n",
              "      <td>Anup Shetty</td>\n",
              "      <td>0.0000</td>\n",
              "      <td>Technology</td>\n",
              "      <td>Nvidia</td>\n",
              "      <td>0.277778</td>\n",
              "      <td>0.250000</td>\n",
              "      <td>Positive</td>\n",
              "    </tr>\n",
              "    <tr>\n",
              "      <th>5</th>\n",
              "      <td>2020-10-05 08:15:05</td>\n",
              "      <td>Nvidia</td>\n",
              "      <td>16</td>\n",
              "      <td>39</td>\n",
              "      <td>Nvidia</td>\n",
              "      <td>Nürnberg, Bayern</td>\n",
              "      <td>0</td>\n",
              "      <td>mdepenbr</td>\n",
              "      <td>#Nvidia</td>\n",
              "      <td>BullSequana X2415, the first supercomputer bla...</td>\n",
              "      <td>1313029932059185153</td>\n",
              "      <td>Martin Depenbrock</td>\n",
              "      <td>0.0000</td>\n",
              "      <td>Technology</td>\n",
              "      <td>Nvidia</td>\n",
              "      <td>0.277778</td>\n",
              "      <td>0.250000</td>\n",
              "      <td>Positive</td>\n",
              "    </tr>\n",
              "    <tr>\n",
              "      <th>6</th>\n",
              "      <td>2020-10-05 08:13:47</td>\n",
              "      <td>Nvidia</td>\n",
              "      <td>26163</td>\n",
              "      <td>19140</td>\n",
              "      <td>Nvidia</td>\n",
              "      <td>Grenoble, France</td>\n",
              "      <td>4</td>\n",
              "      <td>SBUCloud</td>\n",
              "      <td>#Nvidia</td>\n",
              "      <td>Today, don’t miss the World’s largest AI confe...</td>\n",
              "      <td>1313029604593065985</td>\n",
              "      <td>Stephane Bureau</td>\n",
              "      <td>-0.1531</td>\n",
              "      <td>Technology</td>\n",
              "      <td>Nvidia</td>\n",
              "      <td>0.000000</td>\n",
              "      <td>0.000000</td>\n",
              "      <td>Neutral</td>\n",
              "    </tr>\n",
              "    <tr>\n",
              "      <th>7</th>\n",
              "      <td>2020-10-05 08:12:10</td>\n",
              "      <td>Nvidia</td>\n",
              "      <td>206</td>\n",
              "      <td>86</td>\n",
              "      <td>Nvidia</td>\n",
              "      <td>Madrid, Spain</td>\n",
              "      <td>0</td>\n",
              "      <td>LauraMartin_sp</td>\n",
              "      <td>#Nvidia</td>\n",
              "      <td>BullSequana X2415, the first supercomputer bla...</td>\n",
              "      <td>1313029200333492224</td>\n",
              "      <td>Laura Martín Sánchez</td>\n",
              "      <td>0.0000</td>\n",
              "      <td>Technology</td>\n",
              "      <td>Nvidia</td>\n",
              "      <td>0.277778</td>\n",
              "      <td>0.250000</td>\n",
              "      <td>Positive</td>\n",
              "    </tr>\n",
              "    <tr>\n",
              "      <th>8</th>\n",
              "      <td>2020-10-05 08:09:05</td>\n",
              "      <td>Nvidia</td>\n",
              "      <td>75</td>\n",
              "      <td>47</td>\n",
              "      <td>Nvidia</td>\n",
              "      <td>Ile-de-France, France</td>\n",
              "      <td>0</td>\n",
              "      <td>FabienLocussol</td>\n",
              "      <td>#Nvidia</td>\n",
              "      <td>BullSequana X2415, the first supercomputer bla...</td>\n",
              "      <td>1313028423179268096</td>\n",
              "      <td>Fabien Locussol</td>\n",
              "      <td>0.0000</td>\n",
              "      <td>Technology</td>\n",
              "      <td>Nvidia</td>\n",
              "      <td>0.277778</td>\n",
              "      <td>0.250000</td>\n",
              "      <td>Positive</td>\n",
              "    </tr>\n",
              "    <tr>\n",
              "      <th>9</th>\n",
              "      <td>2020-10-05 08:02:51</td>\n",
              "      <td>Nvidia</td>\n",
              "      <td>663</td>\n",
              "      <td>1611</td>\n",
              "      <td>Nvidia</td>\n",
              "      <td>Germany</td>\n",
              "      <td>1</td>\n",
              "      <td>beleept</td>\n",
              "      <td>#Nvidia</td>\n",
              "      <td>NVIDIA GeForce RTX 30 Series – Top Facts &amp;amp;...</td>\n",
              "      <td>1313026852752162817</td>\n",
              "      <td>BELEEPT</td>\n",
              "      <td>0.2023</td>\n",
              "      <td>Technology</td>\n",
              "      <td>Nvidia</td>\n",
              "      <td>0.633333</td>\n",
              "      <td>0.033333</td>\n",
              "      <td>Positive</td>\n",
              "    </tr>\n",
              "    <tr>\n",
              "      <th>10</th>\n",
              "      <td>2020-10-05 08:02:05</td>\n",
              "      <td>Nvidia</td>\n",
              "      <td>853</td>\n",
              "      <td>866</td>\n",
              "      <td>Nvidia</td>\n",
              "      <td>England.</td>\n",
              "      <td>0</td>\n",
              "      <td>Jameswalters83</td>\n",
              "      <td>#Nvidia</td>\n",
              "      <td>In a bizarre twist to this already highly co...</td>\n",
              "      <td>1313026660665524229</td>\n",
              "      <td>James Walters | Google Stadia Pro.</td>\n",
              "      <td>-0.6115</td>\n",
              "      <td>Technology</td>\n",
              "      <td>Nvidia</td>\n",
              "      <td>0.550649</td>\n",
              "      <td>0.090909</td>\n",
              "      <td>Positive</td>\n",
              "    </tr>\n",
              "    <tr>\n",
              "      <th>11</th>\n",
              "      <td>2020-10-05 07:56:31</td>\n",
              "      <td>Nvidia</td>\n",
              "      <td>305</td>\n",
              "      <td>383</td>\n",
              "      <td>Nvidia</td>\n",
              "      <td>Germany</td>\n",
              "      <td>4</td>\n",
              "      <td>screenknight_vp</td>\n",
              "      <td>#Nvidia</td>\n",
              "      <td>PhotoModeMonday  MAN'S ROAD ☁️      TheWitche...</td>\n",
              "      <td>1313025260254625792</td>\n",
              "      <td>👻 Scream 🎃 Night 👻</td>\n",
              "      <td>0.0000</td>\n",
              "      <td>Technology</td>\n",
              "      <td>Nvidia</td>\n",
              "      <td>0.000000</td>\n",
              "      <td>0.000000</td>\n",
              "      <td>Neutral</td>\n",
              "    </tr>\n",
              "  </tbody>\n",
              "</table>\n",
              "</div>"
            ],
            "text/plain": [
              "             created_at file_name  ...  NewPolarity  Analysis\n",
              "0   2020-10-05 08:44:25    Nvidia  ...     0.700000  Positive\n",
              "1   2020-10-05 08:44:03    Nvidia  ...     0.250000  Positive\n",
              "2   2020-10-05 08:41:35    Nvidia  ...     0.375000  Positive\n",
              "3   2020-10-05 08:28:11    Nvidia  ...     0.000000   Neutral\n",
              "4   2020-10-05 08:18:05    Nvidia  ...     0.250000  Positive\n",
              "5   2020-10-05 08:15:05    Nvidia  ...     0.250000  Positive\n",
              "6   2020-10-05 08:13:47    Nvidia  ...     0.000000   Neutral\n",
              "7   2020-10-05 08:12:10    Nvidia  ...     0.250000  Positive\n",
              "8   2020-10-05 08:09:05    Nvidia  ...     0.250000  Positive\n",
              "9   2020-10-05 08:02:51    Nvidia  ...     0.033333  Positive\n",
              "10  2020-10-05 08:02:05    Nvidia  ...     0.090909  Positive\n",
              "11  2020-10-05 07:56:31    Nvidia  ...     0.000000   Neutral\n",
              "\n",
              "[12 rows x 18 columns]"
            ]
          },
          "metadata": {},
          "execution_count": 28
        }
      ]
    },
    {
      "cell_type": "code",
      "metadata": {
        "id": "B2aqfOUL12uZ"
      },
      "source": [
        "df=df.drop_duplicates(subset='text')"
      ],
      "execution_count": null,
      "outputs": []
    },
    {
      "cell_type": "code",
      "metadata": {
        "colab": {
          "base_uri": "https://localhost:8080/",
          "height": 1000
        },
        "id": "3xvPhXRA2GhM",
        "outputId": "981dc60b-7580-46ae-d94d-d1bcf863b3f8"
      },
      "source": [
        "df.head(20)"
      ],
      "execution_count": null,
      "outputs": [
        {
          "output_type": "execute_result",
          "data": {
            "text/html": [
              "<div>\n",
              "<style scoped>\n",
              "    .dataframe tbody tr th:only-of-type {\n",
              "        vertical-align: middle;\n",
              "    }\n",
              "\n",
              "    .dataframe tbody tr th {\n",
              "        vertical-align: top;\n",
              "    }\n",
              "\n",
              "    .dataframe thead th {\n",
              "        text-align: right;\n",
              "    }\n",
              "</style>\n",
              "<table border=\"1\" class=\"dataframe\">\n",
              "  <thead>\n",
              "    <tr style=\"text-align: right;\">\n",
              "      <th></th>\n",
              "      <th>created_at</th>\n",
              "      <th>file_name</th>\n",
              "      <th>followers</th>\n",
              "      <th>friends</th>\n",
              "      <th>group_name</th>\n",
              "      <th>location</th>\n",
              "      <th>retweet_count</th>\n",
              "      <th>screenname</th>\n",
              "      <th>search_query</th>\n",
              "      <th>text</th>\n",
              "      <th>twitter_id</th>\n",
              "      <th>username</th>\n",
              "      <th>polarity</th>\n",
              "      <th>partition_0</th>\n",
              "      <th>partition_1</th>\n",
              "      <th>Subjectivity</th>\n",
              "      <th>NewPolarity</th>\n",
              "      <th>Analysis</th>\n",
              "    </tr>\n",
              "  </thead>\n",
              "  <tbody>\n",
              "    <tr>\n",
              "      <th>0</th>\n",
              "      <td>2020-10-05 08:44:25</td>\n",
              "      <td>Nvidia</td>\n",
              "      <td>41</td>\n",
              "      <td>410</td>\n",
              "      <td>Nvidia</td>\n",
              "      <td>sydney</td>\n",
              "      <td>0</td>\n",
              "      <td>jyolyu</td>\n",
              "      <td>#Nvidia</td>\n",
              "      <td>NVIDIA GauGAN is actually a good tool to pract...</td>\n",
              "      <td>1313037313635565568</td>\n",
              "      <td>N0%Ice</td>\n",
              "      <td>0.4404</td>\n",
              "      <td>Technology</td>\n",
              "      <td>Nvidia</td>\n",
              "      <td>0.600000</td>\n",
              "      <td>0.700000</td>\n",
              "      <td>Positive</td>\n",
              "    </tr>\n",
              "    <tr>\n",
              "      <th>1</th>\n",
              "      <td>2020-10-05 08:44:03</td>\n",
              "      <td>Nvidia</td>\n",
              "      <td>367</td>\n",
              "      <td>267</td>\n",
              "      <td>Nvidia</td>\n",
              "      <td>PARIS</td>\n",
              "      <td>0</td>\n",
              "      <td>MiClaverie</td>\n",
              "      <td>#Nvidia</td>\n",
              "      <td>BullSequana X2415, the first supercomputer bla...</td>\n",
              "      <td>1313037222422118400</td>\n",
              "      <td>Michèle Claverie</td>\n",
              "      <td>0.0000</td>\n",
              "      <td>Technology</td>\n",
              "      <td>Nvidia</td>\n",
              "      <td>0.277778</td>\n",
              "      <td>0.250000</td>\n",
              "      <td>Positive</td>\n",
              "    </tr>\n",
              "    <tr>\n",
              "      <th>2</th>\n",
              "      <td>2020-10-05 08:41:35</td>\n",
              "      <td>Nvidia</td>\n",
              "      <td>14</td>\n",
              "      <td>104</td>\n",
              "      <td>Nvidia</td>\n",
              "      <td>Japan</td>\n",
              "      <td>0</td>\n",
              "      <td>_stingraze</td>\n",
              "      <td>#Nvidia</td>\n",
              "      <td>I'm going to attend GTC 2020 tonight! Excited....</td>\n",
              "      <td>1313036602675916802</td>\n",
              "      <td>Tsubasa Kato</td>\n",
              "      <td>0.4003</td>\n",
              "      <td>Technology</td>\n",
              "      <td>Nvidia</td>\n",
              "      <td>0.750000</td>\n",
              "      <td>0.375000</td>\n",
              "      <td>Positive</td>\n",
              "    </tr>\n",
              "    <tr>\n",
              "      <th>3</th>\n",
              "      <td>2020-10-05 08:28:11</td>\n",
              "      <td>Nvidia</td>\n",
              "      <td>18286</td>\n",
              "      <td>941</td>\n",
              "      <td>Nvidia</td>\n",
              "      <td>NaN</td>\n",
              "      <td>0</td>\n",
              "      <td>gamingonlinux</td>\n",
              "      <td>#Nvidia</td>\n",
              "      <td>NVIDIA delays launch of GeForce RTX 3070 until...</td>\n",
              "      <td>1313033229201477634</td>\n",
              "      <td>GamingOnLinux 🐧</td>\n",
              "      <td>0.0000</td>\n",
              "      <td>Technology</td>\n",
              "      <td>Nvidia</td>\n",
              "      <td>0.000000</td>\n",
              "      <td>0.000000</td>\n",
              "      <td>Neutral</td>\n",
              "    </tr>\n",
              "    <tr>\n",
              "      <th>6</th>\n",
              "      <td>2020-10-05 08:13:47</td>\n",
              "      <td>Nvidia</td>\n",
              "      <td>26163</td>\n",
              "      <td>19140</td>\n",
              "      <td>Nvidia</td>\n",
              "      <td>Grenoble, France</td>\n",
              "      <td>4</td>\n",
              "      <td>SBUCloud</td>\n",
              "      <td>#Nvidia</td>\n",
              "      <td>Today, don’t miss the World’s largest AI confe...</td>\n",
              "      <td>1313029604593065985</td>\n",
              "      <td>Stephane Bureau</td>\n",
              "      <td>-0.1531</td>\n",
              "      <td>Technology</td>\n",
              "      <td>Nvidia</td>\n",
              "      <td>0.000000</td>\n",
              "      <td>0.000000</td>\n",
              "      <td>Neutral</td>\n",
              "    </tr>\n",
              "    <tr>\n",
              "      <th>9</th>\n",
              "      <td>2020-10-05 08:02:51</td>\n",
              "      <td>Nvidia</td>\n",
              "      <td>663</td>\n",
              "      <td>1611</td>\n",
              "      <td>Nvidia</td>\n",
              "      <td>Germany</td>\n",
              "      <td>1</td>\n",
              "      <td>beleept</td>\n",
              "      <td>#Nvidia</td>\n",
              "      <td>NVIDIA GeForce RTX 30 Series – Top Facts &amp;amp;...</td>\n",
              "      <td>1313026852752162817</td>\n",
              "      <td>BELEEPT</td>\n",
              "      <td>0.2023</td>\n",
              "      <td>Technology</td>\n",
              "      <td>Nvidia</td>\n",
              "      <td>0.633333</td>\n",
              "      <td>0.033333</td>\n",
              "      <td>Positive</td>\n",
              "    </tr>\n",
              "    <tr>\n",
              "      <th>10</th>\n",
              "      <td>2020-10-05 08:02:05</td>\n",
              "      <td>Nvidia</td>\n",
              "      <td>853</td>\n",
              "      <td>866</td>\n",
              "      <td>Nvidia</td>\n",
              "      <td>England.</td>\n",
              "      <td>0</td>\n",
              "      <td>Jameswalters83</td>\n",
              "      <td>#Nvidia</td>\n",
              "      <td>In a bizarre twist to this already highly co...</td>\n",
              "      <td>1313026660665524229</td>\n",
              "      <td>James Walters | Google Stadia Pro.</td>\n",
              "      <td>-0.6115</td>\n",
              "      <td>Technology</td>\n",
              "      <td>Nvidia</td>\n",
              "      <td>0.550649</td>\n",
              "      <td>0.090909</td>\n",
              "      <td>Positive</td>\n",
              "    </tr>\n",
              "    <tr>\n",
              "      <th>11</th>\n",
              "      <td>2020-10-05 07:56:31</td>\n",
              "      <td>Nvidia</td>\n",
              "      <td>305</td>\n",
              "      <td>383</td>\n",
              "      <td>Nvidia</td>\n",
              "      <td>Germany</td>\n",
              "      <td>4</td>\n",
              "      <td>screenknight_vp</td>\n",
              "      <td>#Nvidia</td>\n",
              "      <td>PhotoModeMonday  MAN'S ROAD ☁️      TheWitche...</td>\n",
              "      <td>1313025260254625792</td>\n",
              "      <td>👻 Scream 🎃 Night 👻</td>\n",
              "      <td>0.0000</td>\n",
              "      <td>Technology</td>\n",
              "      <td>Nvidia</td>\n",
              "      <td>0.000000</td>\n",
              "      <td>0.000000</td>\n",
              "      <td>Neutral</td>\n",
              "    </tr>\n",
              "    <tr>\n",
              "      <th>12</th>\n",
              "      <td>2020-10-05 07:48:19</td>\n",
              "      <td>Nvidia</td>\n",
              "      <td>1</td>\n",
              "      <td>21</td>\n",
              "      <td>Nvidia</td>\n",
              "      <td>NaN</td>\n",
              "      <td>0</td>\n",
              "      <td>VividSpx</td>\n",
              "      <td>#Nvidia</td>\n",
              "      <td>Hardware Utilization of VividSparks Products. ...</td>\n",
              "      <td>1313023194731696128</td>\n",
              "      <td>VividSparks</td>\n",
              "      <td>0.0000</td>\n",
              "      <td>Technology</td>\n",
              "      <td>Nvidia</td>\n",
              "      <td>0.000000</td>\n",
              "      <td>0.000000</td>\n",
              "      <td>Neutral</td>\n",
              "    </tr>\n",
              "    <tr>\n",
              "      <th>13</th>\n",
              "      <td>2020-10-05 07:30:15</td>\n",
              "      <td>Nvidia</td>\n",
              "      <td>24</td>\n",
              "      <td>42</td>\n",
              "      <td>Nvidia</td>\n",
              "      <td>Malaysia</td>\n",
              "      <td>0</td>\n",
              "      <td>OasisPinnacle</td>\n",
              "      <td>#Nvidia</td>\n",
              "      <td>Some news: The nvidia RTX 3070 has been delaye...</td>\n",
              "      <td>1313018650438389760</td>\n",
              "      <td>Oasis@Pinnacle Coworking Space</td>\n",
              "      <td>0.1027</td>\n",
              "      <td>Technology</td>\n",
              "      <td>Nvidia</td>\n",
              "      <td>0.625000</td>\n",
              "      <td>0.437500</td>\n",
              "      <td>Positive</td>\n",
              "    </tr>\n",
              "    <tr>\n",
              "      <th>14</th>\n",
              "      <td>2020-10-05 07:25:29</td>\n",
              "      <td>Nvidia</td>\n",
              "      <td>44</td>\n",
              "      <td>251</td>\n",
              "      <td>Nvidia</td>\n",
              "      <td>NaN</td>\n",
              "      <td>0</td>\n",
              "      <td>BaligaVedanth</td>\n",
              "      <td>#Nvidia</td>\n",
              "      <td>Hello everyone! I am excited to announce that ...</td>\n",
              "      <td>1313017448342278147</td>\n",
              "      <td>Vedanth Baliga</td>\n",
              "      <td>0.8930</td>\n",
              "      <td>Technology</td>\n",
              "      <td>Nvidia</td>\n",
              "      <td>0.750000</td>\n",
              "      <td>0.468750</td>\n",
              "      <td>Positive</td>\n",
              "    </tr>\n",
              "    <tr>\n",
              "      <th>17</th>\n",
              "      <td>2020-10-05 06:06:28</td>\n",
              "      <td>Nvidia</td>\n",
              "      <td>16</td>\n",
              "      <td>71</td>\n",
              "      <td>Nvidia</td>\n",
              "      <td>Bengaluru, India</td>\n",
              "      <td>0</td>\n",
              "      <td>AnalyticsDrift</td>\n",
              "      <td>#Nvidia</td>\n",
              "      <td>Analytics Drift will be covering the NVIDIA GT...</td>\n",
              "      <td>1312997563570827264</td>\n",
              "      <td>Analytics Drift</td>\n",
              "      <td>0.7506</td>\n",
              "      <td>Technology</td>\n",
              "      <td>Nvidia</td>\n",
              "      <td>0.300000</td>\n",
              "      <td>1.000000</td>\n",
              "      <td>Positive</td>\n",
              "    </tr>\n",
              "    <tr>\n",
              "      <th>19</th>\n",
              "      <td>2020-10-05 05:39:41</td>\n",
              "      <td>Nvidia</td>\n",
              "      <td>81</td>\n",
              "      <td>296</td>\n",
              "      <td>Nvidia</td>\n",
              "      <td>Perth, Western Australia</td>\n",
              "      <td>0</td>\n",
              "      <td>ThaClynch</td>\n",
              "      <td>#Nvidia</td>\n",
              "      <td>So nvidia broadcast is like, the raddest thing...</td>\n",
              "      <td>1312990825685499904</td>\n",
              "      <td>I'm Not A Cool Guy Anymore</td>\n",
              "      <td>0.6239</td>\n",
              "      <td>Technology</td>\n",
              "      <td>Nvidia</td>\n",
              "      <td>0.850000</td>\n",
              "      <td>-0.500000</td>\n",
              "      <td>Negative</td>\n",
              "    </tr>\n",
              "    <tr>\n",
              "      <th>20</th>\n",
              "      <td>2020-10-05 05:27:12</td>\n",
              "      <td>Nvidia</td>\n",
              "      <td>62</td>\n",
              "      <td>181</td>\n",
              "      <td>Nvidia</td>\n",
              "      <td>San Jose, CA</td>\n",
              "      <td>0</td>\n",
              "      <td>stradvision</td>\n",
              "      <td>#Nvidia</td>\n",
              "      <td>StradVision has been selected as the top AI st...</td>\n",
              "      <td>1312987684378419205</td>\n",
              "      <td>StradVision</td>\n",
              "      <td>0.5255</td>\n",
              "      <td>Technology</td>\n",
              "      <td>Nvidia</td>\n",
              "      <td>0.633333</td>\n",
              "      <td>0.541667</td>\n",
              "      <td>Positive</td>\n",
              "    </tr>\n",
              "    <tr>\n",
              "      <th>21</th>\n",
              "      <td>2020-10-05 05:25:33</td>\n",
              "      <td>Nvidia</td>\n",
              "      <td>198</td>\n",
              "      <td>754</td>\n",
              "      <td>Nvidia</td>\n",
              "      <td>NaN</td>\n",
              "      <td>0</td>\n",
              "      <td>net200777</td>\n",
              "      <td>#Nvidia</td>\n",
              "      <td>ff  kick   ass!!!!!!! I was going to buy tw...</td>\n",
              "      <td>1312987267150032902</td>\n",
              "      <td>MAsterTroll</td>\n",
              "      <td>-0.8557</td>\n",
              "      <td>Technology</td>\n",
              "      <td>Nvidia</td>\n",
              "      <td>0.333333</td>\n",
              "      <td>-0.333333</td>\n",
              "      <td>Negative</td>\n",
              "    </tr>\n",
              "    <tr>\n",
              "      <th>22</th>\n",
              "      <td>2020-10-05 04:56:57</td>\n",
              "      <td>Nvidia</td>\n",
              "      <td>21</td>\n",
              "      <td>6</td>\n",
              "      <td>Nvidia</td>\n",
              "      <td>San Jose, CA</td>\n",
              "      <td>4</td>\n",
              "      <td>MaiCustomPC</td>\n",
              "      <td>#Nvidia</td>\n",
              "      <td>Ryzen 9 3900X/ RX 5700 XT/ 32 GB OF RAM. Start...</td>\n",
              "      <td>1312980071699763200</td>\n",
              "      <td>Mai PC</td>\n",
              "      <td>0.4199</td>\n",
              "      <td>Technology</td>\n",
              "      <td>Nvidia</td>\n",
              "      <td>0.533333</td>\n",
              "      <td>0.275000</td>\n",
              "      <td>Positive</td>\n",
              "    </tr>\n",
              "    <tr>\n",
              "      <th>23</th>\n",
              "      <td>2020-10-05 04:56:04</td>\n",
              "      <td>Nvidia</td>\n",
              "      <td>1085</td>\n",
              "      <td>1015</td>\n",
              "      <td>Nvidia</td>\n",
              "      <td>World wide</td>\n",
              "      <td>0</td>\n",
              "      <td>tek_fiz</td>\n",
              "      <td>#Nvidia</td>\n",
              "      <td>Fight With NVIDIA! AMD’s New Flagship Card Cor...</td>\n",
              "      <td>1312979848810295296</td>\n",
              "      <td>TekFiz</td>\n",
              "      <td>-0.4199</td>\n",
              "      <td>Technology</td>\n",
              "      <td>Nvidia</td>\n",
              "      <td>0.393939</td>\n",
              "      <td>0.193182</td>\n",
              "      <td>Positive</td>\n",
              "    </tr>\n",
              "    <tr>\n",
              "      <th>24</th>\n",
              "      <td>2020-10-05 04:52:02</td>\n",
              "      <td>Nvidia</td>\n",
              "      <td>185</td>\n",
              "      <td>303</td>\n",
              "      <td>Nvidia</td>\n",
              "      <td>This Planet</td>\n",
              "      <td>2</td>\n",
              "      <td>SecurChronicle</td>\n",
              "      <td>#Nvidia</td>\n",
              "      <td>Hi All, Please find Security Chronicle's Weekl...</td>\n",
              "      <td>1312978831754489862</td>\n",
              "      <td>Security Chronicle</td>\n",
              "      <td>0.7269</td>\n",
              "      <td>Technology</td>\n",
              "      <td>Nvidia</td>\n",
              "      <td>0.000000</td>\n",
              "      <td>0.000000</td>\n",
              "      <td>Neutral</td>\n",
              "    </tr>\n",
              "    <tr>\n",
              "      <th>25</th>\n",
              "      <td>2020-10-05 04:34:51</td>\n",
              "      <td>Nvidia</td>\n",
              "      <td>238</td>\n",
              "      <td>1209</td>\n",
              "      <td>Nvidia</td>\n",
              "      <td>Kerala, India</td>\n",
              "      <td>0</td>\n",
              "      <td>iVanPeer</td>\n",
              "      <td>#Nvidia</td>\n",
              "      <td>Imaginaire comprises of optimized implementati...</td>\n",
              "      <td>1312974510312710144</td>\n",
              "      <td>| praveen narayan 〉</td>\n",
              "      <td>0.4588</td>\n",
              "      <td>Technology</td>\n",
              "      <td>Nvidia</td>\n",
              "      <td>0.000000</td>\n",
              "      <td>0.000000</td>\n",
              "      <td>Neutral</td>\n",
              "    </tr>\n",
              "    <tr>\n",
              "      <th>26</th>\n",
              "      <td>2020-10-05 04:04:52</td>\n",
              "      <td>Nvidia</td>\n",
              "      <td>189</td>\n",
              "      <td>565</td>\n",
              "      <td>Nvidia</td>\n",
              "      <td>Charlotte, NC</td>\n",
              "      <td>0</td>\n",
              "      <td>babtwitch</td>\n",
              "      <td>#Nvidia</td>\n",
              "      <td>Really bummed the  broadcast locks up my compu...</td>\n",
              "      <td>1312966961916239872</td>\n",
              "      <td>Bab87</td>\n",
              "      <td>0.6360</td>\n",
              "      <td>Technology</td>\n",
              "      <td>Nvidia</td>\n",
              "      <td>0.320000</td>\n",
              "      <td>0.145000</td>\n",
              "      <td>Positive</td>\n",
              "    </tr>\n",
              "  </tbody>\n",
              "</table>\n",
              "</div>"
            ],
            "text/plain": [
              "             created_at file_name  ...  NewPolarity  Analysis\n",
              "0   2020-10-05 08:44:25    Nvidia  ...     0.700000  Positive\n",
              "1   2020-10-05 08:44:03    Nvidia  ...     0.250000  Positive\n",
              "2   2020-10-05 08:41:35    Nvidia  ...     0.375000  Positive\n",
              "3   2020-10-05 08:28:11    Nvidia  ...     0.000000   Neutral\n",
              "6   2020-10-05 08:13:47    Nvidia  ...     0.000000   Neutral\n",
              "9   2020-10-05 08:02:51    Nvidia  ...     0.033333  Positive\n",
              "10  2020-10-05 08:02:05    Nvidia  ...     0.090909  Positive\n",
              "11  2020-10-05 07:56:31    Nvidia  ...     0.000000   Neutral\n",
              "12  2020-10-05 07:48:19    Nvidia  ...     0.000000   Neutral\n",
              "13  2020-10-05 07:30:15    Nvidia  ...     0.437500  Positive\n",
              "14  2020-10-05 07:25:29    Nvidia  ...     0.468750  Positive\n",
              "17  2020-10-05 06:06:28    Nvidia  ...     1.000000  Positive\n",
              "19  2020-10-05 05:39:41    Nvidia  ...    -0.500000  Negative\n",
              "20  2020-10-05 05:27:12    Nvidia  ...     0.541667  Positive\n",
              "21  2020-10-05 05:25:33    Nvidia  ...    -0.333333  Negative\n",
              "22  2020-10-05 04:56:57    Nvidia  ...     0.275000  Positive\n",
              "23  2020-10-05 04:56:04    Nvidia  ...     0.193182  Positive\n",
              "24  2020-10-05 04:52:02    Nvidia  ...     0.000000   Neutral\n",
              "25  2020-10-05 04:34:51    Nvidia  ...     0.000000   Neutral\n",
              "26  2020-10-05 04:04:52    Nvidia  ...     0.145000  Positive\n",
              "\n",
              "[20 rows x 18 columns]"
            ]
          },
          "metadata": {},
          "execution_count": 40
        }
      ]
    },
    {
      "cell_type": "markdown",
      "metadata": {
        "id": "82xFrVF4av5X"
      },
      "source": [
        "Vectorizing the reviews"
      ]
    },
    {
      "cell_type": "code",
      "metadata": {
        "id": "i1gRkXbXy4hZ",
        "colab": {
          "base_uri": "https://localhost:8080/"
        },
        "outputId": "29e09cd3-a2d5-44b2-f696-2b3880ad3754"
      },
      "source": [
        "from textblob import TextBlob\n",
        "\n",
        "def getSubjectivity(text):\n",
        "    return TextBlob(text).sentiment.subjectivity\n",
        "\n",
        "def getPolarity(text):\n",
        "    return TextBlob(text).sentiment.polarity\n",
        "\n",
        "#def getFilteredText(text):\n",
        "#    text= cleanText(text);\n",
        "#    return text\n",
        "\n",
        "df['Subjectivity']=df['text'].apply(getSubjectivity)\n",
        "df['NewPolarity']=df['text'].apply(getPolarity)\n",
        "#df['CleanedText']=df['text'].apply(getFilteredText)"
      ],
      "execution_count": null,
      "outputs": [
        {
          "output_type": "stream",
          "name": "stderr",
          "text": [
            "/usr/local/lib/python3.7/dist-packages/ipykernel_launcher.py:13: SettingWithCopyWarning: \n",
            "A value is trying to be set on a copy of a slice from a DataFrame.\n",
            "Try using .loc[row_indexer,col_indexer] = value instead\n",
            "\n",
            "See the caveats in the documentation: https://pandas.pydata.org/pandas-docs/stable/user_guide/indexing.html#returning-a-view-versus-a-copy\n",
            "  del sys.path[0]\n",
            "/usr/local/lib/python3.7/dist-packages/ipykernel_launcher.py:14: SettingWithCopyWarning: \n",
            "A value is trying to be set on a copy of a slice from a DataFrame.\n",
            "Try using .loc[row_indexer,col_indexer] = value instead\n",
            "\n",
            "See the caveats in the documentation: https://pandas.pydata.org/pandas-docs/stable/user_guide/indexing.html#returning-a-view-versus-a-copy\n",
            "  \n"
          ]
        }
      ]
    },
    {
      "cell_type": "markdown",
      "metadata": {
        "id": "WcuLa6iIa5yU"
      },
      "source": [
        "Generating the wordcloud after text filtering"
      ]
    },
    {
      "cell_type": "code",
      "metadata": {
        "colab": {
          "base_uri": "https://localhost:8080/",
          "height": 264
        },
        "id": "M9QTh3MxSBFz",
        "outputId": "12d46ce9-573e-4c38-ae27-2eeee4f80700"
      },
      "source": [
        "#Plot a word cloud \n",
        "from wordcloud import WordCloud\n",
        "import tweepy\n",
        "import numpy as np\n",
        "import matplotlib.pyplot as plt\n",
        "plt.style.use('fivethirtyeight')\n",
        "\n",
        "restricted=['YOUTUBE','SUBSCRIBE','CHECK','twitch','New', 'video','Follow','Comment']+stopwords.words('english')\n",
        "\n",
        "allWords = ' '.join( [twts for twts in df['text']])\n",
        "wordCloud = WordCloud( width = 300, height= 300, random_state = 21, max_font_size = 119, stopwords=restricted).generate(allWords)\n",
        "\n",
        "plt.imshow(wordCloud, interpolation = \"bilinear\")\n",
        "plt.axis('off')\n",
        "plt.show()"
      ],
      "execution_count": null,
      "outputs": [
        {
          "output_type": "display_data",
          "data": {
            "image/png": "[encoded data removed]",
            "text/plain": [
              "<Figure size 432x288 with 1 Axes>"
            ]
          },
          "metadata": {}
        }
      ]
    },
    {
      "cell_type": "markdown",
      "metadata": {
        "id": "5XlrHiGkbAYf"
      },
      "source": [
        "Generating the analysis (Negative, Positive, Neutral)"
      ]
    },
    {
      "cell_type": "code",
      "metadata": {
        "id": "yokx5IWITwGB"
      },
      "source": [
        "#Create a function to compute positive, negative or neutral text\n",
        "\n",
        "def getAnalysis(score):\n",
        " if score < 0:\n",
        "  return 'Negative'\n",
        " elif score == 0:\n",
        "  return 'Neutral'\n",
        " else:\n",
        "  return 'Positive'\n",
        "\n",
        "df['Analysis']= df['NewPolarity'].apply(getAnalysis)\n"
      ],
      "execution_count": null,
      "outputs": []
    },
    {
      "cell_type": "code",
      "metadata": {
        "colab": {
          "base_uri": "https://localhost:8080/",
          "height": 1000
        },
        "id": "z5KMIn20TwNv",
        "outputId": "686a4449-45d1-4793-fe03-4db5b52ba718"
      },
      "source": [
        "df[['file_name', 'text', 'Subjectivity', 'NewPolarity','Analysis']].head(50)\n"
      ],
      "execution_count": null,
      "outputs": [
        {
          "output_type": "execute_result",
          "data": {
            "text/html": [
              "<div>\n",
              "<style scoped>\n",
              "    .dataframe tbody tr th:only-of-type {\n",
              "        vertical-align: middle;\n",
              "    }\n",
              "\n",
              "    .dataframe tbody tr th {\n",
              "        vertical-align: top;\n",
              "    }\n",
              "\n",
              "    .dataframe thead th {\n",
              "        text-align: right;\n",
              "    }\n",
              "</style>\n",
              "<table border=\"1\" class=\"dataframe\">\n",
              "  <thead>\n",
              "    <tr style=\"text-align: right;\">\n",
              "      <th></th>\n",
              "      <th>file_name</th>\n",
              "      <th>text</th>\n",
              "      <th>Subjectivity</th>\n",
              "      <th>NewPolarity</th>\n",
              "      <th>Analysis</th>\n",
              "    </tr>\n",
              "  </thead>\n",
              "  <tbody>\n",
              "    <tr>\n",
              "      <th>0</th>\n",
              "      <td>Nvidia</td>\n",
              "      <td>NVIDIA GauGAN is actually a good tool to pract...</td>\n",
              "      <td>0.600000</td>\n",
              "      <td>0.700000</td>\n",
              "      <td>Positive</td>\n",
              "    </tr>\n",
              "    <tr>\n",
              "      <th>1</th>\n",
              "      <td>Nvidia</td>\n",
              "      <td>BullSequana X2415, the first supercomputer bla...</td>\n",
              "      <td>0.277778</td>\n",
              "      <td>0.250000</td>\n",
              "      <td>Positive</td>\n",
              "    </tr>\n",
              "    <tr>\n",
              "      <th>2</th>\n",
              "      <td>Nvidia</td>\n",
              "      <td>I'm going to attend GTC 2020 tonight! Excited....</td>\n",
              "      <td>0.750000</td>\n",
              "      <td>0.375000</td>\n",
              "      <td>Positive</td>\n",
              "    </tr>\n",
              "    <tr>\n",
              "      <th>3</th>\n",
              "      <td>Nvidia</td>\n",
              "      <td>NVIDIA delays launch of GeForce RTX 3070 until...</td>\n",
              "      <td>0.000000</td>\n",
              "      <td>0.000000</td>\n",
              "      <td>Neutral</td>\n",
              "    </tr>\n",
              "    <tr>\n",
              "      <th>4</th>\n",
              "      <td>Nvidia</td>\n",
              "      <td>BullSequana X2415, the first supercomputer bla...</td>\n",
              "      <td>0.277778</td>\n",
              "      <td>0.250000</td>\n",
              "      <td>Positive</td>\n",
              "    </tr>\n",
              "    <tr>\n",
              "      <th>5</th>\n",
              "      <td>Nvidia</td>\n",
              "      <td>BullSequana X2415, the first supercomputer bla...</td>\n",
              "      <td>0.277778</td>\n",
              "      <td>0.250000</td>\n",
              "      <td>Positive</td>\n",
              "    </tr>\n",
              "    <tr>\n",
              "      <th>6</th>\n",
              "      <td>Nvidia</td>\n",
              "      <td>Today, don’t miss the World’s largest AI confe...</td>\n",
              "      <td>0.000000</td>\n",
              "      <td>0.000000</td>\n",
              "      <td>Neutral</td>\n",
              "    </tr>\n",
              "    <tr>\n",
              "      <th>7</th>\n",
              "      <td>Nvidia</td>\n",
              "      <td>BullSequana X2415, the first supercomputer bla...</td>\n",
              "      <td>0.277778</td>\n",
              "      <td>0.250000</td>\n",
              "      <td>Positive</td>\n",
              "    </tr>\n",
              "    <tr>\n",
              "      <th>8</th>\n",
              "      <td>Nvidia</td>\n",
              "      <td>BullSequana X2415, the first supercomputer bla...</td>\n",
              "      <td>0.277778</td>\n",
              "      <td>0.250000</td>\n",
              "      <td>Positive</td>\n",
              "    </tr>\n",
              "    <tr>\n",
              "      <th>9</th>\n",
              "      <td>Nvidia</td>\n",
              "      <td>NVIDIA GeForce RTX 30 Series – Top Facts &amp;amp;...</td>\n",
              "      <td>0.633333</td>\n",
              "      <td>0.033333</td>\n",
              "      <td>Positive</td>\n",
              "    </tr>\n",
              "    <tr>\n",
              "      <th>10</th>\n",
              "      <td>Nvidia</td>\n",
              "      <td>In a bizarre twist to this already highly co...</td>\n",
              "      <td>0.550649</td>\n",
              "      <td>0.090909</td>\n",
              "      <td>Positive</td>\n",
              "    </tr>\n",
              "    <tr>\n",
              "      <th>11</th>\n",
              "      <td>Nvidia</td>\n",
              "      <td>PhotoModeMonday  MAN'S ROAD ☁️      TheWitche...</td>\n",
              "      <td>0.000000</td>\n",
              "      <td>0.000000</td>\n",
              "      <td>Neutral</td>\n",
              "    </tr>\n",
              "    <tr>\n",
              "      <th>12</th>\n",
              "      <td>Nvidia</td>\n",
              "      <td>Hardware Utilization of VividSparks Products. ...</td>\n",
              "      <td>0.000000</td>\n",
              "      <td>0.000000</td>\n",
              "      <td>Neutral</td>\n",
              "    </tr>\n",
              "    <tr>\n",
              "      <th>13</th>\n",
              "      <td>Nvidia</td>\n",
              "      <td>Some news: The nvidia RTX 3070 has been delaye...</td>\n",
              "      <td>0.625000</td>\n",
              "      <td>0.437500</td>\n",
              "      <td>Positive</td>\n",
              "    </tr>\n",
              "    <tr>\n",
              "      <th>14</th>\n",
              "      <td>Nvidia</td>\n",
              "      <td>Hello everyone! I am excited to announce that ...</td>\n",
              "      <td>0.750000</td>\n",
              "      <td>0.468750</td>\n",
              "      <td>Positive</td>\n",
              "    </tr>\n",
              "    <tr>\n",
              "      <th>15</th>\n",
              "      <td>Nvidia</td>\n",
              "      <td>BullSequana X2415, the first supercomputer bla...</td>\n",
              "      <td>0.277778</td>\n",
              "      <td>0.250000</td>\n",
              "      <td>Positive</td>\n",
              "    </tr>\n",
              "    <tr>\n",
              "      <th>16</th>\n",
              "      <td>Nvidia</td>\n",
              "      <td>BullSequana X2415, the first supercomputer bla...</td>\n",
              "      <td>0.277778</td>\n",
              "      <td>0.250000</td>\n",
              "      <td>Positive</td>\n",
              "    </tr>\n",
              "    <tr>\n",
              "      <th>17</th>\n",
              "      <td>Nvidia</td>\n",
              "      <td>Analytics Drift will be covering the NVIDIA GT...</td>\n",
              "      <td>0.300000</td>\n",
              "      <td>1.000000</td>\n",
              "      <td>Positive</td>\n",
              "    </tr>\n",
              "    <tr>\n",
              "      <th>18</th>\n",
              "      <td>Nvidia</td>\n",
              "      <td>BullSequana X2415, the first supercomputer bla...</td>\n",
              "      <td>0.277778</td>\n",
              "      <td>0.250000</td>\n",
              "      <td>Positive</td>\n",
              "    </tr>\n",
              "    <tr>\n",
              "      <th>19</th>\n",
              "      <td>Nvidia</td>\n",
              "      <td>So nvidia broadcast is like, the raddest thing...</td>\n",
              "      <td>0.850000</td>\n",
              "      <td>-0.500000</td>\n",
              "      <td>Negative</td>\n",
              "    </tr>\n",
              "    <tr>\n",
              "      <th>20</th>\n",
              "      <td>Nvidia</td>\n",
              "      <td>StradVision has been selected as the top AI st...</td>\n",
              "      <td>0.633333</td>\n",
              "      <td>0.541667</td>\n",
              "      <td>Positive</td>\n",
              "    </tr>\n",
              "    <tr>\n",
              "      <th>21</th>\n",
              "      <td>Nvidia</td>\n",
              "      <td>ff  kick   ass!!!!!!! I was going to buy tw...</td>\n",
              "      <td>0.333333</td>\n",
              "      <td>-0.333333</td>\n",
              "      <td>Negative</td>\n",
              "    </tr>\n",
              "    <tr>\n",
              "      <th>22</th>\n",
              "      <td>Nvidia</td>\n",
              "      <td>Ryzen 9 3900X/ RX 5700 XT/ 32 GB OF RAM. Start...</td>\n",
              "      <td>0.533333</td>\n",
              "      <td>0.275000</td>\n",
              "      <td>Positive</td>\n",
              "    </tr>\n",
              "    <tr>\n",
              "      <th>23</th>\n",
              "      <td>Nvidia</td>\n",
              "      <td>Fight With NVIDIA! AMD’s New Flagship Card Cor...</td>\n",
              "      <td>0.393939</td>\n",
              "      <td>0.193182</td>\n",
              "      <td>Positive</td>\n",
              "    </tr>\n",
              "    <tr>\n",
              "      <th>24</th>\n",
              "      <td>Nvidia</td>\n",
              "      <td>Hi All, Please find Security Chronicle's Weekl...</td>\n",
              "      <td>0.000000</td>\n",
              "      <td>0.000000</td>\n",
              "      <td>Neutral</td>\n",
              "    </tr>\n",
              "    <tr>\n",
              "      <th>25</th>\n",
              "      <td>Nvidia</td>\n",
              "      <td>Imaginaire comprises of optimized implementati...</td>\n",
              "      <td>0.000000</td>\n",
              "      <td>0.000000</td>\n",
              "      <td>Neutral</td>\n",
              "    </tr>\n",
              "    <tr>\n",
              "      <th>26</th>\n",
              "      <td>Nvidia</td>\n",
              "      <td>Really bummed the  broadcast locks up my compu...</td>\n",
              "      <td>0.320000</td>\n",
              "      <td>0.145000</td>\n",
              "      <td>Positive</td>\n",
              "    </tr>\n",
              "    <tr>\n",
              "      <th>27</th>\n",
              "      <td>Nvidia</td>\n",
              "      <td>At VMworld 2020, , CEO,  predicts that 5G will...</td>\n",
              "      <td>0.477273</td>\n",
              "      <td>0.318182</td>\n",
              "      <td>Positive</td>\n",
              "    </tr>\n",
              "    <tr>\n",
              "      <th>28</th>\n",
              "      <td>Nvidia</td>\n",
              "      <td>PLANT THE SPIKE! I’m live on twitch playing VA...</td>\n",
              "      <td>0.500000</td>\n",
              "      <td>0.136364</td>\n",
              "      <td>Positive</td>\n",
              "    </tr>\n",
              "    <tr>\n",
              "      <th>29</th>\n",
              "      <td>Nvidia</td>\n",
              "      <td>Can you answer this? How to solve 'ERROR: An N...</td>\n",
              "      <td>0.000000</td>\n",
              "      <td>0.000000</td>\n",
              "      <td>Neutral</td>\n",
              "    </tr>\n",
              "    <tr>\n",
              "      <th>30</th>\n",
              "      <td>Nvidia</td>\n",
              "      <td>Installing and always keeping your PC ️ or GPU...</td>\n",
              "      <td>0.300000</td>\n",
              "      <td>1.000000</td>\n",
              "      <td>Positive</td>\n",
              "    </tr>\n",
              "    <tr>\n",
              "      <th>31</th>\n",
              "      <td>Nvidia</td>\n",
              "      <td>Its cold outside, now its time to game!!!!  vi...</td>\n",
              "      <td>0.483333</td>\n",
              "      <td>-0.525521</td>\n",
              "      <td>Negative</td>\n",
              "    </tr>\n",
              "    <tr>\n",
              "      <th>32</th>\n",
              "      <td>Nvidia</td>\n",
              "      <td>So what's the odds on if I can actually get an...</td>\n",
              "      <td>0.450000</td>\n",
              "      <td>0.200000</td>\n",
              "      <td>Positive</td>\n",
              "    </tr>\n",
              "    <tr>\n",
              "      <th>33</th>\n",
              "      <td>Nvidia</td>\n",
              "      <td>Nvidia , Domino’s, Cisco, Levi’s, and other st...</td>\n",
              "      <td>0.375000</td>\n",
              "      <td>-0.125000</td>\n",
              "      <td>Negative</td>\n",
              "    </tr>\n",
              "    <tr>\n",
              "      <th>34</th>\n",
              "      <td>Nvidia</td>\n",
              "      <td>Another huge shout out to  for the masterclass...</td>\n",
              "      <td>0.900000</td>\n",
              "      <td>0.400000</td>\n",
              "      <td>Positive</td>\n",
              "    </tr>\n",
              "    <tr>\n",
              "      <th>35</th>\n",
              "      <td>Nvidia</td>\n",
              "      <td>Actual photo of me admiring everyone's talent ...</td>\n",
              "      <td>0.100000</td>\n",
              "      <td>0.000000</td>\n",
              "      <td>Neutral</td>\n",
              "    </tr>\n",
              "    <tr>\n",
              "      <th>36</th>\n",
              "      <td>Nvidia</td>\n",
              "      <td>All I want to do is buy a rtx 3080 but can't. ...</td>\n",
              "      <td>0.666667</td>\n",
              "      <td>-0.383333</td>\n",
              "      <td>Negative</td>\n",
              "    </tr>\n",
              "    <tr>\n",
              "      <th>37</th>\n",
              "      <td>Nvidia</td>\n",
              "      <td>Gleaming in the Dark.  reddeadredemption2 RedD...</td>\n",
              "      <td>0.400000</td>\n",
              "      <td>-0.150000</td>\n",
              "      <td>Negative</td>\n",
              "    </tr>\n",
              "    <tr>\n",
              "      <th>38</th>\n",
              "      <td>Nvidia</td>\n",
              "      <td>Join me now for my end of month livestream dis...</td>\n",
              "      <td>0.400000</td>\n",
              "      <td>0.000000</td>\n",
              "      <td>Neutral</td>\n",
              "    </tr>\n",
              "    <tr>\n",
              "      <th>39</th>\n",
              "      <td>Nvidia</td>\n",
              "      <td>Very minor complaint, but why call the Canadia...</td>\n",
              "      <td>0.153333</td>\n",
              "      <td>-0.121667</td>\n",
              "      <td>Negative</td>\n",
              "    </tr>\n",
              "    <tr>\n",
              "      <th>40</th>\n",
              "      <td>Nvidia</td>\n",
              "      <td>Tourney starts at 4pm PST. Come support a smal...</td>\n",
              "      <td>0.400000</td>\n",
              "      <td>-0.250000</td>\n",
              "      <td>Negative</td>\n",
              "    </tr>\n",
              "    <tr>\n",
              "      <th>41</th>\n",
              "      <td>Nvidia</td>\n",
              "      <td>My new farm 2600$  1660 super nvidia mining</td>\n",
              "      <td>0.560606</td>\n",
              "      <td>0.234848</td>\n",
              "      <td>Positive</td>\n",
              "    </tr>\n",
              "    <tr>\n",
              "      <th>42</th>\n",
              "      <td>Nvidia</td>\n",
              "      <td>Well there's some cents ability. nvidia go g...</td>\n",
              "      <td>0.000000</td>\n",
              "      <td>0.000000</td>\n",
              "      <td>Neutral</td>\n",
              "    </tr>\n",
              "    <tr>\n",
              "      <th>43</th>\n",
              "      <td>Nvidia</td>\n",
              "      <td>Oct 5-9: NVIDIA $NVDA (UP +122% YTD) GPU Techn...</td>\n",
              "      <td>0.000000</td>\n",
              "      <td>0.000000</td>\n",
              "      <td>Neutral</td>\n",
              "    </tr>\n",
              "    <tr>\n",
              "      <th>44</th>\n",
              "      <td>Nvidia</td>\n",
              "      <td>nVidia if console games cater to an API co-dev...</td>\n",
              "      <td>0.000000</td>\n",
              "      <td>0.000000</td>\n",
              "      <td>Neutral</td>\n",
              "    </tr>\n",
              "    <tr>\n",
              "      <th>45</th>\n",
              "      <td>Nvidia</td>\n",
              "      <td>was able to stream and play warzone around 160...</td>\n",
              "      <td>0.512500</td>\n",
              "      <td>0.175000</td>\n",
              "      <td>Positive</td>\n",
              "    </tr>\n",
              "    <tr>\n",
              "      <th>46</th>\n",
              "      <td>Nvidia</td>\n",
              "      <td>MAKE sure to enter my giveaway 1x Rainbow Six ...</td>\n",
              "      <td>0.694444</td>\n",
              "      <td>0.000000</td>\n",
              "      <td>Neutral</td>\n",
              "    </tr>\n",
              "    <tr>\n",
              "      <th>47</th>\n",
              "      <td>Nvidia</td>\n",
              "      <td>life is 🟩   [ Follow Me] [Like❤] [Comment]  dr...</td>\n",
              "      <td>0.000000</td>\n",
              "      <td>0.000000</td>\n",
              "      <td>Neutral</td>\n",
              "    </tr>\n",
              "    <tr>\n",
              "      <th>48</th>\n",
              "      <td>Nvidia</td>\n",
              "      <td>&amp;gt; is sponsoring ’s GPU Technology Conf. GTC...</td>\n",
              "      <td>0.416667</td>\n",
              "      <td>0.183333</td>\n",
              "      <td>Positive</td>\n",
              "    </tr>\n",
              "    <tr>\n",
              "      <th>49</th>\n",
              "      <td>Nvidia</td>\n",
              "      <td>This is deep   Nvidia</td>\n",
              "      <td>0.400000</td>\n",
              "      <td>0.000000</td>\n",
              "      <td>Neutral</td>\n",
              "    </tr>\n",
              "  </tbody>\n",
              "</table>\n",
              "</div>"
            ],
            "text/plain": [
              "   file_name  ...  Analysis\n",
              "0     Nvidia  ...  Positive\n",
              "1     Nvidia  ...  Positive\n",
              "2     Nvidia  ...  Positive\n",
              "3     Nvidia  ...   Neutral\n",
              "4     Nvidia  ...  Positive\n",
              "5     Nvidia  ...  Positive\n",
              "6     Nvidia  ...   Neutral\n",
              "7     Nvidia  ...  Positive\n",
              "8     Nvidia  ...  Positive\n",
              "9     Nvidia  ...  Positive\n",
              "10    Nvidia  ...  Positive\n",
              "11    Nvidia  ...   Neutral\n",
              "12    Nvidia  ...   Neutral\n",
              "13    Nvidia  ...  Positive\n",
              "14    Nvidia  ...  Positive\n",
              "15    Nvidia  ...  Positive\n",
              "16    Nvidia  ...  Positive\n",
              "17    Nvidia  ...  Positive\n",
              "18    Nvidia  ...  Positive\n",
              "19    Nvidia  ...  Negative\n",
              "20    Nvidia  ...  Positive\n",
              "21    Nvidia  ...  Negative\n",
              "22    Nvidia  ...  Positive\n",
              "23    Nvidia  ...  Positive\n",
              "24    Nvidia  ...   Neutral\n",
              "25    Nvidia  ...   Neutral\n",
              "26    Nvidia  ...  Positive\n",
              "27    Nvidia  ...  Positive\n",
              "28    Nvidia  ...  Positive\n",
              "29    Nvidia  ...   Neutral\n",
              "30    Nvidia  ...  Positive\n",
              "31    Nvidia  ...  Negative\n",
              "32    Nvidia  ...  Positive\n",
              "33    Nvidia  ...  Negative\n",
              "34    Nvidia  ...  Positive\n",
              "35    Nvidia  ...   Neutral\n",
              "36    Nvidia  ...  Negative\n",
              "37    Nvidia  ...  Negative\n",
              "38    Nvidia  ...   Neutral\n",
              "39    Nvidia  ...  Negative\n",
              "40    Nvidia  ...  Negative\n",
              "41    Nvidia  ...  Positive\n",
              "42    Nvidia  ...   Neutral\n",
              "43    Nvidia  ...   Neutral\n",
              "44    Nvidia  ...   Neutral\n",
              "45    Nvidia  ...  Positive\n",
              "46    Nvidia  ...   Neutral\n",
              "47    Nvidia  ...   Neutral\n",
              "48    Nvidia  ...  Positive\n",
              "49    Nvidia  ...   Neutral\n",
              "\n",
              "[50 rows x 5 columns]"
            ]
          },
          "metadata": {},
          "execution_count": 12
        }
      ]
    },
    {
      "cell_type": "markdown",
      "metadata": {
        "id": "5rDH719ZbLjm"
      },
      "source": [
        "Plotting the Subjectivity vs Polarity graph for first 1500 reviews"
      ]
    },
    {
      "cell_type": "code",
      "metadata": {
        "colab": {
          "base_uri": "https://localhost:8080/",
          "height": 441
        },
        "id": "_OPzDCAQVBDC",
        "outputId": "7651db47-68df-4fca-9b25-2e85aef43387"
      },
      "source": [
        "#plot the polarity and subjectivity\n",
        "plt.figure(figsize=(8,6))\n",
        "for i in range(0, 1500):\n",
        "  plt.scatter(df['NewPolarity'][i], df['Subjectivity'][i], color='Blue')\n",
        "\n",
        "  plt.title('Sentiment Analysis')\n",
        "  plt.xlabel('Polarity')\n",
        "  plt.ylabel('Subjectivity')\n",
        "plt.show()"
      ],
      "execution_count": null,
      "outputs": [
        {
          "output_type": "display_data",
          "data": {
            "image/png": "[encoded data removed]",
            "text/plain": [
              "<Figure size 576x432 with 1 Axes>"
            ]
          },
          "metadata": {}
        }
      ]
    },
    {
      "cell_type": "code",
      "metadata": {
        "colab": {
          "base_uri": "https://localhost:8080/"
        },
        "id": "9iWTUEPKgx3Y",
        "outputId": "2074758e-b106-4483-dfcc-42e926e6d983"
      },
      "source": [
        "df.shape[0]"
      ],
      "execution_count": null,
      "outputs": [
        {
          "output_type": "execute_result",
          "data": {
            "text/plain": [
              "266095"
            ]
          },
          "metadata": {},
          "execution_count": 25
        }
      ]
    },
    {
      "cell_type": "markdown",
      "metadata": {
        "id": "u3uUw3TYbdAG"
      },
      "source": [
        "Plotting the Subjectivity vs Polarity graph for Nvidia throughout the dataframe"
      ]
    },
    {
      "cell_type": "code",
      "metadata": {
        "colab": {
          "base_uri": "https://localhost:8080/",
          "height": 441
        },
        "id": "YPjv1rOpf9ES",
        "outputId": "c540593a-125f-4342-e00b-72897a408244"
      },
      "source": [
        "#plot the polarity and subjectivity\n",
        "plt.figure(figsize=(8,6))\n",
        "for i in range(0, df.shape[0]):\n",
        "  if (df['file_name'][i]=='Nvidia'):\n",
        "        plt.scatter(df['NewPolarity'][i], df['Subjectivity'][i], color='Green')\n",
        "\n",
        "  plt.title('Sentiment Analysis Of Nvidia And its Products')\n",
        "  plt.xlabel('Polarity')\n",
        "  plt.ylabel('Subjectivity')\n",
        "plt.show()"
      ],
      "execution_count": null,
      "outputs": [
        {
          "output_type": "display_data",
          "data": {
            "image/png": "[encoded data removed]",
            "text/plain": [
              "<Figure size 576x432 with 1 Axes>"
            ]
          },
          "metadata": {}
        }
      ]
    },
    {
      "cell_type": "markdown",
      "metadata": {
        "id": "VekL_7tdbnbn"
      },
      "source": [
        "Plotting the Subjectivity vs Polarity graph for Twitch throughout the dataframe"
      ]
    },
    {
      "cell_type": "code",
      "metadata": {
        "colab": {
          "base_uri": "https://localhost:8080/"
        },
        "id": "mG-vkv0yb5G-",
        "outputId": "22b70708-ad6b-439a-eec2-504ccfd75d6f"
      },
      "source": [
        "#Get the percentage of Positive tweets\n",
        "ptweets = df[df.Analysis == 'Positive']\n",
        "ptweets = ptweets['text']\n",
        "\n",
        "round(  (ptweets.shape[0] / df.shape[0]) *100, 1)"
      ],
      "execution_count": null,
      "outputs": [
        {
          "output_type": "execute_result",
          "data": {
            "text/plain": [
              "51.5"
            ]
          },
          "metadata": {},
          "execution_count": 15
        }
      ]
    },
    {
      "cell_type": "code",
      "metadata": {
        "colab": {
          "base_uri": "https://localhost:8080/"
        },
        "id": "GoIDmwhwR7I6",
        "outputId": "07c673a7-6374-4d45-c6c4-179ad148e08b"
      },
      "source": [
        "nvidia = ptweets[df.file_name=='Nvidia']\n",
        "ms = ptweets[df.file_name=='Microsoft']\n",
        "amd = ptweets[df.file_name=='AMD']\n",
        "amazon = ptweets[df.file_name=='Amazon']\n",
        "twitch = ptweets[df.file_name=='Twitch']\n",
        "apple = ptweets[df.file_name=='Apple']\n",
        "youtube = ptweets[df.file_name=='Youtube']\n",
        "tesla = ptweets[df.file_name=='Tesla']\n",
        "google = ptweets[df.file_name=='Google']\n",
        "netflix = ptweets[df.file_name=='Netflix']\n",
        "\n",
        "\n",
        "\n",
        "print(\"Positive reviews regarding Nvidia and its products: \"+str(round(  (nvidia.shape[0] / ptweets.shape[0]) *100,1))+\"%\")\n",
        "print(\"Positive reviews regarding Microsoft and its products: \"+str(round(  (ms.shape[0] / ptweets.shape[0]) *100, 1))+\"%\")\n",
        "print(\"Positive reviews regarding AMD and its products: \"+str(round(  (amd.shape[0] / ptweets.shape[0]) *100, 1))+\"%\")\n",
        "print(\"Positive reviews regarding Amazon and its products: \"+str(round(  (amazon.shape[0] / ptweets.shape[0]) *100, 1))+\"%\")\n",
        "print(\"Positive reviews regarding Twitch and its products: \"+str(round(  (twitch.shape[0] / ptweets.shape[0]) *100, 1))+\"%\")\n",
        "print(\"Positive reviews regarding Apple and its products: \"+str(round(  (apple.shape[0] / ptweets.shape[0]) *100, 1))+\"%\")\n",
        "print(\"Positive reviews regarding Youtube and its products: \"+str(round(  (youtube.shape[0] / ptweets.shape[0]) *100, 1))+\"%\")\n",
        "print(\"Positive reviews regarding Tesla and its products: \"+str(round(  (tesla.shape[0] / ptweets.shape[0]) *100, 1))+\"%\")\n",
        "print(\"Positive reviews regarding Google and its products: \"+str(round(  (google.shape[0] / ptweets.shape[0]) *100, 1))+\"%\")\n",
        "print(\"Positive reviews regarding Netflix and its products: \"+str(round(  (netflix.shape[0] / ptweets.shape[0]) *100, 1))+\"%\")\n"
      ],
      "execution_count": null,
      "outputs": [
        {
          "output_type": "stream",
          "name": "stdout",
          "text": [
            "Positive reviews regarding Nvidia and its products: 1.4%\n",
            "Positive reviews regarding Microsoft and its products: 9.3%\n",
            "Positive reviews regarding AMD and its products: 1.3%\n",
            "Positive reviews regarding Amazon and its products: 10.1%\n",
            "Positive reviews regarding Twitch and its products: 17.4%\n",
            "Positive reviews regarding Apple and its products: 14.4%\n",
            "Positive reviews regarding Youtube and its products: 14.0%\n",
            "Positive reviews regarding Tesla and its products: 6.4%\n",
            "Positive reviews regarding Google and its products: 11.7%\n",
            "Positive reviews regarding Netflix and its products: 13.9%\n"
          ]
        }
      ]
    },
    {
      "cell_type": "code",
      "metadata": {
        "colab": {
          "base_uri": "https://localhost:8080/"
        },
        "id": "9n7Cj8AtcVwq",
        "outputId": "e597380f-b29e-4b08-e4c8-1ebbea1e45d3"
      },
      "source": [
        "#Get the percentage of Negative tweets\n",
        "ntweets=df[df.Analysis == 'Negative']\n",
        "ntweets = ntweets['text']\n",
        "round(  (ntweets.shape[0] / df.shape[0]) *100, 1)"
      ],
      "execution_count": null,
      "outputs": [
        {
          "output_type": "execute_result",
          "data": {
            "text/plain": [
              "12.5"
            ]
          },
          "metadata": {},
          "execution_count": 17
        }
      ]
    },
    {
      "cell_type": "code",
      "metadata": {
        "colab": {
          "base_uri": "https://localhost:8080/"
        },
        "id": "LELBNJ7rZd6I",
        "outputId": "705408a5-5a4b-4fc5-8319-72066da292f6"
      },
      "source": [
        "nvidiant = ntweets[df.file_name=='Nvidia']\n",
        "msnt = ntweets[df.file_name=='Microsoft']\n",
        "amdnt = ntweets[df.file_name=='AMD']\n",
        "amazonnt = ntweets[df.file_name=='Amazon']\n",
        "twitchnt = ntweets[df.file_name=='Twitch']\n",
        "applent = ntweets[df.file_name=='Apple']\n",
        "youtubent = ntweets[df.file_name=='Youtube']\n",
        "teslant = ntweets[df.file_name=='Tesla']\n",
        "googlent = ntweets[df.file_name=='Google']\n",
        "netflixnt = ntweets[df.file_name=='Netflix']\n",
        "\n",
        "print(\"Negative reviews regarding Nvidia and its products: \"+str(round(  (nvidiant.shape[0] / ntweets.shape[0]) *100, 1))+\"%\")\n",
        "print(\"Negative reviews regarding Microsoft and its products: \"+str(round(  (msnt.shape[0] / ntweets.shape[0]) *100, 1))+\"%\")\n",
        "print(\"Negative reviews regarding AMD and its products: \"+str(round(  (amdnt.shape[0] / ntweets.shape[0]) *100, 1))+\"%\")\n",
        "print(\"Negative reviews regarding Amazon and its products: \"+str(round(  (amazonnt.shape[0] / ntweets.shape[0]) *100, 1))+\"%\")\n",
        "print(\"Negative reviews regarding Twitch and its products: \"+str(round(  (twitchnt.shape[0] / ntweets.shape[0]) *100, 1))+\"%\")\n",
        "print(\"Negative reviews regarding Apple and its products: \"+str(round(  (applent.shape[0] / ntweets.shape[0]) *100, 1))+\"%\")\n",
        "print(\"Negative reviews regarding Youtube and its products: \"+str(round(  (youtubent.shape[0] / ntweets.shape[0]) *100, 1))+\"%\")\n",
        "print(\"Negative reviews regarding Tesla and its products: \"+str(round(  (teslant.shape[0] / ntweets.shape[0]) *100, 1))+\"%\")\n",
        "print(\"Negative reviews regarding Google and its products: \"+str(round(  (googlent.shape[0] / ntweets.shape[0]) *100, 1))+\"%\")\n",
        "print(\"Negative reviews regarding Netflix and its products: \"+str(round(  (netflixnt.shape[0] / ntweets.shape[0]) *100, 1))+\"%\")\n"
      ],
      "execution_count": null,
      "outputs": [
        {
          "output_type": "stream",
          "name": "stdout",
          "text": [
            "Negative reviews regarding Nvidia and its products: 1.8%\n",
            "Negative reviews regarding Microsoft and its products: 9.5%\n",
            "Negative reviews regarding AMD and its products: 1.0%\n",
            "Negative reviews regarding Amazon and its products: 7.5%\n",
            "Negative reviews regarding Twitch and its products: 17.2%\n",
            "Negative reviews regarding Apple and its products: 14.7%\n",
            "Negative reviews regarding Youtube and its products: 13.1%\n",
            "Negative reviews regarding Tesla and its products: 7.6%\n",
            "Negative reviews regarding Google and its products: 10.7%\n",
            "Negative reviews regarding Netflix and its products: 16.9%\n"
          ]
        }
      ]
    },
    {
      "cell_type": "code",
      "metadata": {
        "colab": {
          "base_uri": "https://localhost:8080/"
        },
        "id": "CP3e8Cj5chcb",
        "outputId": "be989ba6-7709-4368-8d17-8ccedd3fed2f"
      },
      "source": [
        "#Get the percentage of Neutral tweets\n",
        "netweets=df[df.Analysis == 'Neutral']\n",
        "netweets = netweets['text']\n",
        "round(  (netweets.shape[0] / df.shape[0]) *100, 1)"
      ],
      "execution_count": null,
      "outputs": [
        {
          "output_type": "execute_result",
          "data": {
            "text/plain": [
              "36.0"
            ]
          },
          "metadata": {},
          "execution_count": 19
        }
      ]
    },
    {
      "cell_type": "code",
      "metadata": {
        "colab": {
          "base_uri": "https://localhost:8080/",
          "height": 374
        },
        "id": "snL-OMEpcwHx",
        "outputId": "764810cb-64ba-476b-dc78-e5a40d14054a"
      },
      "source": [
        "#Show the value counts\n",
        "\n",
        "df['Analysis'].value_counts()\n",
        "\n",
        "#plot and visualize the counts\n",
        "plt.title('Sentiment Analysis')\n",
        "plt.xlabel('Sentiment')\n",
        "plt.ylabel('Count')\n",
        "df['Analysis'].value_counts().plot(kind='bar')\n",
        "#amd.value_counts().plot(kind='bar')\n",
        "\n",
        "\n",
        "plt.show()\n"
      ],
      "execution_count": null,
      "outputs": [
        {
          "output_type": "display_data",
          "data": {
            "image/png": "[encoded data removed]",
            "text/plain": [
              "<Figure size 432x288 with 1 Axes>"
            ]
          },
          "metadata": {}
        }
      ]
    },
    {
      "cell_type": "code",
      "metadata": {
        "id": "0h34AaEN-BM7"
      },
      "source": [
        "#positive reviews variables\n",
        "p_nvidia=round((nvidia.shape[0] / ptweets.shape[0])*100,1)\n",
        "p_ms=round((ms.shape[0] / ptweets.shape[0])*100,1)\n",
        "p_amd=round((amd.shape[0] / ptweets.shape[0])*100,1)\n",
        "p_amz=round((amazon.shape[0] / ptweets.shape[0])*100,1)\n",
        "p_twitch=round((twitch.shape[0] / ptweets.shape[0])*100,1)\n",
        "p_apple=round((apple.shape[0] / ptweets.shape[0])*100,1)\n",
        "p_ytube=round((youtube.shape[0] / ptweets.shape[0])*100,1)\n",
        "p_tesla=round((tesla.shape[0] / ptweets.shape[0])*100,1)\n",
        "p_google=round((netflix.shape[0] / ptweets.shape[0])*100,1)\n",
        "p_netflix=round((netflix.shape[0] / ptweets.shape[0])*100,1)\n",
        "\n",
        "#negative reviews variables\n",
        "n_nvidia=round((nvidiant.shape[0] / ntweets.shape[0])*100,1)\n",
        "n_ms=round((msnt.shape[0] / ntweets.shape[0])*100,1)\n",
        "n_amd=round((amdnt.shape[0] / ntweets.shape[0])*100,1)\n",
        "n_amz=round((amazonnt.shape[0] / ntweets.shape[0])*100,1)\n",
        "n_twitch=round((twitchnt.shape[0] / ntweets.shape[0])*100,1)\n",
        "n_apple=round((applent.shape[0] / ntweets.shape[0])*100,1)\n",
        "n_ytube=round((youtubent.shape[0] / ntweets.shape[0])*100,1)\n",
        "n_tesla=round((teslant.shape[0] / ntweets.shape[0])*100,1)\n",
        "n_google=round((netflixnt.shape[0] / ntweets.shape[0])*100,1)\n",
        "n_netflix=round((netflixnt.shape[0] / ntweets.shape[0])*100,1)"
      ],
      "execution_count": null,
      "outputs": []
    },
    {
      "cell_type": "code",
      "metadata": {
        "colab": {
          "base_uri": "https://localhost:8080/",
          "height": 350
        },
        "id": "aQl64NmV2Uts",
        "outputId": "978792c3-845f-43d4-e3f5-c222d00ce296"
      },
      "source": [
        "plotdata = pd.DataFrame({\n",
        "    \"positive reviews\":[p_nvidia,p_ms,p_amd,p_amz,p_twitch,p_apple,p_ytube,p_tesla,p_google,p_netflix],\n",
        "    \"negative reviews\":[n_nvidia,n_ms,n_amd,n_amz,n_twitch,n_apple,n_ytube,n_tesla,n_google,n_netflix]\n",
        "    }, \n",
        "    index=[\"Nvidia\",\"Microsoft\",\"AMD\",\"Amazon\",\"Twitch\",\"Apple\", \"Youtube\",\"Tesla\",\"Google\",\"Netflix\"]\n",
        ")\n",
        "\n",
        "plotdata.plot(kind=\"bar\")"
      ],
      "execution_count": null,
      "outputs": [
        {
          "output_type": "execute_result",
          "data": {
            "text/plain": [
              "<matplotlib.axes._subplots.AxesSubplot at 0x7f49952cdfd0>"
            ]
          },
          "metadata": {},
          "execution_count": 22
        },
        {
          "output_type": "display_data",
          "data": {
            "image/png": "[encoded data removed]",
            "text/plain": [
              "<Figure size 432x288 with 1 Axes>"
            ]
          },
          "metadata": {}
        }
      ]
    }
  ]
}